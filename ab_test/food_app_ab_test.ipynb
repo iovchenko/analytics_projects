{
 "cells": [
  {
   "cell_type": "markdown",
   "metadata": {},
   "source": [
    "# Анализ поведения пользователей в мобильном приложении\n",
    "## Описание проекта\n",
    "Я работаю аналитиком в стартапе, занимающимся продуктами питания. Мне необходимо проверить поведение пользователей в мобильном приложении. \n",
    "\n",
    "### Цели проекта\n",
    "Необходимо изучить воронку продаж, посмотреть где и сколько пользователей застревает, сколько в итоге доходит до покупки.\n",
    "\n",
    "После необходимо провести А/А/В-тест по смене шрифта. Две группы будут контрольными, которым не будут менять шрифт, это заодно проверит чистоту нашего эксперимента, а также установить время, после которого можно считать, что эксперимент стабилизировался. \n",
    "\n",
    "### Описание данных\n",
    "Каждая запись в логе — это действие пользователя, или событие.\n",
    "* `EventName` — название события;\n",
    "* `DeviceIDHash` — уникальный идентификатор пользователя;\n",
    "* `EventTimestamp` — время события;\n",
    "* `ExpId` — номер эксперимента: 246 и 247 — контрольные группы, а 248 — экспериментальная.\n",
    "\n",
    "### Инструкция по выполнению проекта\n",
    "**1. Открыть файл с данными и изучите общую информацию**\n",
    "\n",
    "\n",
    "**2. Подготовить данные**\n",
    "* Заменить названия столбцов на удобные для вас;\n",
    "* Проверить пропуски и типы данных. Откорректируйте, если нужно;\n",
    "* Добавить столбец даты и времени, а также отдельный столбец дат;\n",
    "\n",
    "\n",
    "**3. Изучите и проверьте данные**\n",
    "* Какое количество событий в логе?\n",
    "* Какое количество пользователей в логе?\n",
    "* Какое среднее количество событий приходится на пользователя?\n",
    "* Данными за какой период у нас имеются? Найти максимальную и минимальную дату. Построить гистограмму по дате и времени. Можно ли быть уверенным, что у вас одинаково полные данные за весь период, учитывая что в логи новых дней по некоторым пользователям могут «доезжать» события из прошлого. Определить, с какого момента данные полные и отбросьте более старые. Данными за какой период времени у нас есть на самом деле?\n",
    "* Много ли событий и пользователей вы потеряли, отбросив старые данные?\n",
    "* Проверить, что у вас есть пользователи из всех трёх экспериментальных групп.\n",
    "\n",
    "\n",
    "**4. Изучить воронку событий**\n",
    "* Посмотреть, какие события есть в логах, как часто они встречаются. Отсортировать события по частоте.\n",
    "* Посчитать, сколько пользователей совершали каждое из этих событий. Отсортировать события по числу пользователей. Посчитать долю пользователей, которые хоть раз совершали событие.\n",
    "* Предположить, в каком порядке происходят события. Все ли они выстраиваются в последовательную цепочку? Их не нужно учитывать при расчёте воронки.\n",
    "* По воронке событий посчитать, какая доля пользователей проходит на следующий шаг воронки (от числа пользователей на предыдущем).\n",
    "* На каком шаге теряется больше всего пользователей?\n",
    "* Какая доля пользователей доходит от первого события до оплаты?\n",
    "\n",
    "\n",
    "**5. Изучите результаты эксперимента**\n",
    "* Сколько пользователей в каждой экспериментальной группе? \n",
    "* Проверить, находят ли статистические критерии разницу между выборками 246 и 247.\n",
    "* Выбрать самое популярное событие. Посчитать число пользователей, совершивших это событие в каждой из контрольных групп. Посчитать долю пользователей, совершивших это событие. Проверить, будет ли отличие между группами статистически достоверным. Проделать то же самое для всех других событий (удобно обернуть проверку в отдельную функцию). Можно ли сказать, что разбиение на группы работает корректно?\n",
    "* Аналогично поступить с группой с изменённым шрифтом. Сравнить результаты с каждой из контрольных групп в отдельности по каждому событию. Сравнить результаты с объединённой контрольной группой. Какие выводы из эксперимента можно сделать?\n",
    "* Какой уровень значимости выбрать при проверке статистических гипотез выше? Посчитать, сколько проверок статистических гипотез было сделано. При уровне значимости 0.1 каждый десятый раз можно получать ложный результат. Какой уровень значимости стоит применить? Если вы хотите изменить его, проделайте предыдущие пункты и проверьте свои выводы."
   ]
  },
  {
   "cell_type": "markdown",
   "metadata": {},
   "source": [
    "## Открытие файла с данными и первичный анализ\n",
    "### Импорт библиотек"
   ]
  },
  {
   "cell_type": "code",
   "execution_count": 55,
   "metadata": {},
   "outputs": [],
   "source": [
    "import pandas as pd\n",
    "from matplotlib import pyplot as plt\n",
    "import seaborn as sns\n",
    "import plotly.express as px\n",
    "from plotly import graph_objects as go \n",
    "from datetime import datetime\n",
    "import scipy.stats as stats\n",
    "import numpy as np\n",
    "import math as mth"
   ]
  },
  {
   "cell_type": "code",
   "execution_count": 56,
   "metadata": {},
   "outputs": [
    {
     "name": "stdout",
     "output_type": "stream",
     "text": [
      "<class 'pandas.core.frame.DataFrame'>\n",
      "RangeIndex: 244126 entries, 0 to 244125\n",
      "Data columns (total 4 columns):\n",
      " #   Column          Non-Null Count   Dtype \n",
      "---  ------          --------------   ----- \n",
      " 0   EventName       244126 non-null  object\n",
      " 1   DeviceIDHash    244126 non-null  int64 \n",
      " 2   EventTimestamp  244126 non-null  int64 \n",
      " 3   ExpId           244126 non-null  int64 \n",
      "dtypes: int64(3), object(1)\n",
      "memory usage: 7.5+ MB\n"
     ]
    }
   ],
   "source": [
    "df = pd.read_csv('https://code.s3.yandex.net/datasets/logs_exp.csv', sep='\\t')\n",
    "df.info()"
   ]
  },
  {
   "cell_type": "markdown",
   "metadata": {},
   "source": [
    "Пропусков не наблюдается."
   ]
  },
  {
   "cell_type": "markdown",
   "metadata": {},
   "source": [
    "## Подготовка данных\n",
    "### Переименование столбцов\n",
    "Переведём всё в любимый змеиный регистр"
   ]
  },
  {
   "cell_type": "code",
   "execution_count": 57,
   "metadata": {},
   "outputs": [
    {
     "data": {
      "text/html": [
       "<div>\n",
       "<style scoped>\n",
       "    .dataframe tbody tr th:only-of-type {\n",
       "        vertical-align: middle;\n",
       "    }\n",
       "\n",
       "    .dataframe tbody tr th {\n",
       "        vertical-align: top;\n",
       "    }\n",
       "\n",
       "    .dataframe thead th {\n",
       "        text-align: right;\n",
       "    }\n",
       "</style>\n",
       "<table border=\"1\" class=\"dataframe\">\n",
       "  <thead>\n",
       "    <tr style=\"text-align: right;\">\n",
       "      <th></th>\n",
       "      <th>event_name</th>\n",
       "      <th>user_id</th>\n",
       "      <th>event_ts</th>\n",
       "      <th>exp_id</th>\n",
       "    </tr>\n",
       "  </thead>\n",
       "  <tbody>\n",
       "    <tr>\n",
       "      <th>0</th>\n",
       "      <td>MainScreenAppear</td>\n",
       "      <td>4575588528974610257</td>\n",
       "      <td>1564029816</td>\n",
       "      <td>246</td>\n",
       "    </tr>\n",
       "    <tr>\n",
       "      <th>1</th>\n",
       "      <td>MainScreenAppear</td>\n",
       "      <td>7416695313311560658</td>\n",
       "      <td>1564053102</td>\n",
       "      <td>246</td>\n",
       "    </tr>\n",
       "    <tr>\n",
       "      <th>2</th>\n",
       "      <td>PaymentScreenSuccessful</td>\n",
       "      <td>3518123091307005509</td>\n",
       "      <td>1564054127</td>\n",
       "      <td>248</td>\n",
       "    </tr>\n",
       "    <tr>\n",
       "      <th>3</th>\n",
       "      <td>CartScreenAppear</td>\n",
       "      <td>3518123091307005509</td>\n",
       "      <td>1564054127</td>\n",
       "      <td>248</td>\n",
       "    </tr>\n",
       "    <tr>\n",
       "      <th>4</th>\n",
       "      <td>PaymentScreenSuccessful</td>\n",
       "      <td>6217807653094995999</td>\n",
       "      <td>1564055322</td>\n",
       "      <td>248</td>\n",
       "    </tr>\n",
       "  </tbody>\n",
       "</table>\n",
       "</div>"
      ],
      "text/plain": [
       "                event_name              user_id    event_ts  exp_id\n",
       "0         MainScreenAppear  4575588528974610257  1564029816     246\n",
       "1         MainScreenAppear  7416695313311560658  1564053102     246\n",
       "2  PaymentScreenSuccessful  3518123091307005509  1564054127     248\n",
       "3         CartScreenAppear  3518123091307005509  1564054127     248\n",
       "4  PaymentScreenSuccessful  6217807653094995999  1564055322     248"
      ]
     },
     "execution_count": 57,
     "metadata": {},
     "output_type": "execute_result"
    }
   ],
   "source": [
    "df = df.rename(\n",
    "    columns = {\n",
    "        'EventName': 'event_name',\n",
    "        'DeviceIDHash': 'user_id',\n",
    "        'EventTimestamp': 'event_ts',\n",
    "        'ExpId': 'exp_id'\n",
    "    }\n",
    ")\n",
    "df.head()"
   ]
  },
  {
   "cell_type": "markdown",
   "metadata": {},
   "source": [
    "### Проверка на дубликаты\n",
    "Сперва надо проверить всё на явные дубликаты"
   ]
  },
  {
   "cell_type": "code",
   "execution_count": 58,
   "metadata": {},
   "outputs": [
    {
     "data": {
      "text/plain": [
       "False    243713\n",
       "True        413\n",
       "dtype: int64"
      ]
     },
     "execution_count": 58,
     "metadata": {},
     "output_type": "execute_result"
    }
   ],
   "source": [
    "df.duplicated().value_counts()"
   ]
  },
  {
   "cell_type": "markdown",
   "metadata": {},
   "source": [
    "В датафрейме имеются 413 дубликатов. Поскольку один пользователь в один и тот же момент не мог совершить дважды одно и то же действие, то эти повторы смело сносим."
   ]
  },
  {
   "cell_type": "code",
   "execution_count": 59,
   "metadata": {
    "scrolled": true
   },
   "outputs": [],
   "source": [
    "df = df.drop_duplicates(keep='first', ignore_index = True)"
   ]
  },
  {
   "cell_type": "markdown",
   "metadata": {},
   "source": [
    "### Изменение типа данных\n",
    "Все данные у нас ок, кроме данных с временем событий, поэтому переведём его в соответствующий формат."
   ]
  },
  {
   "cell_type": "code",
   "execution_count": 60,
   "metadata": {},
   "outputs": [],
   "source": [
    "df['event_ts'] = pd.to_datetime(df['event_ts'], unit='s')"
   ]
  },
  {
   "cell_type": "markdown",
   "metadata": {},
   "source": [
    "Добавим отдельный столбец с датой по всем событиям."
   ]
  },
  {
   "cell_type": "code",
   "execution_count": 61,
   "metadata": {
    "scrolled": true
   },
   "outputs": [],
   "source": [
    "df['date'] = df['event_ts'].dt.floor('1D')"
   ]
  },
  {
   "cell_type": "markdown",
   "metadata": {},
   "source": [
    "## Изучение данных\n",
    "### Количество событий, пользователей, среднее количество событий\n",
    "Посчитаем количество всех событий, уникальных пользователей и среднее количество событий на каждого пользователя, определив их соотношение."
   ]
  },
  {
   "cell_type": "code",
   "execution_count": 62,
   "metadata": {},
   "outputs": [
    {
     "data": {
      "text/plain": [
       "'Всего зафиксировано 243713 событий. Приняло участие в эксперименте 7551 пользователей.'"
      ]
     },
     "metadata": {},
     "output_type": "display_data"
    },
    {
     "data": {
      "text/plain": [
       "'В среднем на каждого пользователя пришлось 32.28 событий.'"
      ]
     },
     "metadata": {},
     "output_type": "display_data"
    }
   ],
   "source": [
    "n_events = df['event_name'].count()\n",
    "n_users = df['user_id'].nunique()\n",
    "avg_events = n_events / n_users\n",
    "display(f'Всего зафиксировано {n_events} событий. Приняло участие в эксперименте {n_users} пользователей.')\n",
    "display(f'В среднем на каждого пользователя пришлось {round(avg_events, 2)} событий.')"
   ]
  },
  {
   "cell_type": "markdown",
   "metadata": {},
   "source": [
    "### Период проведения эксперимента\n",
    "Выведем крайние точки наших дат."
   ]
  },
  {
   "cell_type": "code",
   "execution_count": 63,
   "metadata": {},
   "outputs": [
    {
     "data": {
      "text/plain": [
       "(datetime.date(2019, 7, 25), datetime.date(2019, 8, 7))"
      ]
     },
     "execution_count": 63,
     "metadata": {},
     "output_type": "execute_result"
    }
   ],
   "source": [
    "df['date'].dt.date.min(), df['date'].dt.date.max()"
   ]
  },
  {
   "cell_type": "markdown",
   "metadata": {},
   "source": [
    "Эксперимент проводился с 25 июля по 7 августа 2019 г.\n",
    "\n",
    "Теперь построим частотную гистограмму с количеством событий в единицу времени и сравним, везде ли плотность событий у нас одинакова."
   ]
  },
  {
   "cell_type": "code",
   "execution_count": 64,
   "metadata": {},
   "outputs": [
    {
     "data": {
      "image/png": "[encoded data removed]",
      "text/plain": [
       "<Figure size 1080x504 with 1 Axes>"
      ]
     },
     "metadata": {
      "needs_background": "light"
     },
     "output_type": "display_data"
    }
   ],
   "source": [
    "plt.figure(figsize=(15,7))\n",
    "sns.histplot(df['event_ts'], bins=500)\n",
    "plt.title('Время проведённых событий')\n",
    "plt.ylabel('Количество событий')\n",
    "plt.xlabel('')\n",
    "plt.show()"
   ]
  },
  {
   "cell_type": "markdown",
   "metadata": {},
   "source": [
    "### Фильтрация данных по дате"
   ]
  },
  {
   "cell_type": "markdown",
   "metadata": {},
   "source": [
    "Из графика видно, что фактически данные у нас \"пошли\" только с 1 августа. Всё, что происходило в июле - остаётся в июле. Фактически у нас есть данные за первую августовскую неделю. Оставим датафрейм за интересующий нас период."
   ]
  },
  {
   "cell_type": "code",
   "execution_count": 65,
   "metadata": {},
   "outputs": [],
   "source": [
    "df = df[df['date'] >= '2019-08-01']"
   ]
  },
  {
   "cell_type": "code",
   "execution_count": 66,
   "metadata": {},
   "outputs": [
    {
     "data": {
      "image/png": "[encoded data removed]",
      "text/plain": [
       "<Figure size 1080x504 with 1 Axes>"
      ]
     },
     "metadata": {
      "needs_background": "light"
     },
     "output_type": "display_data"
    }
   ],
   "source": [
    "plt.figure(figsize=(15,7))\n",
    "sns.histplot(df['event_ts'], bins=500)\n",
    "plt.title('Время проведённых событий')\n",
    "plt.ylabel('Количество событий')\n",
    "plt.xlabel('')\n",
    "plt.show()"
   ]
  },
  {
   "cell_type": "markdown",
   "metadata": {},
   "source": [
    "### Оценка потерь данных"
   ]
  },
  {
   "cell_type": "markdown",
   "metadata": {},
   "source": [
    "Прикинем, сколько мы потеряли пользователей и событий при сносе июльских данных."
   ]
  },
  {
   "cell_type": "code",
   "execution_count": 67,
   "metadata": {},
   "outputs": [
    {
     "data": {
      "text/plain": [
       "'Всего потеряли 2826 событий или 1.16%.'"
      ]
     },
     "metadata": {},
     "output_type": "display_data"
    },
    {
     "data": {
      "text/plain": [
       "'Всего потеряли 17 пользователей или 0.23%.'"
      ]
     },
     "metadata": {},
     "output_type": "display_data"
    }
   ],
   "source": [
    "n_fresh_events = df['event_name'].count()\n",
    "n_fresh_users = df['user_id'].nunique()\n",
    "\n",
    "display(f'Всего потеряли {n_events - n_fresh_events} событий или {1-n_fresh_events/n_events:.2%}.')\n",
    "display(f'Всего потеряли {n_users - n_fresh_users} пользователей или {1-n_fresh_users/n_users:.2%}.')"
   ]
  },
  {
   "cell_type": "markdown",
   "metadata": {},
   "source": [
    "Несущественные потери. Без них легко переживём."
   ]
  },
  {
   "cell_type": "markdown",
   "metadata": {},
   "source": [
    "### Проверка наличия всех групп"
   ]
  },
  {
   "cell_type": "markdown",
   "metadata": {},
   "source": [
    "Посмотрим как распределены пользователи по группам."
   ]
  },
  {
   "cell_type": "code",
   "execution_count": 68,
   "metadata": {},
   "outputs": [
    {
     "data": {
      "text/plain": [
       "'В 246 категории 2484 пользователей'"
      ]
     },
     "metadata": {},
     "output_type": "display_data"
    },
    {
     "data": {
      "text/plain": [
       "'В 247 категории 2513 пользователей'"
      ]
     },
     "metadata": {},
     "output_type": "display_data"
    },
    {
     "data": {
      "text/plain": [
       "'В 248 категории 2537 пользователей'"
      ]
     },
     "metadata": {},
     "output_type": "display_data"
    }
   ],
   "source": [
    "for i in df['exp_id'].unique():\n",
    "    group_users = df[df['exp_id']==i]['user_id'].nunique()\n",
    "    display(f'В {i} категории {group_users} пользователей')"
   ]
  },
  {
   "cell_type": "markdown",
   "metadata": {},
   "source": [
    "В каждой категории пользователи представлены, причём очень даже равномерно."
   ]
  },
  {
   "cell_type": "markdown",
   "metadata": {},
   "source": [
    "## Изучение воронки событий\n",
    "### Анализ частоты событий\n",
    "Посчитаем сколько у нас произошло разных событий вообще."
   ]
  },
  {
   "cell_type": "code",
   "execution_count": 69,
   "metadata": {},
   "outputs": [
    {
     "data": {
      "text/plain": [
       "MainScreenAppear           117328\n",
       "OffersScreenAppear          46333\n",
       "CartScreenAppear            42303\n",
       "PaymentScreenSuccessful     33918\n",
       "Tutorial                     1005\n",
       "Name: event_name, dtype: int64"
      ]
     },
     "execution_count": 69,
     "metadata": {},
     "output_type": "execute_result"
    }
   ],
   "source": [
    "df['event_name'].value_counts()"
   ]
  },
  {
   "cell_type": "markdown",
   "metadata": {},
   "source": [
    "Туториал не входит в основной \"маршрут\" клиента *(это называется CJM)*, заниамет небольшую часть датафрейма, поэтому мы его смело выпилим."
   ]
  },
  {
   "cell_type": "code",
   "execution_count": 70,
   "metadata": {},
   "outputs": [],
   "source": [
    "df = df.query('event_name != \"Tutorial\"')"
   ]
  },
  {
   "cell_type": "markdown",
   "metadata": {},
   "source": [
    "### Количество пользователей, совершивих каждое событие"
   ]
  },
  {
   "cell_type": "markdown",
   "metadata": {},
   "source": [
    "А теперь посчитаем, какое количество уникальных пользователей совершило у нас то или иное действие."
   ]
  },
  {
   "cell_type": "code",
   "execution_count": 71,
   "metadata": {},
   "outputs": [
    {
     "data": {
      "text/html": [
       "<div>\n",
       "<style scoped>\n",
       "    .dataframe tbody tr th:only-of-type {\n",
       "        vertical-align: middle;\n",
       "    }\n",
       "\n",
       "    .dataframe tbody tr th {\n",
       "        vertical-align: top;\n",
       "    }\n",
       "\n",
       "    .dataframe thead th {\n",
       "        text-align: right;\n",
       "    }\n",
       "</style>\n",
       "<table border=\"1\" class=\"dataframe\">\n",
       "  <thead>\n",
       "    <tr style=\"text-align: right;\">\n",
       "      <th></th>\n",
       "      <th>user_id</th>\n",
       "      <th>ratio</th>\n",
       "    </tr>\n",
       "    <tr>\n",
       "      <th>event_name</th>\n",
       "      <th></th>\n",
       "      <th></th>\n",
       "    </tr>\n",
       "  </thead>\n",
       "  <tbody>\n",
       "    <tr>\n",
       "      <th>MainScreenAppear</th>\n",
       "      <td>7419</td>\n",
       "      <td>98.5</td>\n",
       "    </tr>\n",
       "    <tr>\n",
       "      <th>OffersScreenAppear</th>\n",
       "      <td>4593</td>\n",
       "      <td>61.0</td>\n",
       "    </tr>\n",
       "    <tr>\n",
       "      <th>CartScreenAppear</th>\n",
       "      <td>3734</td>\n",
       "      <td>49.6</td>\n",
       "    </tr>\n",
       "    <tr>\n",
       "      <th>PaymentScreenSuccessful</th>\n",
       "      <td>3539</td>\n",
       "      <td>47.0</td>\n",
       "    </tr>\n",
       "  </tbody>\n",
       "</table>\n",
       "</div>"
      ],
      "text/plain": [
       "                         user_id  ratio\n",
       "event_name                             \n",
       "MainScreenAppear            7419   98.5\n",
       "OffersScreenAppear          4593   61.0\n",
       "CartScreenAppear            3734   49.6\n",
       "PaymentScreenSuccessful     3539   47.0"
      ]
     },
     "execution_count": 71,
     "metadata": {},
     "output_type": "execute_result"
    }
   ],
   "source": [
    "event_users = (df.groupby('event_name')\n",
    "               .agg({'user_id': 'nunique'})\n",
    "               .sort_values(by='user_id', ascending=False))\n",
    "event_users['ratio'] = round(event_users['user_id'] / n_fresh_users * 100, 1)\n",
    "event_users"
   ]
  },
  {
   "cell_type": "markdown",
   "metadata": {},
   "source": [
    "Хм, интересно. У нас есть 1.5% пользователей, которые не вошли в главный экран. Но они же фигурировали где-то, это всё те же пользователи. Значит, что они засветились где-то дальше. Вангую, что это пользователи с июльским бэкграундом, которые чёт посмотрели и заказали в июле, а оплатили уже в августе, с которого мы и начали считать.\n",
    "### Очерёдность событий\n",
    "Предположительно, события происходят в следующем порядке: открытие главной страницы - открытие страницы с предложениями - открытие страницы корзины - открытие страницы об успешной оплате.\n",
    "### Построение воронки\n",
    "Построим следующую воронку событий: главная страница - страница с предложениями - корзина - оплата."
   ]
  },
  {
   "cell_type": "code",
   "execution_count": 72,
   "metadata": {
    "scrolled": false
   },
   "outputs": [
    {
     "data": {
      "application/vnd.plotly.v1+json": {
       "config": {
        "plotlyServerURL": "https://plot.ly"
       },
       "data": [
        {
         "textinfo": "value+percent previous+percent initial",
         "type": "funnel",
         "x": [
          7419,
          4593,
          3734,
          3539
         ],
         "y": [
          "Просмотрели главную страницу",
          "Просмотрели страницу с предложениями",
          "Добавили товар в корзину",
          "Оплатили товар"
         ]
        }
       ],
       "layout": {
        "template": {
         "data": {
          "bar": [
           {
            "error_x": {
             "color": "#2a3f5f"
            },
            "error_y": {
             "color": "#2a3f5f"
            },
            "marker": {
             "line": {
              "color": "#E5ECF6",
              "width": 0.5
             },
             "pattern": {
              "fillmode": "overlay",
              "size": 10,
              "solidity": 0.2
             }
            },
            "type": "bar"
           }
          ],
          "barpolar": [
           {
            "marker": {
             "line": {
              "color": "#E5ECF6",
              "width": 0.5
             },
             "pattern": {
              "fillmode": "overlay",
              "size": 10,
              "solidity": 0.2
             }
            },
            "type": "barpolar"
           }
          ],
          "carpet": [
           {
            "aaxis": {
             "endlinecolor": "#2a3f5f",
             "gridcolor": "white",
             "linecolor": "white",
             "minorgridcolor": "white",
             "startlinecolor": "#2a3f5f"
            },
            "baxis": {
             "endlinecolor": "#2a3f5f",
             "gridcolor": "white",
             "linecolor": "white",
             "minorgridcolor": "white",
             "startlinecolor": "#2a3f5f"
            },
            "type": "carpet"
           }
          ],
          "choropleth": [
           {
            "colorbar": {
             "outlinewidth": 0,
             "ticks": ""
            },
            "type": "choropleth"
           }
          ],
          "contour": [
           {
            "colorbar": {
             "outlinewidth": 0,
             "ticks": ""
            },
            "colorscale": [
             [
              0,
              "#0d0887"
             ],
             [
              0.1111111111111111,
              "#46039f"
             ],
             [
              0.2222222222222222,
              "#7201a8"
             ],
             [
              0.3333333333333333,
              "#9c179e"
             ],
             [
              0.4444444444444444,
              "#bd3786"
             ],
             [
              0.5555555555555556,
              "#d8576b"
             ],
             [
              0.6666666666666666,
              "#ed7953"
             ],
             [
              0.7777777777777778,
              "#fb9f3a"
             ],
             [
              0.8888888888888888,
              "#fdca26"
             ],
             [
              1,
              "#f0f921"
             ]
            ],
            "type": "contour"
           }
          ],
          "contourcarpet": [
           {
            "colorbar": {
             "outlinewidth": 0,
             "ticks": ""
            },
            "type": "contourcarpet"
           }
          ],
          "heatmap": [
           {
            "colorbar": {
             "outlinewidth": 0,
             "ticks": ""
            },
            "colorscale": [
             [
              0,
              "#0d0887"
             ],
             [
              0.1111111111111111,
              "#46039f"
             ],
             [
              0.2222222222222222,
              "#7201a8"
             ],
             [
              0.3333333333333333,
              "#9c179e"
             ],
             [
              0.4444444444444444,
              "#bd3786"
             ],
             [
              0.5555555555555556,
              "#d8576b"
             ],
             [
              0.6666666666666666,
              "#ed7953"
             ],
             [
              0.7777777777777778,
              "#fb9f3a"
             ],
             [
              0.8888888888888888,
              "#fdca26"
             ],
             [
              1,
              "#f0f921"
             ]
            ],
            "type": "heatmap"
           }
          ],
          "heatmapgl": [
           {
            "colorbar": {
             "outlinewidth": 0,
             "ticks": ""
            },
            "colorscale": [
             [
              0,
              "#0d0887"
             ],
             [
              0.1111111111111111,
              "#46039f"
             ],
             [
              0.2222222222222222,
              "#7201a8"
             ],
             [
              0.3333333333333333,
              "#9c179e"
             ],
             [
              0.4444444444444444,
              "#bd3786"
             ],
             [
              0.5555555555555556,
              "#d8576b"
             ],
             [
              0.6666666666666666,
              "#ed7953"
             ],
             [
              0.7777777777777778,
              "#fb9f3a"
             ],
             [
              0.8888888888888888,
              "#fdca26"
             ],
             [
              1,
              "#f0f921"
             ]
            ],
            "type": "heatmapgl"
           }
          ],
          "histogram": [
           {
            "marker": {
             "pattern": {
              "fillmode": "overlay",
              "size": 10,
              "solidity": 0.2
             }
            },
            "type": "histogram"
           }
          ],
          "histogram2d": [
           {
            "colorbar": {
             "outlinewidth": 0,
             "ticks": ""
            },
            "colorscale": [
             [
              0,
              "#0d0887"
             ],
             [
              0.1111111111111111,
              "#46039f"
             ],
             [
              0.2222222222222222,
              "#7201a8"
             ],
             [
              0.3333333333333333,
              "#9c179e"
             ],
             [
              0.4444444444444444,
              "#bd3786"
             ],
             [
              0.5555555555555556,
              "#d8576b"
             ],
             [
              0.6666666666666666,
              "#ed7953"
             ],
             [
              0.7777777777777778,
              "#fb9f3a"
             ],
             [
              0.8888888888888888,
              "#fdca26"
             ],
             [
              1,
              "#f0f921"
             ]
            ],
            "type": "histogram2d"
           }
          ],
          "histogram2dcontour": [
           {
            "colorbar": {
             "outlinewidth": 0,
             "ticks": ""
            },
            "colorscale": [
             [
              0,
              "#0d0887"
             ],
             [
              0.1111111111111111,
              "#46039f"
             ],
             [
              0.2222222222222222,
              "#7201a8"
             ],
             [
              0.3333333333333333,
              "#9c179e"
             ],
             [
              0.4444444444444444,
              "#bd3786"
             ],
             [
              0.5555555555555556,
              "#d8576b"
             ],
             [
              0.6666666666666666,
              "#ed7953"
             ],
             [
              0.7777777777777778,
              "#fb9f3a"
             ],
             [
              0.8888888888888888,
              "#fdca26"
             ],
             [
              1,
              "#f0f921"
             ]
            ],
            "type": "histogram2dcontour"
           }
          ],
          "mesh3d": [
           {
            "colorbar": {
             "outlinewidth": 0,
             "ticks": ""
            },
            "type": "mesh3d"
           }
          ],
          "parcoords": [
           {
            "line": {
             "colorbar": {
              "outlinewidth": 0,
              "ticks": ""
             }
            },
            "type": "parcoords"
           }
          ],
          "pie": [
           {
            "automargin": true,
            "type": "pie"
           }
          ],
          "scatter": [
           {
            "marker": {
             "colorbar": {
              "outlinewidth": 0,
              "ticks": ""
             }
            },
            "type": "scatter"
           }
          ],
          "scatter3d": [
           {
            "line": {
             "colorbar": {
              "outlinewidth": 0,
              "ticks": ""
             }
            },
            "marker": {
             "colorbar": {
              "outlinewidth": 0,
              "ticks": ""
             }
            },
            "type": "scatter3d"
           }
          ],
          "scattercarpet": [
           {
            "marker": {
             "colorbar": {
              "outlinewidth": 0,
              "ticks": ""
             }
            },
            "type": "scattercarpet"
           }
          ],
          "scattergeo": [
           {
            "marker": {
             "colorbar": {
              "outlinewidth": 0,
              "ticks": ""
             }
            },
            "type": "scattergeo"
           }
          ],
          "scattergl": [
           {
            "marker": {
             "colorbar": {
              "outlinewidth": 0,
              "ticks": ""
             }
            },
            "type": "scattergl"
           }
          ],
          "scattermapbox": [
           {
            "marker": {
             "colorbar": {
              "outlinewidth": 0,
              "ticks": ""
             }
            },
            "type": "scattermapbox"
           }
          ],
          "scatterpolar": [
           {
            "marker": {
             "colorbar": {
              "outlinewidth": 0,
              "ticks": ""
             }
            },
            "type": "scatterpolar"
           }
          ],
          "scatterpolargl": [
           {
            "marker": {
             "colorbar": {
              "outlinewidth": 0,
              "ticks": ""
             }
            },
            "type": "scatterpolargl"
           }
          ],
          "scatterternary": [
           {
            "marker": {
             "colorbar": {
              "outlinewidth": 0,
              "ticks": ""
             }
            },
            "type": "scatterternary"
           }
          ],
          "surface": [
           {
            "colorbar": {
             "outlinewidth": 0,
             "ticks": ""
            },
            "colorscale": [
             [
              0,
              "#0d0887"
             ],
             [
              0.1111111111111111,
              "#46039f"
             ],
             [
              0.2222222222222222,
              "#7201a8"
             ],
             [
              0.3333333333333333,
              "#9c179e"
             ],
             [
              0.4444444444444444,
              "#bd3786"
             ],
             [
              0.5555555555555556,
              "#d8576b"
             ],
             [
              0.6666666666666666,
              "#ed7953"
             ],
             [
              0.7777777777777778,
              "#fb9f3a"
             ],
             [
              0.8888888888888888,
              "#fdca26"
             ],
             [
              1,
              "#f0f921"
             ]
            ],
            "type": "surface"
           }
          ],
          "table": [
           {
            "cells": {
             "fill": {
              "color": "#EBF0F8"
             },
             "line": {
              "color": "white"
             }
            },
            "header": {
             "fill": {
              "color": "#C8D4E3"
             },
             "line": {
              "color": "white"
             }
            },
            "type": "table"
           }
          ]
         },
         "layout": {
          "annotationdefaults": {
           "arrowcolor": "#2a3f5f",
           "arrowhead": 0,
           "arrowwidth": 1
          },
          "autotypenumbers": "strict",
          "coloraxis": {
           "colorbar": {
            "outlinewidth": 0,
            "ticks": ""
           }
          },
          "colorscale": {
           "diverging": [
            [
             0,
             "#8e0152"
            ],
            [
             0.1,
             "#c51b7d"
            ],
            [
             0.2,
             "#de77ae"
            ],
            [
             0.3,
             "#f1b6da"
            ],
            [
             0.4,
             "#fde0ef"
            ],
            [
             0.5,
             "#f7f7f7"
            ],
            [
             0.6,
             "#e6f5d0"
            ],
            [
             0.7,
             "#b8e186"
            ],
            [
             0.8,
             "#7fbc41"
            ],
            [
             0.9,
             "#4d9221"
            ],
            [
             1,
             "#276419"
            ]
           ],
           "sequential": [
            [
             0,
             "#0d0887"
            ],
            [
             0.1111111111111111,
             "#46039f"
            ],
            [
             0.2222222222222222,
             "#7201a8"
            ],
            [
             0.3333333333333333,
             "#9c179e"
            ],
            [
             0.4444444444444444,
             "#bd3786"
            ],
            [
             0.5555555555555556,
             "#d8576b"
            ],
            [
             0.6666666666666666,
             "#ed7953"
            ],
            [
             0.7777777777777778,
             "#fb9f3a"
            ],
            [
             0.8888888888888888,
             "#fdca26"
            ],
            [
             1,
             "#f0f921"
            ]
           ],
           "sequentialminus": [
            [
             0,
             "#0d0887"
            ],
            [
             0.1111111111111111,
             "#46039f"
            ],
            [
             0.2222222222222222,
             "#7201a8"
            ],
            [
             0.3333333333333333,
             "#9c179e"
            ],
            [
             0.4444444444444444,
             "#bd3786"
            ],
            [
             0.5555555555555556,
             "#d8576b"
            ],
            [
             0.6666666666666666,
             "#ed7953"
            ],
            [
             0.7777777777777778,
             "#fb9f3a"
            ],
            [
             0.8888888888888888,
             "#fdca26"
            ],
            [
             1,
             "#f0f921"
            ]
           ]
          },
          "colorway": [
           "#636efa",
           "#EF553B",
           "#00cc96",
           "#ab63fa",
           "#FFA15A",
           "#19d3f3",
           "#FF6692",
           "#B6E880",
           "#FF97FF",
           "#FECB52"
          ],
          "font": {
           "color": "#2a3f5f"
          },
          "geo": {
           "bgcolor": "white",
           "lakecolor": "white",
           "landcolor": "#E5ECF6",
           "showlakes": true,
           "showland": true,
           "subunitcolor": "white"
          },
          "hoverlabel": {
           "align": "left"
          },
          "hovermode": "closest",
          "mapbox": {
           "style": "light"
          },
          "paper_bgcolor": "white",
          "plot_bgcolor": "#E5ECF6",
          "polar": {
           "angularaxis": {
            "gridcolor": "white",
            "linecolor": "white",
            "ticks": ""
           },
           "bgcolor": "#E5ECF6",
           "radialaxis": {
            "gridcolor": "white",
            "linecolor": "white",
            "ticks": ""
           }
          },
          "scene": {
           "xaxis": {
            "backgroundcolor": "#E5ECF6",
            "gridcolor": "white",
            "gridwidth": 2,
            "linecolor": "white",
            "showbackground": true,
            "ticks": "",
            "zerolinecolor": "white"
           },
           "yaxis": {
            "backgroundcolor": "#E5ECF6",
            "gridcolor": "white",
            "gridwidth": 2,
            "linecolor": "white",
            "showbackground": true,
            "ticks": "",
            "zerolinecolor": "white"
           },
           "zaxis": {
            "backgroundcolor": "#E5ECF6",
            "gridcolor": "white",
            "gridwidth": 2,
            "linecolor": "white",
            "showbackground": true,
            "ticks": "",
            "zerolinecolor": "white"
           }
          },
          "shapedefaults": {
           "line": {
            "color": "#2a3f5f"
           }
          },
          "ternary": {
           "aaxis": {
            "gridcolor": "white",
            "linecolor": "white",
            "ticks": ""
           },
           "baxis": {
            "gridcolor": "white",
            "linecolor": "white",
            "ticks": ""
           },
           "bgcolor": "#E5ECF6",
           "caxis": {
            "gridcolor": "white",
            "linecolor": "white",
            "ticks": ""
           }
          },
          "title": {
           "x": 0.05
          },
          "xaxis": {
           "automargin": true,
           "gridcolor": "white",
           "linecolor": "white",
           "ticks": "",
           "title": {
            "standoff": 15
           },
           "zerolinecolor": "white",
           "zerolinewidth": 2
          },
          "yaxis": {
           "automargin": true,
           "gridcolor": "white",
           "linecolor": "white",
           "ticks": "",
           "title": {
            "standoff": 15
           },
           "zerolinecolor": "white",
           "zerolinewidth": 2
          }
         }
        },
        "title": {
         "text": "Событийная воронка"
        }
       }
      },
      "text/html": [
       "<div>                            <div id=\"863ebb49-d84d-4d6e-b74b-19498e890314\" class=\"plotly-graph-div\" style=\"height:525px; width:100%;\"></div>            <script type=\"text/javascript\">                require([\"plotly\"], function(Plotly) {                    window.PLOTLYENV=window.PLOTLYENV || {};                                    if (document.getElementById(\"863ebb49-d84d-4d6e-b74b-19498e890314\")) {                    Plotly.newPlot(                        \"863ebb49-d84d-4d6e-b74b-19498e890314\",                        [{\"textinfo\":\"value+percent previous+percent initial\",\"x\":[7419,4593,3734,3539],\"y\":[\"\\u041f\\u0440\\u043e\\u0441\\u043c\\u043e\\u0442\\u0440\\u0435\\u043b\\u0438 \\u0433\\u043b\\u0430\\u0432\\u043d\\u0443\\u044e \\u0441\\u0442\\u0440\\u0430\\u043d\\u0438\\u0446\\u0443\",\"\\u041f\\u0440\\u043e\\u0441\\u043c\\u043e\\u0442\\u0440\\u0435\\u043b\\u0438 \\u0441\\u0442\\u0440\\u0430\\u043d\\u0438\\u0446\\u0443 \\u0441 \\u043f\\u0440\\u0435\\u0434\\u043b\\u043e\\u0436\\u0435\\u043d\\u0438\\u044f\\u043c\\u0438\",\"\\u0414\\u043e\\u0431\\u0430\\u0432\\u0438\\u043b\\u0438 \\u0442\\u043e\\u0432\\u0430\\u0440 \\u0432 \\u043a\\u043e\\u0440\\u0437\\u0438\\u043d\\u0443\",\"\\u041e\\u043f\\u043b\\u0430\\u0442\\u0438\\u043b\\u0438 \\u0442\\u043e\\u0432\\u0430\\u0440\"],\"type\":\"funnel\"}],                        {\"template\":{\"data\":{\"bar\":[{\"error_x\":{\"color\":\"#2a3f5f\"},\"error_y\":{\"color\":\"#2a3f5f\"},\"marker\":{\"line\":{\"color\":\"#E5ECF6\",\"width\":0.5},\"pattern\":{\"fillmode\":\"overlay\",\"size\":10,\"solidity\":0.2}},\"type\":\"bar\"}],\"barpolar\":[{\"marker\":{\"line\":{\"color\":\"#E5ECF6\",\"width\":0.5},\"pattern\":{\"fillmode\":\"overlay\",\"size\":10,\"solidity\":0.2}},\"type\":\"barpolar\"}],\"carpet\":[{\"aaxis\":{\"endlinecolor\":\"#2a3f5f\",\"gridcolor\":\"white\",\"linecolor\":\"white\",\"minorgridcolor\":\"white\",\"startlinecolor\":\"#2a3f5f\"},\"baxis\":{\"endlinecolor\":\"#2a3f5f\",\"gridcolor\":\"white\",\"linecolor\":\"white\",\"minorgridcolor\":\"white\",\"startlinecolor\":\"#2a3f5f\"},\"type\":\"carpet\"}],\"choropleth\":[{\"colorbar\":{\"outlinewidth\":0,\"ticks\":\"\"},\"type\":\"choropleth\"}],\"contour\":[{\"colorbar\":{\"outlinewidth\":0,\"ticks\":\"\"},\"colorscale\":[[0.0,\"#0d0887\"],[0.1111111111111111,\"#46039f\"],[0.2222222222222222,\"#7201a8\"],[0.3333333333333333,\"#9c179e\"],[0.4444444444444444,\"#bd3786\"],[0.5555555555555556,\"#d8576b\"],[0.6666666666666666,\"#ed7953\"],[0.7777777777777778,\"#fb9f3a\"],[0.8888888888888888,\"#fdca26\"],[1.0,\"#f0f921\"]],\"type\":\"contour\"}],\"contourcarpet\":[{\"colorbar\":{\"outlinewidth\":0,\"ticks\":\"\"},\"type\":\"contourcarpet\"}],\"heatmap\":[{\"colorbar\":{\"outlinewidth\":0,\"ticks\":\"\"},\"colorscale\":[[0.0,\"#0d0887\"],[0.1111111111111111,\"#46039f\"],[0.2222222222222222,\"#7201a8\"],[0.3333333333333333,\"#9c179e\"],[0.4444444444444444,\"#bd3786\"],[0.5555555555555556,\"#d8576b\"],[0.6666666666666666,\"#ed7953\"],[0.7777777777777778,\"#fb9f3a\"],[0.8888888888888888,\"#fdca26\"],[1.0,\"#f0f921\"]],\"type\":\"heatmap\"}],\"heatmapgl\":[{\"colorbar\":{\"outlinewidth\":0,\"ticks\":\"\"},\"colorscale\":[[0.0,\"#0d0887\"],[0.1111111111111111,\"#46039f\"],[0.2222222222222222,\"#7201a8\"],[0.3333333333333333,\"#9c179e\"],[0.4444444444444444,\"#bd3786\"],[0.5555555555555556,\"#d8576b\"],[0.6666666666666666,\"#ed7953\"],[0.7777777777777778,\"#fb9f3a\"],[0.8888888888888888,\"#fdca26\"],[1.0,\"#f0f921\"]],\"type\":\"heatmapgl\"}],\"histogram\":[{\"marker\":{\"pattern\":{\"fillmode\":\"overlay\",\"size\":10,\"solidity\":0.2}},\"type\":\"histogram\"}],\"histogram2d\":[{\"colorbar\":{\"outlinewidth\":0,\"ticks\":\"\"},\"colorscale\":[[0.0,\"#0d0887\"],[0.1111111111111111,\"#46039f\"],[0.2222222222222222,\"#7201a8\"],[0.3333333333333333,\"#9c179e\"],[0.4444444444444444,\"#bd3786\"],[0.5555555555555556,\"#d8576b\"],[0.6666666666666666,\"#ed7953\"],[0.7777777777777778,\"#fb9f3a\"],[0.8888888888888888,\"#fdca26\"],[1.0,\"#f0f921\"]],\"type\":\"histogram2d\"}],\"histogram2dcontour\":[{\"colorbar\":{\"outlinewidth\":0,\"ticks\":\"\"},\"colorscale\":[[0.0,\"#0d0887\"],[0.1111111111111111,\"#46039f\"],[0.2222222222222222,\"#7201a8\"],[0.3333333333333333,\"#9c179e\"],[0.4444444444444444,\"#bd3786\"],[0.5555555555555556,\"#d8576b\"],[0.6666666666666666,\"#ed7953\"],[0.7777777777777778,\"#fb9f3a\"],[0.8888888888888888,\"#fdca26\"],[1.0,\"#f0f921\"]],\"type\":\"histogram2dcontour\"}],\"mesh3d\":[{\"colorbar\":{\"outlinewidth\":0,\"ticks\":\"\"},\"type\":\"mesh3d\"}],\"parcoords\":[{\"line\":{\"colorbar\":{\"outlinewidth\":0,\"ticks\":\"\"}},\"type\":\"parcoords\"}],\"pie\":[{\"automargin\":true,\"type\":\"pie\"}],\"scatter\":[{\"marker\":{\"colorbar\":{\"outlinewidth\":0,\"ticks\":\"\"}},\"type\":\"scatter\"}],\"scatter3d\":[{\"line\":{\"colorbar\":{\"outlinewidth\":0,\"ticks\":\"\"}},\"marker\":{\"colorbar\":{\"outlinewidth\":0,\"ticks\":\"\"}},\"type\":\"scatter3d\"}],\"scattercarpet\":[{\"marker\":{\"colorbar\":{\"outlinewidth\":0,\"ticks\":\"\"}},\"type\":\"scattercarpet\"}],\"scattergeo\":[{\"marker\":{\"colorbar\":{\"outlinewidth\":0,\"ticks\":\"\"}},\"type\":\"scattergeo\"}],\"scattergl\":[{\"marker\":{\"colorbar\":{\"outlinewidth\":0,\"ticks\":\"\"}},\"type\":\"scattergl\"}],\"scattermapbox\":[{\"marker\":{\"colorbar\":{\"outlinewidth\":0,\"ticks\":\"\"}},\"type\":\"scattermapbox\"}],\"scatterpolar\":[{\"marker\":{\"colorbar\":{\"outlinewidth\":0,\"ticks\":\"\"}},\"type\":\"scatterpolar\"}],\"scatterpolargl\":[{\"marker\":{\"colorbar\":{\"outlinewidth\":0,\"ticks\":\"\"}},\"type\":\"scatterpolargl\"}],\"scatterternary\":[{\"marker\":{\"colorbar\":{\"outlinewidth\":0,\"ticks\":\"\"}},\"type\":\"scatterternary\"}],\"surface\":[{\"colorbar\":{\"outlinewidth\":0,\"ticks\":\"\"},\"colorscale\":[[0.0,\"#0d0887\"],[0.1111111111111111,\"#46039f\"],[0.2222222222222222,\"#7201a8\"],[0.3333333333333333,\"#9c179e\"],[0.4444444444444444,\"#bd3786\"],[0.5555555555555556,\"#d8576b\"],[0.6666666666666666,\"#ed7953\"],[0.7777777777777778,\"#fb9f3a\"],[0.8888888888888888,\"#fdca26\"],[1.0,\"#f0f921\"]],\"type\":\"surface\"}],\"table\":[{\"cells\":{\"fill\":{\"color\":\"#EBF0F8\"},\"line\":{\"color\":\"white\"}},\"header\":{\"fill\":{\"color\":\"#C8D4E3\"},\"line\":{\"color\":\"white\"}},\"type\":\"table\"}]},\"layout\":{\"annotationdefaults\":{\"arrowcolor\":\"#2a3f5f\",\"arrowhead\":0,\"arrowwidth\":1},\"autotypenumbers\":\"strict\",\"coloraxis\":{\"colorbar\":{\"outlinewidth\":0,\"ticks\":\"\"}},\"colorscale\":{\"diverging\":[[0,\"#8e0152\"],[0.1,\"#c51b7d\"],[0.2,\"#de77ae\"],[0.3,\"#f1b6da\"],[0.4,\"#fde0ef\"],[0.5,\"#f7f7f7\"],[0.6,\"#e6f5d0\"],[0.7,\"#b8e186\"],[0.8,\"#7fbc41\"],[0.9,\"#4d9221\"],[1,\"#276419\"]],\"sequential\":[[0.0,\"#0d0887\"],[0.1111111111111111,\"#46039f\"],[0.2222222222222222,\"#7201a8\"],[0.3333333333333333,\"#9c179e\"],[0.4444444444444444,\"#bd3786\"],[0.5555555555555556,\"#d8576b\"],[0.6666666666666666,\"#ed7953\"],[0.7777777777777778,\"#fb9f3a\"],[0.8888888888888888,\"#fdca26\"],[1.0,\"#f0f921\"]],\"sequentialminus\":[[0.0,\"#0d0887\"],[0.1111111111111111,\"#46039f\"],[0.2222222222222222,\"#7201a8\"],[0.3333333333333333,\"#9c179e\"],[0.4444444444444444,\"#bd3786\"],[0.5555555555555556,\"#d8576b\"],[0.6666666666666666,\"#ed7953\"],[0.7777777777777778,\"#fb9f3a\"],[0.8888888888888888,\"#fdca26\"],[1.0,\"#f0f921\"]]},\"colorway\":[\"#636efa\",\"#EF553B\",\"#00cc96\",\"#ab63fa\",\"#FFA15A\",\"#19d3f3\",\"#FF6692\",\"#B6E880\",\"#FF97FF\",\"#FECB52\"],\"font\":{\"color\":\"#2a3f5f\"},\"geo\":{\"bgcolor\":\"white\",\"lakecolor\":\"white\",\"landcolor\":\"#E5ECF6\",\"showlakes\":true,\"showland\":true,\"subunitcolor\":\"white\"},\"hoverlabel\":{\"align\":\"left\"},\"hovermode\":\"closest\",\"mapbox\":{\"style\":\"light\"},\"paper_bgcolor\":\"white\",\"plot_bgcolor\":\"#E5ECF6\",\"polar\":{\"angularaxis\":{\"gridcolor\":\"white\",\"linecolor\":\"white\",\"ticks\":\"\"},\"bgcolor\":\"#E5ECF6\",\"radialaxis\":{\"gridcolor\":\"white\",\"linecolor\":\"white\",\"ticks\":\"\"}},\"scene\":{\"xaxis\":{\"backgroundcolor\":\"#E5ECF6\",\"gridcolor\":\"white\",\"gridwidth\":2,\"linecolor\":\"white\",\"showbackground\":true,\"ticks\":\"\",\"zerolinecolor\":\"white\"},\"yaxis\":{\"backgroundcolor\":\"#E5ECF6\",\"gridcolor\":\"white\",\"gridwidth\":2,\"linecolor\":\"white\",\"showbackground\":true,\"ticks\":\"\",\"zerolinecolor\":\"white\"},\"zaxis\":{\"backgroundcolor\":\"#E5ECF6\",\"gridcolor\":\"white\",\"gridwidth\":2,\"linecolor\":\"white\",\"showbackground\":true,\"ticks\":\"\",\"zerolinecolor\":\"white\"}},\"shapedefaults\":{\"line\":{\"color\":\"#2a3f5f\"}},\"ternary\":{\"aaxis\":{\"gridcolor\":\"white\",\"linecolor\":\"white\",\"ticks\":\"\"},\"baxis\":{\"gridcolor\":\"white\",\"linecolor\":\"white\",\"ticks\":\"\"},\"bgcolor\":\"#E5ECF6\",\"caxis\":{\"gridcolor\":\"white\",\"linecolor\":\"white\",\"ticks\":\"\"}},\"title\":{\"x\":0.05},\"xaxis\":{\"automargin\":true,\"gridcolor\":\"white\",\"linecolor\":\"white\",\"ticks\":\"\",\"title\":{\"standoff\":15},\"zerolinecolor\":\"white\",\"zerolinewidth\":2},\"yaxis\":{\"automargin\":true,\"gridcolor\":\"white\",\"linecolor\":\"white\",\"ticks\":\"\",\"title\":{\"standoff\":15},\"zerolinecolor\":\"white\",\"zerolinewidth\":2}}},\"title\":{\"text\":\"\\u0421\\u043e\\u0431\\u044b\\u0442\\u0438\\u0439\\u043d\\u0430\\u044f \\u0432\\u043e\\u0440\\u043e\\u043d\\u043a\\u0430\"}},                        {\"responsive\": true}                    ).then(function(){\n",
       "                            \n",
       "var gd = document.getElementById('863ebb49-d84d-4d6e-b74b-19498e890314');\n",
       "var x = new MutationObserver(function (mutations, observer) {{\n",
       "        var display = window.getComputedStyle(gd).display;\n",
       "        if (!display || display === 'none') {{\n",
       "            console.log([gd, 'removed!']);\n",
       "            Plotly.purge(gd);\n",
       "            observer.disconnect();\n",
       "        }}\n",
       "}});\n",
       "\n",
       "// Listen for the removal of the full notebook cells\n",
       "var notebookContainer = gd.closest('#notebook-container');\n",
       "if (notebookContainer) {{\n",
       "    x.observe(notebookContainer, {childList: true});\n",
       "}}\n",
       "\n",
       "// Listen for the clearing of the current output cell\n",
       "var outputEl = gd.closest('.output');\n",
       "if (outputEl) {{\n",
       "    x.observe(outputEl, {childList: true});\n",
       "}}\n",
       "\n",
       "                        })                };                });            </script>        </div>"
      ]
     },
     "metadata": {},
     "output_type": "display_data"
    }
   ],
   "source": [
    "fig = go.Figure(\n",
    "    go.Funnel(\n",
    "        y=[\n",
    "            'Просмотрели главную страницу',\n",
    "            'Просмотрели страницу с предложениями',\n",
    "            'Добавили товар в корзину',\n",
    "            'Оплатили товар',\n",
    "        ],\n",
    "        x=event_users['user_id'],\n",
    "        textinfo = 'value+percent previous+percent initial'\n",
    "        \n",
    "    )\n",
    ")\n",
    "\n",
    "fig.update_layout(title='Событийная воронка')\n",
    "fig.show() "
   ]
  },
  {
   "cell_type": "markdown",
   "metadata": {},
   "source": [
    "Как видно из воронки, наибольшая конверсия была на 3 переходе - пользователи добавившие товар в козрину, которые потом его оплатили - 95%. На 2 переходе - пользователи просмотревшие товар, которые потом его добавили - 81%. Хуже всего на 1 переходе - от просмотра главной страницы до выбора товара дошло всего 62%.\n",
    "\n",
    "От начала и до конца дошло меньше половины - всего 48%."
   ]
  },
  {
   "cell_type": "markdown",
   "metadata": {},
   "source": [
    "## Изучение результатов эксперимента\n",
    "### Количество пользователей в каждой группе\n",
    "Это мы проводили в п. 3.5, когда проверяли наличие пользователей в каждой группе, но вместе тем, с качественной проверкой была проведена и количественная.\n",
    "### Проверка результатов А/А-теста\n",
    "Чтобы проверить результаты А/А-теста, необходимо сравнить две выборки: 246 и 247. Для этого необходимо провести Z-тест. Напишем функцию, которая упростит в будущем подбные обработки, обозначим коэффициент статистической значимости и нулевую и альтернативную гипотезы.\n",
    "\n",
    ">* H<sub>0</sub> - между исследуемыми долями нет значимых отличий.\n",
    ">* H<sub>1</sub> - исследуемые доли различны."
   ]
  },
  {
   "cell_type": "code",
   "execution_count": 73,
   "metadata": {},
   "outputs": [],
   "source": [
    "alpha = 0.05"
   ]
  },
  {
   "cell_type": "code",
   "execution_count": 74,
   "metadata": {
    "scrolled": false
   },
   "outputs": [
    {
     "name": "stdout",
     "output_type": "stream",
     "text": [
      "p-значение:  0.7526703436483038\n"
     ]
    },
    {
     "data": {
      "text/plain": [
       "'Не получилось отвергнуть нулевую гипотезу, нет оснований считать доли разными'"
      ]
     },
     "metadata": {},
     "output_type": "display_data"
    }
   ],
   "source": [
    "# функция для проведения Z-теста (определения z-критерия Фишера)\n",
    "\n",
    "# вводим номера двух сравниваемых групп, событие, по которому проводится сравнение\n",
    "# и уровень статистической значимости, ниже которого можно говорить о значимой различности выборок\n",
    "def z_test(condition_1, condition_2, event, alpha):\n",
    "    \n",
    "    # описание одной группы\n",
    "    df_1 = df.query(condition_1) # датафрейм первой группы\n",
    "    all_users_1 = df_1['user_id'].nunique() # общее количество пользователей первой группы\n",
    "    event_users_1 = df_1[df_1['event_name']==event]['user_id'].nunique() # количество пользователей,\n",
    "                                                                         # совершивших целевое событие\n",
    "    \n",
    "    # описание второй группы\n",
    "    df_2 = df.query(condition_2) # датафрейм второй группы\n",
    "    all_users_2 = df_2['user_id'].nunique() # общее количество пользователей второй группы\n",
    "    event_users_2 = df_2[df_2['event_name']==event]['user_id'].nunique() # количество пользователей,\n",
    "                                                                         # совершивших целевое событие\n",
    "    \n",
    "    # уровень статистической значимости\n",
    "    alpha = alpha\n",
    "    \n",
    "    # конверсии двух выборок\n",
    "    p1 = event_users_1 / all_users_1\n",
    "    p2 = event_users_2 / all_users_2\n",
    "    \n",
    "    # общая конверсия\n",
    "    p_combined = (event_users_1 + event_users_2) / (all_users_1 + all_users_2)\n",
    "    \n",
    "    # разница конверсий\n",
    "    delta = p1 - p2\n",
    "    \n",
    "    # z-критерий\n",
    "    z_value = delta / mth.sqrt(p_combined * (1 - p_combined) * (1/all_users_1 + 1/all_users_2))\n",
    "    \n",
    "    # нормальное распределение: среднее в нуле, а стандартное отклонение - 1\n",
    "    distr = stats.norm(0, 1)\n",
    "    \n",
    "    # подсчёт статистической значимости\n",
    "    p_value = (1 - distr.cdf(abs(z_value))) * 2\n",
    "    \n",
    "    print('p-значение: ', p_value)\n",
    "\n",
    "    if p_value < alpha:\n",
    "        display('Отвергаем нулевую гипотезу: между долями есть значимая разница')\n",
    "    else:\n",
    "        display('Не получилось отвергнуть нулевую гипотезу, нет оснований считать доли разными')\n",
    "        \n",
    "        \n",
    "z_test('exp_id == 246', 'exp_id == 247', event_users.index[0], alpha)"
   ]
  },
  {
   "cell_type": "markdown",
   "metadata": {},
   "source": [
    "Уровень статистической значимости достаточно высок, чтобы считать, что отстутствуют основания счиать  две группы А различными. А значит, А/А-тест прошёл корректно."
   ]
  },
  {
   "cell_type": "markdown",
   "metadata": {},
   "source": [
    "### Сравнение групп\n",
    "Подготовим данные отдельно по каждой группе и построим для них одну большую воронку. Так мы сможем наглядно увидеть число пользователей в каждой группе, совершивших интересующее нас действие, а также и какой уровень конверсии был на каждом шаге."
   ]
  },
  {
   "cell_type": "code",
   "execution_count": 75,
   "metadata": {},
   "outputs": [],
   "source": [
    "event_users_246 = (df.query('exp_id == 246').groupby('event_name')\n",
    "                   .agg({'user_id': 'nunique'})\n",
    "                   .sort_values(by='user_id', ascending=False))\n",
    "\n",
    "event_users_247 = (df.query('exp_id == 247').groupby('event_name')\n",
    "                   .agg({'user_id': 'nunique'})\n",
    "                   .sort_values(by='user_id', ascending=False))\n",
    "\n",
    "event_users_248 = (df.query('exp_id == 248').groupby('event_name')\n",
    "                   .agg({'user_id': 'nunique'})\n",
    "                   .sort_values(by='user_id', ascending=False))"
   ]
  },
  {
   "cell_type": "code",
   "execution_count": 76,
   "metadata": {},
   "outputs": [
    {
     "data": {
      "application/vnd.plotly.v1+json": {
       "config": {
        "plotlyServerURL": "https://plot.ly"
       },
       "data": [
        {
         "name": "246",
         "textinfo": "value+percent previous+percent initial",
         "type": "funnel",
         "x": [
          2450,
          1542,
          1266,
          1200
         ],
         "y": [
          "Просмотрели главную страницу",
          "Просмотрели страницу с товаром",
          "Добавили товар в корзину",
          "Оплатили товар"
         ]
        },
        {
         "name": "247",
         "textinfo": "value+percent previous+percent initial",
         "type": "funnel",
         "x": [
          2476,
          1520,
          1238,
          1158
         ],
         "y": [
          "Просмотрели главную страницу",
          "Просмотрели страницу с товаром",
          "Добавили товар в корзину",
          "Оплатили товар"
         ]
        },
        {
         "name": "248",
         "textinfo": "value+percent previous+percent initial",
         "type": "funnel",
         "x": [
          2493,
          1531,
          1230,
          1181
         ],
         "y": [
          "Просмотрели главную страницу",
          "Просмотрели страницу с товаром",
          "Добавили товар в корзину",
          "Оплатили товар"
         ]
        }
       ],
       "layout": {
        "template": {
         "data": {
          "bar": [
           {
            "error_x": {
             "color": "#2a3f5f"
            },
            "error_y": {
             "color": "#2a3f5f"
            },
            "marker": {
             "line": {
              "color": "#E5ECF6",
              "width": 0.5
             },
             "pattern": {
              "fillmode": "overlay",
              "size": 10,
              "solidity": 0.2
             }
            },
            "type": "bar"
           }
          ],
          "barpolar": [
           {
            "marker": {
             "line": {
              "color": "#E5ECF6",
              "width": 0.5
             },
             "pattern": {
              "fillmode": "overlay",
              "size": 10,
              "solidity": 0.2
             }
            },
            "type": "barpolar"
           }
          ],
          "carpet": [
           {
            "aaxis": {
             "endlinecolor": "#2a3f5f",
             "gridcolor": "white",
             "linecolor": "white",
             "minorgridcolor": "white",
             "startlinecolor": "#2a3f5f"
            },
            "baxis": {
             "endlinecolor": "#2a3f5f",
             "gridcolor": "white",
             "linecolor": "white",
             "minorgridcolor": "white",
             "startlinecolor": "#2a3f5f"
            },
            "type": "carpet"
           }
          ],
          "choropleth": [
           {
            "colorbar": {
             "outlinewidth": 0,
             "ticks": ""
            },
            "type": "choropleth"
           }
          ],
          "contour": [
           {
            "colorbar": {
             "outlinewidth": 0,
             "ticks": ""
            },
            "colorscale": [
             [
              0,
              "#0d0887"
             ],
             [
              0.1111111111111111,
              "#46039f"
             ],
             [
              0.2222222222222222,
              "#7201a8"
             ],
             [
              0.3333333333333333,
              "#9c179e"
             ],
             [
              0.4444444444444444,
              "#bd3786"
             ],
             [
              0.5555555555555556,
              "#d8576b"
             ],
             [
              0.6666666666666666,
              "#ed7953"
             ],
             [
              0.7777777777777778,
              "#fb9f3a"
             ],
             [
              0.8888888888888888,
              "#fdca26"
             ],
             [
              1,
              "#f0f921"
             ]
            ],
            "type": "contour"
           }
          ],
          "contourcarpet": [
           {
            "colorbar": {
             "outlinewidth": 0,
             "ticks": ""
            },
            "type": "contourcarpet"
           }
          ],
          "heatmap": [
           {
            "colorbar": {
             "outlinewidth": 0,
             "ticks": ""
            },
            "colorscale": [
             [
              0,
              "#0d0887"
             ],
             [
              0.1111111111111111,
              "#46039f"
             ],
             [
              0.2222222222222222,
              "#7201a8"
             ],
             [
              0.3333333333333333,
              "#9c179e"
             ],
             [
              0.4444444444444444,
              "#bd3786"
             ],
             [
              0.5555555555555556,
              "#d8576b"
             ],
             [
              0.6666666666666666,
              "#ed7953"
             ],
             [
              0.7777777777777778,
              "#fb9f3a"
             ],
             [
              0.8888888888888888,
              "#fdca26"
             ],
             [
              1,
              "#f0f921"
             ]
            ],
            "type": "heatmap"
           }
          ],
          "heatmapgl": [
           {
            "colorbar": {
             "outlinewidth": 0,
             "ticks": ""
            },
            "colorscale": [
             [
              0,
              "#0d0887"
             ],
             [
              0.1111111111111111,
              "#46039f"
             ],
             [
              0.2222222222222222,
              "#7201a8"
             ],
             [
              0.3333333333333333,
              "#9c179e"
             ],
             [
              0.4444444444444444,
              "#bd3786"
             ],
             [
              0.5555555555555556,
              "#d8576b"
             ],
             [
              0.6666666666666666,
              "#ed7953"
             ],
             [
              0.7777777777777778,
              "#fb9f3a"
             ],
             [
              0.8888888888888888,
              "#fdca26"
             ],
             [
              1,
              "#f0f921"
             ]
            ],
            "type": "heatmapgl"
           }
          ],
          "histogram": [
           {
            "marker": {
             "pattern": {
              "fillmode": "overlay",
              "size": 10,
              "solidity": 0.2
             }
            },
            "type": "histogram"
           }
          ],
          "histogram2d": [
           {
            "colorbar": {
             "outlinewidth": 0,
             "ticks": ""
            },
            "colorscale": [
             [
              0,
              "#0d0887"
             ],
             [
              0.1111111111111111,
              "#46039f"
             ],
             [
              0.2222222222222222,
              "#7201a8"
             ],
             [
              0.3333333333333333,
              "#9c179e"
             ],
             [
              0.4444444444444444,
              "#bd3786"
             ],
             [
              0.5555555555555556,
              "#d8576b"
             ],
             [
              0.6666666666666666,
              "#ed7953"
             ],
             [
              0.7777777777777778,
              "#fb9f3a"
             ],
             [
              0.8888888888888888,
              "#fdca26"
             ],
             [
              1,
              "#f0f921"
             ]
            ],
            "type": "histogram2d"
           }
          ],
          "histogram2dcontour": [
           {
            "colorbar": {
             "outlinewidth": 0,
             "ticks": ""
            },
            "colorscale": [
             [
              0,
              "#0d0887"
             ],
             [
              0.1111111111111111,
              "#46039f"
             ],
             [
              0.2222222222222222,
              "#7201a8"
             ],
             [
              0.3333333333333333,
              "#9c179e"
             ],
             [
              0.4444444444444444,
              "#bd3786"
             ],
             [
              0.5555555555555556,
              "#d8576b"
             ],
             [
              0.6666666666666666,
              "#ed7953"
             ],
             [
              0.7777777777777778,
              "#fb9f3a"
             ],
             [
              0.8888888888888888,
              "#fdca26"
             ],
             [
              1,
              "#f0f921"
             ]
            ],
            "type": "histogram2dcontour"
           }
          ],
          "mesh3d": [
           {
            "colorbar": {
             "outlinewidth": 0,
             "ticks": ""
            },
            "type": "mesh3d"
           }
          ],
          "parcoords": [
           {
            "line": {
             "colorbar": {
              "outlinewidth": 0,
              "ticks": ""
             }
            },
            "type": "parcoords"
           }
          ],
          "pie": [
           {
            "automargin": true,
            "type": "pie"
           }
          ],
          "scatter": [
           {
            "marker": {
             "colorbar": {
              "outlinewidth": 0,
              "ticks": ""
             }
            },
            "type": "scatter"
           }
          ],
          "scatter3d": [
           {
            "line": {
             "colorbar": {
              "outlinewidth": 0,
              "ticks": ""
             }
            },
            "marker": {
             "colorbar": {
              "outlinewidth": 0,
              "ticks": ""
             }
            },
            "type": "scatter3d"
           }
          ],
          "scattercarpet": [
           {
            "marker": {
             "colorbar": {
              "outlinewidth": 0,
              "ticks": ""
             }
            },
            "type": "scattercarpet"
           }
          ],
          "scattergeo": [
           {
            "marker": {
             "colorbar": {
              "outlinewidth": 0,
              "ticks": ""
             }
            },
            "type": "scattergeo"
           }
          ],
          "scattergl": [
           {
            "marker": {
             "colorbar": {
              "outlinewidth": 0,
              "ticks": ""
             }
            },
            "type": "scattergl"
           }
          ],
          "scattermapbox": [
           {
            "marker": {
             "colorbar": {
              "outlinewidth": 0,
              "ticks": ""
             }
            },
            "type": "scattermapbox"
           }
          ],
          "scatterpolar": [
           {
            "marker": {
             "colorbar": {
              "outlinewidth": 0,
              "ticks": ""
             }
            },
            "type": "scatterpolar"
           }
          ],
          "scatterpolargl": [
           {
            "marker": {
             "colorbar": {
              "outlinewidth": 0,
              "ticks": ""
             }
            },
            "type": "scatterpolargl"
           }
          ],
          "scatterternary": [
           {
            "marker": {
             "colorbar": {
              "outlinewidth": 0,
              "ticks": ""
             }
            },
            "type": "scatterternary"
           }
          ],
          "surface": [
           {
            "colorbar": {
             "outlinewidth": 0,
             "ticks": ""
            },
            "colorscale": [
             [
              0,
              "#0d0887"
             ],
             [
              0.1111111111111111,
              "#46039f"
             ],
             [
              0.2222222222222222,
              "#7201a8"
             ],
             [
              0.3333333333333333,
              "#9c179e"
             ],
             [
              0.4444444444444444,
              "#bd3786"
             ],
             [
              0.5555555555555556,
              "#d8576b"
             ],
             [
              0.6666666666666666,
              "#ed7953"
             ],
             [
              0.7777777777777778,
              "#fb9f3a"
             ],
             [
              0.8888888888888888,
              "#fdca26"
             ],
             [
              1,
              "#f0f921"
             ]
            ],
            "type": "surface"
           }
          ],
          "table": [
           {
            "cells": {
             "fill": {
              "color": "#EBF0F8"
             },
             "line": {
              "color": "white"
             }
            },
            "header": {
             "fill": {
              "color": "#C8D4E3"
             },
             "line": {
              "color": "white"
             }
            },
            "type": "table"
           }
          ]
         },
         "layout": {
          "annotationdefaults": {
           "arrowcolor": "#2a3f5f",
           "arrowhead": 0,
           "arrowwidth": 1
          },
          "autotypenumbers": "strict",
          "coloraxis": {
           "colorbar": {
            "outlinewidth": 0,
            "ticks": ""
           }
          },
          "colorscale": {
           "diverging": [
            [
             0,
             "#8e0152"
            ],
            [
             0.1,
             "#c51b7d"
            ],
            [
             0.2,
             "#de77ae"
            ],
            [
             0.3,
             "#f1b6da"
            ],
            [
             0.4,
             "#fde0ef"
            ],
            [
             0.5,
             "#f7f7f7"
            ],
            [
             0.6,
             "#e6f5d0"
            ],
            [
             0.7,
             "#b8e186"
            ],
            [
             0.8,
             "#7fbc41"
            ],
            [
             0.9,
             "#4d9221"
            ],
            [
             1,
             "#276419"
            ]
           ],
           "sequential": [
            [
             0,
             "#0d0887"
            ],
            [
             0.1111111111111111,
             "#46039f"
            ],
            [
             0.2222222222222222,
             "#7201a8"
            ],
            [
             0.3333333333333333,
             "#9c179e"
            ],
            [
             0.4444444444444444,
             "#bd3786"
            ],
            [
             0.5555555555555556,
             "#d8576b"
            ],
            [
             0.6666666666666666,
             "#ed7953"
            ],
            [
             0.7777777777777778,
             "#fb9f3a"
            ],
            [
             0.8888888888888888,
             "#fdca26"
            ],
            [
             1,
             "#f0f921"
            ]
           ],
           "sequentialminus": [
            [
             0,
             "#0d0887"
            ],
            [
             0.1111111111111111,
             "#46039f"
            ],
            [
             0.2222222222222222,
             "#7201a8"
            ],
            [
             0.3333333333333333,
             "#9c179e"
            ],
            [
             0.4444444444444444,
             "#bd3786"
            ],
            [
             0.5555555555555556,
             "#d8576b"
            ],
            [
             0.6666666666666666,
             "#ed7953"
            ],
            [
             0.7777777777777778,
             "#fb9f3a"
            ],
            [
             0.8888888888888888,
             "#fdca26"
            ],
            [
             1,
             "#f0f921"
            ]
           ]
          },
          "colorway": [
           "#636efa",
           "#EF553B",
           "#00cc96",
           "#ab63fa",
           "#FFA15A",
           "#19d3f3",
           "#FF6692",
           "#B6E880",
           "#FF97FF",
           "#FECB52"
          ],
          "font": {
           "color": "#2a3f5f"
          },
          "geo": {
           "bgcolor": "white",
           "lakecolor": "white",
           "landcolor": "#E5ECF6",
           "showlakes": true,
           "showland": true,
           "subunitcolor": "white"
          },
          "hoverlabel": {
           "align": "left"
          },
          "hovermode": "closest",
          "mapbox": {
           "style": "light"
          },
          "paper_bgcolor": "white",
          "plot_bgcolor": "#E5ECF6",
          "polar": {
           "angularaxis": {
            "gridcolor": "white",
            "linecolor": "white",
            "ticks": ""
           },
           "bgcolor": "#E5ECF6",
           "radialaxis": {
            "gridcolor": "white",
            "linecolor": "white",
            "ticks": ""
           }
          },
          "scene": {
           "xaxis": {
            "backgroundcolor": "#E5ECF6",
            "gridcolor": "white",
            "gridwidth": 2,
            "linecolor": "white",
            "showbackground": true,
            "ticks": "",
            "zerolinecolor": "white"
           },
           "yaxis": {
            "backgroundcolor": "#E5ECF6",
            "gridcolor": "white",
            "gridwidth": 2,
            "linecolor": "white",
            "showbackground": true,
            "ticks": "",
            "zerolinecolor": "white"
           },
           "zaxis": {
            "backgroundcolor": "#E5ECF6",
            "gridcolor": "white",
            "gridwidth": 2,
            "linecolor": "white",
            "showbackground": true,
            "ticks": "",
            "zerolinecolor": "white"
           }
          },
          "shapedefaults": {
           "line": {
            "color": "#2a3f5f"
           }
          },
          "ternary": {
           "aaxis": {
            "gridcolor": "white",
            "linecolor": "white",
            "ticks": ""
           },
           "baxis": {
            "gridcolor": "white",
            "linecolor": "white",
            "ticks": ""
           },
           "bgcolor": "#E5ECF6",
           "caxis": {
            "gridcolor": "white",
            "linecolor": "white",
            "ticks": ""
           }
          },
          "title": {
           "x": 0.05
          },
          "xaxis": {
           "automargin": true,
           "gridcolor": "white",
           "linecolor": "white",
           "ticks": "",
           "title": {
            "standoff": 15
           },
           "zerolinecolor": "white",
           "zerolinewidth": 2
          },
          "yaxis": {
           "automargin": true,
           "gridcolor": "white",
           "linecolor": "white",
           "ticks": "",
           "title": {
            "standoff": 15
           },
           "zerolinecolor": "white",
           "zerolinewidth": 2
          }
         }
        },
        "title": {
         "text": "Событийная воронка с разбивкой по группам"
        }
       }
      },
      "text/html": [
       "<div>                            <div id=\"e9d212c8-fef1-4b68-a5ff-3c2a527ea430\" class=\"plotly-graph-div\" style=\"height:525px; width:100%;\"></div>            <script type=\"text/javascript\">                require([\"plotly\"], function(Plotly) {                    window.PLOTLYENV=window.PLOTLYENV || {};                                    if (document.getElementById(\"e9d212c8-fef1-4b68-a5ff-3c2a527ea430\")) {                    Plotly.newPlot(                        \"e9d212c8-fef1-4b68-a5ff-3c2a527ea430\",                        [{\"name\":\"246\",\"textinfo\":\"value+percent previous+percent initial\",\"x\":[2450,1542,1266,1200],\"y\":[\"\\u041f\\u0440\\u043e\\u0441\\u043c\\u043e\\u0442\\u0440\\u0435\\u043b\\u0438 \\u0433\\u043b\\u0430\\u0432\\u043d\\u0443\\u044e \\u0441\\u0442\\u0440\\u0430\\u043d\\u0438\\u0446\\u0443\",\"\\u041f\\u0440\\u043e\\u0441\\u043c\\u043e\\u0442\\u0440\\u0435\\u043b\\u0438 \\u0441\\u0442\\u0440\\u0430\\u043d\\u0438\\u0446\\u0443 \\u0441 \\u0442\\u043e\\u0432\\u0430\\u0440\\u043e\\u043c\",\"\\u0414\\u043e\\u0431\\u0430\\u0432\\u0438\\u043b\\u0438 \\u0442\\u043e\\u0432\\u0430\\u0440 \\u0432 \\u043a\\u043e\\u0440\\u0437\\u0438\\u043d\\u0443\",\"\\u041e\\u043f\\u043b\\u0430\\u0442\\u0438\\u043b\\u0438 \\u0442\\u043e\\u0432\\u0430\\u0440\"],\"type\":\"funnel\"},{\"name\":\"247\",\"textinfo\":\"value+percent previous+percent initial\",\"x\":[2476,1520,1238,1158],\"y\":[\"\\u041f\\u0440\\u043e\\u0441\\u043c\\u043e\\u0442\\u0440\\u0435\\u043b\\u0438 \\u0433\\u043b\\u0430\\u0432\\u043d\\u0443\\u044e \\u0441\\u0442\\u0440\\u0430\\u043d\\u0438\\u0446\\u0443\",\"\\u041f\\u0440\\u043e\\u0441\\u043c\\u043e\\u0442\\u0440\\u0435\\u043b\\u0438 \\u0441\\u0442\\u0440\\u0430\\u043d\\u0438\\u0446\\u0443 \\u0441 \\u0442\\u043e\\u0432\\u0430\\u0440\\u043e\\u043c\",\"\\u0414\\u043e\\u0431\\u0430\\u0432\\u0438\\u043b\\u0438 \\u0442\\u043e\\u0432\\u0430\\u0440 \\u0432 \\u043a\\u043e\\u0440\\u0437\\u0438\\u043d\\u0443\",\"\\u041e\\u043f\\u043b\\u0430\\u0442\\u0438\\u043b\\u0438 \\u0442\\u043e\\u0432\\u0430\\u0440\"],\"type\":\"funnel\"},{\"name\":\"248\",\"textinfo\":\"value+percent previous+percent initial\",\"x\":[2493,1531,1230,1181],\"y\":[\"\\u041f\\u0440\\u043e\\u0441\\u043c\\u043e\\u0442\\u0440\\u0435\\u043b\\u0438 \\u0433\\u043b\\u0430\\u0432\\u043d\\u0443\\u044e \\u0441\\u0442\\u0440\\u0430\\u043d\\u0438\\u0446\\u0443\",\"\\u041f\\u0440\\u043e\\u0441\\u043c\\u043e\\u0442\\u0440\\u0435\\u043b\\u0438 \\u0441\\u0442\\u0440\\u0430\\u043d\\u0438\\u0446\\u0443 \\u0441 \\u0442\\u043e\\u0432\\u0430\\u0440\\u043e\\u043c\",\"\\u0414\\u043e\\u0431\\u0430\\u0432\\u0438\\u043b\\u0438 \\u0442\\u043e\\u0432\\u0430\\u0440 \\u0432 \\u043a\\u043e\\u0440\\u0437\\u0438\\u043d\\u0443\",\"\\u041e\\u043f\\u043b\\u0430\\u0442\\u0438\\u043b\\u0438 \\u0442\\u043e\\u0432\\u0430\\u0440\"],\"type\":\"funnel\"}],                        {\"template\":{\"data\":{\"bar\":[{\"error_x\":{\"color\":\"#2a3f5f\"},\"error_y\":{\"color\":\"#2a3f5f\"},\"marker\":{\"line\":{\"color\":\"#E5ECF6\",\"width\":0.5},\"pattern\":{\"fillmode\":\"overlay\",\"size\":10,\"solidity\":0.2}},\"type\":\"bar\"}],\"barpolar\":[{\"marker\":{\"line\":{\"color\":\"#E5ECF6\",\"width\":0.5},\"pattern\":{\"fillmode\":\"overlay\",\"size\":10,\"solidity\":0.2}},\"type\":\"barpolar\"}],\"carpet\":[{\"aaxis\":{\"endlinecolor\":\"#2a3f5f\",\"gridcolor\":\"white\",\"linecolor\":\"white\",\"minorgridcolor\":\"white\",\"startlinecolor\":\"#2a3f5f\"},\"baxis\":{\"endlinecolor\":\"#2a3f5f\",\"gridcolor\":\"white\",\"linecolor\":\"white\",\"minorgridcolor\":\"white\",\"startlinecolor\":\"#2a3f5f\"},\"type\":\"carpet\"}],\"choropleth\":[{\"colorbar\":{\"outlinewidth\":0,\"ticks\":\"\"},\"type\":\"choropleth\"}],\"contour\":[{\"colorbar\":{\"outlinewidth\":0,\"ticks\":\"\"},\"colorscale\":[[0.0,\"#0d0887\"],[0.1111111111111111,\"#46039f\"],[0.2222222222222222,\"#7201a8\"],[0.3333333333333333,\"#9c179e\"],[0.4444444444444444,\"#bd3786\"],[0.5555555555555556,\"#d8576b\"],[0.6666666666666666,\"#ed7953\"],[0.7777777777777778,\"#fb9f3a\"],[0.8888888888888888,\"#fdca26\"],[1.0,\"#f0f921\"]],\"type\":\"contour\"}],\"contourcarpet\":[{\"colorbar\":{\"outlinewidth\":0,\"ticks\":\"\"},\"type\":\"contourcarpet\"}],\"heatmap\":[{\"colorbar\":{\"outlinewidth\":0,\"ticks\":\"\"},\"colorscale\":[[0.0,\"#0d0887\"],[0.1111111111111111,\"#46039f\"],[0.2222222222222222,\"#7201a8\"],[0.3333333333333333,\"#9c179e\"],[0.4444444444444444,\"#bd3786\"],[0.5555555555555556,\"#d8576b\"],[0.6666666666666666,\"#ed7953\"],[0.7777777777777778,\"#fb9f3a\"],[0.8888888888888888,\"#fdca26\"],[1.0,\"#f0f921\"]],\"type\":\"heatmap\"}],\"heatmapgl\":[{\"colorbar\":{\"outlinewidth\":0,\"ticks\":\"\"},\"colorscale\":[[0.0,\"#0d0887\"],[0.1111111111111111,\"#46039f\"],[0.2222222222222222,\"#7201a8\"],[0.3333333333333333,\"#9c179e\"],[0.4444444444444444,\"#bd3786\"],[0.5555555555555556,\"#d8576b\"],[0.6666666666666666,\"#ed7953\"],[0.7777777777777778,\"#fb9f3a\"],[0.8888888888888888,\"#fdca26\"],[1.0,\"#f0f921\"]],\"type\":\"heatmapgl\"}],\"histogram\":[{\"marker\":{\"pattern\":{\"fillmode\":\"overlay\",\"size\":10,\"solidity\":0.2}},\"type\":\"histogram\"}],\"histogram2d\":[{\"colorbar\":{\"outlinewidth\":0,\"ticks\":\"\"},\"colorscale\":[[0.0,\"#0d0887\"],[0.1111111111111111,\"#46039f\"],[0.2222222222222222,\"#7201a8\"],[0.3333333333333333,\"#9c179e\"],[0.4444444444444444,\"#bd3786\"],[0.5555555555555556,\"#d8576b\"],[0.6666666666666666,\"#ed7953\"],[0.7777777777777778,\"#fb9f3a\"],[0.8888888888888888,\"#fdca26\"],[1.0,\"#f0f921\"]],\"type\":\"histogram2d\"}],\"histogram2dcontour\":[{\"colorbar\":{\"outlinewidth\":0,\"ticks\":\"\"},\"colorscale\":[[0.0,\"#0d0887\"],[0.1111111111111111,\"#46039f\"],[0.2222222222222222,\"#7201a8\"],[0.3333333333333333,\"#9c179e\"],[0.4444444444444444,\"#bd3786\"],[0.5555555555555556,\"#d8576b\"],[0.6666666666666666,\"#ed7953\"],[0.7777777777777778,\"#fb9f3a\"],[0.8888888888888888,\"#fdca26\"],[1.0,\"#f0f921\"]],\"type\":\"histogram2dcontour\"}],\"mesh3d\":[{\"colorbar\":{\"outlinewidth\":0,\"ticks\":\"\"},\"type\":\"mesh3d\"}],\"parcoords\":[{\"line\":{\"colorbar\":{\"outlinewidth\":0,\"ticks\":\"\"}},\"type\":\"parcoords\"}],\"pie\":[{\"automargin\":true,\"type\":\"pie\"}],\"scatter\":[{\"marker\":{\"colorbar\":{\"outlinewidth\":0,\"ticks\":\"\"}},\"type\":\"scatter\"}],\"scatter3d\":[{\"line\":{\"colorbar\":{\"outlinewidth\":0,\"ticks\":\"\"}},\"marker\":{\"colorbar\":{\"outlinewidth\":0,\"ticks\":\"\"}},\"type\":\"scatter3d\"}],\"scattercarpet\":[{\"marker\":{\"colorbar\":{\"outlinewidth\":0,\"ticks\":\"\"}},\"type\":\"scattercarpet\"}],\"scattergeo\":[{\"marker\":{\"colorbar\":{\"outlinewidth\":0,\"ticks\":\"\"}},\"type\":\"scattergeo\"}],\"scattergl\":[{\"marker\":{\"colorbar\":{\"outlinewidth\":0,\"ticks\":\"\"}},\"type\":\"scattergl\"}],\"scattermapbox\":[{\"marker\":{\"colorbar\":{\"outlinewidth\":0,\"ticks\":\"\"}},\"type\":\"scattermapbox\"}],\"scatterpolar\":[{\"marker\":{\"colorbar\":{\"outlinewidth\":0,\"ticks\":\"\"}},\"type\":\"scatterpolar\"}],\"scatterpolargl\":[{\"marker\":{\"colorbar\":{\"outlinewidth\":0,\"ticks\":\"\"}},\"type\":\"scatterpolargl\"}],\"scatterternary\":[{\"marker\":{\"colorbar\":{\"outlinewidth\":0,\"ticks\":\"\"}},\"type\":\"scatterternary\"}],\"surface\":[{\"colorbar\":{\"outlinewidth\":0,\"ticks\":\"\"},\"colorscale\":[[0.0,\"#0d0887\"],[0.1111111111111111,\"#46039f\"],[0.2222222222222222,\"#7201a8\"],[0.3333333333333333,\"#9c179e\"],[0.4444444444444444,\"#bd3786\"],[0.5555555555555556,\"#d8576b\"],[0.6666666666666666,\"#ed7953\"],[0.7777777777777778,\"#fb9f3a\"],[0.8888888888888888,\"#fdca26\"],[1.0,\"#f0f921\"]],\"type\":\"surface\"}],\"table\":[{\"cells\":{\"fill\":{\"color\":\"#EBF0F8\"},\"line\":{\"color\":\"white\"}},\"header\":{\"fill\":{\"color\":\"#C8D4E3\"},\"line\":{\"color\":\"white\"}},\"type\":\"table\"}]},\"layout\":{\"annotationdefaults\":{\"arrowcolor\":\"#2a3f5f\",\"arrowhead\":0,\"arrowwidth\":1},\"autotypenumbers\":\"strict\",\"coloraxis\":{\"colorbar\":{\"outlinewidth\":0,\"ticks\":\"\"}},\"colorscale\":{\"diverging\":[[0,\"#8e0152\"],[0.1,\"#c51b7d\"],[0.2,\"#de77ae\"],[0.3,\"#f1b6da\"],[0.4,\"#fde0ef\"],[0.5,\"#f7f7f7\"],[0.6,\"#e6f5d0\"],[0.7,\"#b8e186\"],[0.8,\"#7fbc41\"],[0.9,\"#4d9221\"],[1,\"#276419\"]],\"sequential\":[[0.0,\"#0d0887\"],[0.1111111111111111,\"#46039f\"],[0.2222222222222222,\"#7201a8\"],[0.3333333333333333,\"#9c179e\"],[0.4444444444444444,\"#bd3786\"],[0.5555555555555556,\"#d8576b\"],[0.6666666666666666,\"#ed7953\"],[0.7777777777777778,\"#fb9f3a\"],[0.8888888888888888,\"#fdca26\"],[1.0,\"#f0f921\"]],\"sequentialminus\":[[0.0,\"#0d0887\"],[0.1111111111111111,\"#46039f\"],[0.2222222222222222,\"#7201a8\"],[0.3333333333333333,\"#9c179e\"],[0.4444444444444444,\"#bd3786\"],[0.5555555555555556,\"#d8576b\"],[0.6666666666666666,\"#ed7953\"],[0.7777777777777778,\"#fb9f3a\"],[0.8888888888888888,\"#fdca26\"],[1.0,\"#f0f921\"]]},\"colorway\":[\"#636efa\",\"#EF553B\",\"#00cc96\",\"#ab63fa\",\"#FFA15A\",\"#19d3f3\",\"#FF6692\",\"#B6E880\",\"#FF97FF\",\"#FECB52\"],\"font\":{\"color\":\"#2a3f5f\"},\"geo\":{\"bgcolor\":\"white\",\"lakecolor\":\"white\",\"landcolor\":\"#E5ECF6\",\"showlakes\":true,\"showland\":true,\"subunitcolor\":\"white\"},\"hoverlabel\":{\"align\":\"left\"},\"hovermode\":\"closest\",\"mapbox\":{\"style\":\"light\"},\"paper_bgcolor\":\"white\",\"plot_bgcolor\":\"#E5ECF6\",\"polar\":{\"angularaxis\":{\"gridcolor\":\"white\",\"linecolor\":\"white\",\"ticks\":\"\"},\"bgcolor\":\"#E5ECF6\",\"radialaxis\":{\"gridcolor\":\"white\",\"linecolor\":\"white\",\"ticks\":\"\"}},\"scene\":{\"xaxis\":{\"backgroundcolor\":\"#E5ECF6\",\"gridcolor\":\"white\",\"gridwidth\":2,\"linecolor\":\"white\",\"showbackground\":true,\"ticks\":\"\",\"zerolinecolor\":\"white\"},\"yaxis\":{\"backgroundcolor\":\"#E5ECF6\",\"gridcolor\":\"white\",\"gridwidth\":2,\"linecolor\":\"white\",\"showbackground\":true,\"ticks\":\"\",\"zerolinecolor\":\"white\"},\"zaxis\":{\"backgroundcolor\":\"#E5ECF6\",\"gridcolor\":\"white\",\"gridwidth\":2,\"linecolor\":\"white\",\"showbackground\":true,\"ticks\":\"\",\"zerolinecolor\":\"white\"}},\"shapedefaults\":{\"line\":{\"color\":\"#2a3f5f\"}},\"ternary\":{\"aaxis\":{\"gridcolor\":\"white\",\"linecolor\":\"white\",\"ticks\":\"\"},\"baxis\":{\"gridcolor\":\"white\",\"linecolor\":\"white\",\"ticks\":\"\"},\"bgcolor\":\"#E5ECF6\",\"caxis\":{\"gridcolor\":\"white\",\"linecolor\":\"white\",\"ticks\":\"\"}},\"title\":{\"x\":0.05},\"xaxis\":{\"automargin\":true,\"gridcolor\":\"white\",\"linecolor\":\"white\",\"ticks\":\"\",\"title\":{\"standoff\":15},\"zerolinecolor\":\"white\",\"zerolinewidth\":2},\"yaxis\":{\"automargin\":true,\"gridcolor\":\"white\",\"linecolor\":\"white\",\"ticks\":\"\",\"title\":{\"standoff\":15},\"zerolinecolor\":\"white\",\"zerolinewidth\":2}}},\"title\":{\"text\":\"\\u0421\\u043e\\u0431\\u044b\\u0442\\u0438\\u0439\\u043d\\u0430\\u044f \\u0432\\u043e\\u0440\\u043e\\u043d\\u043a\\u0430 \\u0441 \\u0440\\u0430\\u0437\\u0431\\u0438\\u0432\\u043a\\u043e\\u0439 \\u043f\\u043e \\u0433\\u0440\\u0443\\u043f\\u043f\\u0430\\u043c\"}},                        {\"responsive\": true}                    ).then(function(){\n",
       "                            \n",
       "var gd = document.getElementById('e9d212c8-fef1-4b68-a5ff-3c2a527ea430');\n",
       "var x = new MutationObserver(function (mutations, observer) {{\n",
       "        var display = window.getComputedStyle(gd).display;\n",
       "        if (!display || display === 'none') {{\n",
       "            console.log([gd, 'removed!']);\n",
       "            Plotly.purge(gd);\n",
       "            observer.disconnect();\n",
       "        }}\n",
       "}});\n",
       "\n",
       "// Listen for the removal of the full notebook cells\n",
       "var notebookContainer = gd.closest('#notebook-container');\n",
       "if (notebookContainer) {{\n",
       "    x.observe(notebookContainer, {childList: true});\n",
       "}}\n",
       "\n",
       "// Listen for the clearing of the current output cell\n",
       "var outputEl = gd.closest('.output');\n",
       "if (outputEl) {{\n",
       "    x.observe(outputEl, {childList: true});\n",
       "}}\n",
       "\n",
       "                        })                };                });            </script>        </div>"
      ]
     },
     "metadata": {},
     "output_type": "display_data"
    }
   ],
   "source": [
    "fig = go.Figure()\n",
    "\n",
    "funnel_ax = [\n",
    "    'Просмотрели главную страницу',\n",
    "    'Просмотрели страницу с товаром',\n",
    "    'Добавили товар в корзину',\n",
    "    'Оплатили товар'\n",
    "]\n",
    "fig.add_trace(go.Funnel(\n",
    "    name = '246',\n",
    "    y=funnel_ax,\n",
    "    x = event_users_246['user_id'],\n",
    "    textinfo = 'value+percent previous+percent initial'))\n",
    "\n",
    "fig.add_trace(go.Funnel(\n",
    "    name = '247',\n",
    "    y=funnel_ax,\n",
    "    x = event_users_247['user_id'],\n",
    "    textinfo = 'value+percent previous+percent initial'))\n",
    "\n",
    "fig.add_trace(go.Funnel(\n",
    "    name = '248',\n",
    "    y=funnel_ax,\n",
    "    x = event_users_248['user_id'],\n",
    "    textinfo = 'value+percent previous+percent initial'))\n",
    "\n",
    "fig.update_layout(title='Событийная воронка с разбивкой по группам')\n",
    "fig.show()"
   ]
  },
  {
   "cell_type": "markdown",
   "metadata": {},
   "source": [
    "Как и раньше, самым популярным событием во всех группах был просмотр главной страницы. Проведём Z-тест и посмотрим, как сильно отличаются группы на первом этапе."
   ]
  },
  {
   "cell_type": "markdown",
   "metadata": {},
   "source": [
    "#### Z-тест \"просмотр главной страницы\""
   ]
  },
  {
   "cell_type": "code",
   "execution_count": 77,
   "metadata": {},
   "outputs": [
    {
     "name": "stdout",
     "output_type": "stream",
     "text": [
      "p-значение:  0.7526703436483038\n"
     ]
    },
    {
     "data": {
      "text/plain": [
       "'Не получилось отвергнуть нулевую гипотезу, нет оснований считать доли разными'"
      ]
     },
     "metadata": {},
     "output_type": "display_data"
    },
    {
     "name": "stdout",
     "output_type": "stream",
     "text": [
      "p-значение:  0.3387114076159288\n"
     ]
    },
    {
     "data": {
      "text/plain": [
       "'Не получилось отвергнуть нулевую гипотезу, нет оснований считать доли разными'"
      ]
     },
     "metadata": {},
     "output_type": "display_data"
    },
    {
     "name": "stdout",
     "output_type": "stream",
     "text": [
      "p-значение:  0.5194964354051703\n"
     ]
    },
    {
     "data": {
      "text/plain": [
       "'Не получилось отвергнуть нулевую гипотезу, нет оснований считать доли разными'"
      ]
     },
     "metadata": {},
     "output_type": "display_data"
    }
   ],
   "source": [
    "z_test('exp_id == 246', 'exp_id == 247', event_users.index[0], alpha)\n",
    "z_test('exp_id == 246', 'exp_id == 248', event_users.index[0], alpha)\n",
    "z_test('exp_id == 247', 'exp_id == 248', event_users.index[0], alpha)"
   ]
  },
  {
   "cell_type": "markdown",
   "metadata": {},
   "source": [
    "Нет оснований считать доли разными.\n",
    "\n",
    "Продолжаем тест для просмотра товара."
   ]
  },
  {
   "cell_type": "markdown",
   "metadata": {},
   "source": [
    "#### Z-тест \"просмотр страницы с товаром\""
   ]
  },
  {
   "cell_type": "code",
   "execution_count": 78,
   "metadata": {},
   "outputs": [
    {
     "name": "stdout",
     "output_type": "stream",
     "text": [
      "p-значение:  0.24786096925282264\n"
     ]
    },
    {
     "data": {
      "text/plain": [
       "'Не получилось отвергнуть нулевую гипотезу, нет оснований считать доли разными'"
      ]
     },
     "metadata": {},
     "output_type": "display_data"
    },
    {
     "name": "stdout",
     "output_type": "stream",
     "text": [
      "p-значение:  0.21442476639710506\n"
     ]
    },
    {
     "data": {
      "text/plain": [
       "'Не получилось отвергнуть нулевую гипотезу, нет оснований считать доли разными'"
      ]
     },
     "metadata": {},
     "output_type": "display_data"
    },
    {
     "name": "stdout",
     "output_type": "stream",
     "text": [
      "p-значение:  0.9333751305879443\n"
     ]
    },
    {
     "data": {
      "text/plain": [
       "'Не получилось отвергнуть нулевую гипотезу, нет оснований считать доли разными'"
      ]
     },
     "metadata": {},
     "output_type": "display_data"
    }
   ],
   "source": [
    "z_test('exp_id == 246', 'exp_id == 247', event_users.index[1], alpha)\n",
    "z_test('exp_id == 246', 'exp_id == 248', event_users.index[1], alpha)\n",
    "z_test('exp_id == 247', 'exp_id == 248', event_users.index[1], alpha)"
   ]
  },
  {
   "cell_type": "markdown",
   "metadata": {},
   "source": [
    "246 отличается больше от 247, чем 247 от 248. Но всё ещё нет оснований считать доли разными.\n",
    "\n",
    "Продолжаем тест для добавления товара в корзину."
   ]
  },
  {
   "cell_type": "markdown",
   "metadata": {},
   "source": [
    "#### Z-тест \"добавление товара в корзину\""
   ]
  },
  {
   "cell_type": "code",
   "execution_count": 79,
   "metadata": {},
   "outputs": [
    {
     "name": "stdout",
     "output_type": "stream",
     "text": [
      "p-значение:  0.22867643757335676\n"
     ]
    },
    {
     "data": {
      "text/plain": [
       "'Не получилось отвергнуть нулевую гипотезу, нет оснований считать доли разными'"
      ]
     },
     "metadata": {},
     "output_type": "display_data"
    },
    {
     "name": "stdout",
     "output_type": "stream",
     "text": [
      "p-значение:  0.08067367598823139\n"
     ]
    },
    {
     "data": {
      "text/plain": [
       "'Не получилось отвергнуть нулевую гипотезу, нет оснований считать доли разными'"
      ]
     },
     "metadata": {},
     "output_type": "display_data"
    },
    {
     "name": "stdout",
     "output_type": "stream",
     "text": [
      "p-значение:  0.5878284605111943\n"
     ]
    },
    {
     "data": {
      "text/plain": [
       "'Не получилось отвергнуть нулевую гипотезу, нет оснований считать доли разными'"
      ]
     },
     "metadata": {},
     "output_type": "display_data"
    }
   ],
   "source": [
    "z_test('exp_id == 246', 'exp_id == 247', event_users.index[2], alpha)\n",
    "z_test('exp_id == 246', 'exp_id == 248', event_users.index[2], alpha)\n",
    "z_test('exp_id == 247', 'exp_id == 248', event_users.index[2], alpha)"
   ]
  },
  {
   "cell_type": "markdown",
   "metadata": {},
   "source": [
    "Было близко между 246 и 248, но всё ещё нет оснований считать доли разными.\n",
    "\n",
    "Продолжаем тест для оплаты товара."
   ]
  },
  {
   "cell_type": "markdown",
   "metadata": {},
   "source": [
    "#### Z-тест \"оплата товара\""
   ]
  },
  {
   "cell_type": "code",
   "execution_count": 80,
   "metadata": {},
   "outputs": [
    {
     "name": "stdout",
     "output_type": "stream",
     "text": [
      "p-значение:  0.11446627829276612\n"
     ]
    },
    {
     "data": {
      "text/plain": [
       "'Не получилось отвергнуть нулевую гипотезу, нет оснований считать доли разными'"
      ]
     },
     "metadata": {},
     "output_type": "display_data"
    },
    {
     "name": "stdout",
     "output_type": "stream",
     "text": [
      "p-значение:  0.21693033984516674\n"
     ]
    },
    {
     "data": {
      "text/plain": [
       "'Не получилось отвергнуть нулевую гипотезу, нет оснований считать доли разными'"
      ]
     },
     "metadata": {},
     "output_type": "display_data"
    },
    {
     "name": "stdout",
     "output_type": "stream",
     "text": [
      "p-значение:  0.7275718682261119\n"
     ]
    },
    {
     "data": {
      "text/plain": [
       "'Не получилось отвергнуть нулевую гипотезу, нет оснований считать доли разными'"
      ]
     },
     "metadata": {},
     "output_type": "display_data"
    }
   ],
   "source": [
    "z_test('exp_id == 246', 'exp_id == 247', event_users.index[3], alpha)\n",
    "z_test('exp_id == 246', 'exp_id == 248', event_users.index[3], alpha)\n",
    "z_test('exp_id == 247', 'exp_id == 248', event_users.index[3], alpha)"
   ]
  },
  {
   "cell_type": "markdown",
   "metadata": {},
   "source": [
    "С оплатой товара тоже нет статитистических значимых отличий.\n",
    "\n",
    "Проверим на объединённой контрольной группе."
   ]
  },
  {
   "cell_type": "markdown",
   "metadata": {},
   "source": [
    "#### Z-тест по всем событиям (объёдинённая контрольная группа и экспериментальная группа)"
   ]
  },
  {
   "cell_type": "code",
   "execution_count": 81,
   "metadata": {
    "scrolled": false
   },
   "outputs": [
    {
     "name": "stdout",
     "output_type": "stream",
     "text": [
      "p-значение:  0.3486684291093256\n"
     ]
    },
    {
     "data": {
      "text/plain": [
       "'Не получилось отвергнуть нулевую гипотезу, нет оснований считать доли разными'"
      ]
     },
     "metadata": {},
     "output_type": "display_data"
    },
    {
     "name": "stdout",
     "output_type": "stream",
     "text": [
      "p-значение:  0.44582745409482394\n"
     ]
    },
    {
     "data": {
      "text/plain": [
       "'Не получилось отвергнуть нулевую гипотезу, нет оснований считать доли разными'"
      ]
     },
     "metadata": {},
     "output_type": "display_data"
    },
    {
     "name": "stdout",
     "output_type": "stream",
     "text": [
      "p-значение:  0.18683558686831558\n"
     ]
    },
    {
     "data": {
      "text/plain": [
       "'Не получилось отвергнуть нулевую гипотезу, нет оснований считать доли разными'"
      ]
     },
     "metadata": {},
     "output_type": "display_data"
    },
    {
     "name": "stdout",
     "output_type": "stream",
     "text": [
      "p-значение:  0.6107918742187335\n"
     ]
    },
    {
     "data": {
      "text/plain": [
       "'Не получилось отвергнуть нулевую гипотезу, нет оснований считать доли разными'"
      ]
     },
     "metadata": {},
     "output_type": "display_data"
    },
    {
     "data": {
      "text/plain": [
       "[None, None, None, None]"
      ]
     },
     "execution_count": 81,
     "metadata": {},
     "output_type": "execute_result"
    }
   ],
   "source": [
    "# сравним 248 группу и НЕ 248 группу (то есть 246 и 247)\n",
    "[z_test('exp_id != 248', 'exp_id == 248', i, alpha) for i in event_users.index]"
   ]
  },
  {
   "cell_type": "markdown",
   "metadata": {},
   "source": [
    "Полученные резульататы не позволяют заявить, что группы хоть сколько значимо отличаются."
   ]
  },
  {
   "cell_type": "markdown",
   "metadata": {},
   "source": [
    "### Уровень значимости\n",
    "Уровень статистической значимости — это вероятность случайно получить в реальном наблюдении значение, далёкое от предполагаемого в нулевой гипотезе. Выбранный уровень значимости равен $\\alpha$ =  0.05. Это также значит, что вероятность ошибиться и получить ложнопозитивный результат тоже равна 0.05, то есть в одной из двадцати проверок p-value скажет нам, что выборки статистически значимо различаются, хоть это и не так.\n",
    "\n",
    "Всего мы провели 16 проверок: 4 события, изначальные 3 пары групп, плюс ещё 1 дополнительная - 4 * 4 = 16. Поэтому можно считать, что коэффициент статистической значимости $\\alpha$ =  0.05 выбран удачно. Пересчитывать ничего не нужно."
   ]
  },
  {
   "cell_type": "markdown",
   "metadata": {},
   "source": [
    "## Выводы и рекомендации\n",
    "### Выводы\n",
    "* По итогам выполнения проекта был проведена подговка данных, в ходе которой были выявлены и устранены явные дубликаты. \n",
    "\n",
    "* Изначально в нашем распоряжении были данные с 25 июля по 8 августа 2019 г. Однако по результатам оценки частотно-событийной гистограммы было установлено, что актуальными являются данные только с 1 августа, поскольку июльские данные не играют значимой роли в нашем анализе и составляют всего 1.16%.\n",
    "\n",
    "* Построив событийную воронку по всем пользователям, стало видно, что наименьшая конверсия на переходе от главной страницы к выбору продуктов. Туда доходят всего лишь 62% пользователей. В то время как от выбора товара до корзины доходит 81%, а оплату проводит 95%. Весь путь проходят 48% пользователей.\n",
    "\n",
    "* При проверке А/А/В-теста, где проверялось влияние изменения шрифта в приложении в группе В, была установлена корректность А/А-теста, который не показал значимых изменений между двумя контрольными группами, где шрифты остались старые. Однако в дальнейшем проверка результатов показала, что какие-либо значимые изменения отсутствуют при сравнении любых групп на всех этапах, что позволяет сделать вывод о том, что изменение шрифтов не оказывает особого влияния.\n",
    "\n",
    "### Рекомендации\n",
    "* Рассмотреть процесс перехода между от главной страницы до страницы с продуктами с целью повышения уровня конверсии.\n",
    "\n",
    "* С учётом полученных результатов в А/А/В-тесте менять шрифты нецелесообразно."
   ]
  }
 ],
 "metadata": {
  "ExecuteTimeLog": [
   {
    "duration": 394,
    "start_time": "2022-06-21T06:22:45.156Z"
   },
   {
    "duration": 106,
    "start_time": "2022-06-21T06:24:11.884Z"
   },
   {
    "duration": 779,
    "start_time": "2022-06-21T06:24:37.599Z"
   },
   {
    "duration": 73,
    "start_time": "2022-06-21T06:24:58.890Z"
   },
   {
    "duration": 333,
    "start_time": "2022-06-21T06:25:14.741Z"
   },
   {
    "duration": 186,
    "start_time": "2022-06-21T06:25:24.557Z"
   },
   {
    "duration": 201,
    "start_time": "2022-06-21T06:25:42.765Z"
   },
   {
    "duration": 27,
    "start_time": "2022-06-21T06:32:10.807Z"
   },
   {
    "duration": 12,
    "start_time": "2022-06-21T06:32:22.765Z"
   },
   {
    "duration": 70,
    "start_time": "2022-06-21T08:46:09.554Z"
   },
   {
    "duration": 9,
    "start_time": "2022-06-21T08:46:13.665Z"
   },
   {
    "duration": 72,
    "start_time": "2022-06-21T08:46:53.070Z"
   },
   {
    "duration": 147,
    "start_time": "2022-06-21T08:51:49.972Z"
   },
   {
    "duration": 199,
    "start_time": "2022-06-21T08:52:08.252Z"
   },
   {
    "duration": 129,
    "start_time": "2022-06-21T08:52:27.648Z"
   },
   {
    "duration": 3,
    "start_time": "2022-06-21T08:52:44.403Z"
   },
   {
    "duration": 191,
    "start_time": "2022-06-21T08:52:44.410Z"
   },
   {
    "duration": 27,
    "start_time": "2022-06-21T08:52:44.603Z"
   },
   {
    "duration": 79,
    "start_time": "2022-06-21T08:52:44.632Z"
   },
   {
    "duration": 94,
    "start_time": "2022-06-21T08:52:44.714Z"
   },
   {
    "duration": 133,
    "start_time": "2022-06-21T08:52:53.853Z"
   },
   {
    "duration": 94,
    "start_time": "2022-06-21T08:53:20.659Z"
   },
   {
    "duration": 3,
    "start_time": "2022-06-21T08:53:42.960Z"
   },
   {
    "duration": 194,
    "start_time": "2022-06-21T08:53:42.968Z"
   },
   {
    "duration": 11,
    "start_time": "2022-06-21T08:53:43.165Z"
   },
   {
    "duration": 83,
    "start_time": "2022-06-21T08:53:43.179Z"
   },
   {
    "duration": 95,
    "start_time": "2022-06-21T08:53:43.264Z"
   },
   {
    "duration": 3,
    "start_time": "2022-06-21T08:57:04.139Z"
   },
   {
    "duration": 182,
    "start_time": "2022-06-21T08:57:04.147Z"
   },
   {
    "duration": 15,
    "start_time": "2022-06-21T08:57:04.332Z"
   },
   {
    "duration": 91,
    "start_time": "2022-06-21T08:57:04.349Z"
   },
   {
    "duration": 106,
    "start_time": "2022-06-21T08:57:04.443Z"
   },
   {
    "duration": 23,
    "start_time": "2022-06-21T09:03:30.419Z"
   },
   {
    "duration": 3,
    "start_time": "2022-06-21T09:03:39.546Z"
   },
   {
    "duration": 203,
    "start_time": "2022-06-21T09:03:39.551Z"
   },
   {
    "duration": 10,
    "start_time": "2022-06-21T09:03:39.756Z"
   },
   {
    "duration": 71,
    "start_time": "2022-06-21T09:03:39.768Z"
   },
   {
    "duration": 55,
    "start_time": "2022-06-21T09:03:39.846Z"
   },
   {
    "duration": 849,
    "start_time": "2022-06-21T09:03:39.902Z"
   },
   {
    "duration": 48,
    "start_time": "2022-06-21T09:04:30.720Z"
   },
   {
    "duration": 3,
    "start_time": "2022-06-21T09:05:39.392Z"
   },
   {
    "duration": 12,
    "start_time": "2022-06-21T09:06:06.726Z"
   },
   {
    "duration": 3,
    "start_time": "2022-06-21T09:06:37.390Z"
   },
   {
    "duration": 200,
    "start_time": "2022-06-21T09:06:37.395Z"
   },
   {
    "duration": 9,
    "start_time": "2022-06-21T09:06:37.597Z"
   },
   {
    "duration": 69,
    "start_time": "2022-06-21T09:06:37.608Z"
   },
   {
    "duration": 67,
    "start_time": "2022-06-21T09:06:37.679Z"
   },
   {
    "duration": 7,
    "start_time": "2022-06-21T09:06:37.748Z"
   },
   {
    "duration": 13,
    "start_time": "2022-06-21T09:10:05.659Z"
   },
   {
    "duration": 12,
    "start_time": "2022-06-21T09:13:53.602Z"
   },
   {
    "duration": 13,
    "start_time": "2022-06-21T10:10:00.751Z"
   },
   {
    "duration": 20,
    "start_time": "2022-06-21T10:10:08.712Z"
   },
   {
    "duration": 30,
    "start_time": "2022-06-21T10:10:15.387Z"
   },
   {
    "duration": 13,
    "start_time": "2022-06-21T10:11:25.870Z"
   },
   {
    "duration": 8,
    "start_time": "2022-06-21T10:12:35.283Z"
   },
   {
    "duration": 19,
    "start_time": "2022-06-21T10:17:55.769Z"
   },
   {
    "duration": 18,
    "start_time": "2022-06-21T10:18:13.823Z"
   },
   {
    "duration": 15,
    "start_time": "2022-06-21T10:18:40.631Z"
   },
   {
    "duration": 19,
    "start_time": "2022-06-21T10:19:23.282Z"
   },
   {
    "duration": 6,
    "start_time": "2022-06-21T10:24:54.611Z"
   },
   {
    "duration": 6278,
    "start_time": "2022-06-21T10:30:51.370Z"
   },
   {
    "duration": 5905,
    "start_time": "2022-06-21T10:35:08.506Z"
   },
   {
    "duration": 5673,
    "start_time": "2022-06-21T10:38:14.535Z"
   },
   {
    "duration": 29,
    "start_time": "2022-06-21T10:43:09.618Z"
   },
   {
    "duration": 152,
    "start_time": "2022-06-21T10:45:30.508Z"
   },
   {
    "duration": 35,
    "start_time": "2022-06-21T10:46:09.392Z"
   },
   {
    "duration": 93,
    "start_time": "2022-06-21T10:46:19.395Z"
   },
   {
    "duration": 3,
    "start_time": "2022-06-21T10:50:11.929Z"
   },
   {
    "duration": 64,
    "start_time": "2022-06-21T10:51:08.852Z"
   },
   {
    "duration": 3,
    "start_time": "2022-06-21T10:51:45.696Z"
   },
   {
    "duration": 17,
    "start_time": "2022-06-21T10:51:50.915Z"
   },
   {
    "duration": 3,
    "start_time": "2022-06-21T10:52:28.010Z"
   },
   {
    "duration": 17,
    "start_time": "2022-06-21T10:52:57.865Z"
   },
   {
    "duration": 16,
    "start_time": "2022-06-21T10:53:04.815Z"
   },
   {
    "duration": 19,
    "start_time": "2022-06-21T10:54:22.078Z"
   },
   {
    "duration": 22,
    "start_time": "2022-06-21T10:54:36.396Z"
   },
   {
    "duration": 18,
    "start_time": "2022-06-21T10:57:59.279Z"
   },
   {
    "duration": 18,
    "start_time": "2022-06-21T10:58:08.429Z"
   },
   {
    "duration": 19,
    "start_time": "2022-06-21T11:00:10.413Z"
   },
   {
    "duration": 20,
    "start_time": "2022-06-21T11:00:29.764Z"
   },
   {
    "duration": 23,
    "start_time": "2022-06-21T11:01:16.429Z"
   },
   {
    "duration": 18,
    "start_time": "2022-06-21T11:03:54.590Z"
   },
   {
    "duration": 22,
    "start_time": "2022-06-21T11:04:49.895Z"
   },
   {
    "duration": 17,
    "start_time": "2022-06-21T11:05:18.895Z"
   },
   {
    "duration": 7,
    "start_time": "2022-06-21T11:07:21.311Z"
   },
   {
    "duration": 529,
    "start_time": "2022-06-21T11:17:04.525Z"
   },
   {
    "duration": 218,
    "start_time": "2022-06-21T11:17:05.056Z"
   },
   {
    "duration": 19,
    "start_time": "2022-06-21T11:17:05.276Z"
   },
   {
    "duration": 83,
    "start_time": "2022-06-21T11:17:05.296Z"
   },
   {
    "duration": 87,
    "start_time": "2022-06-21T11:17:05.381Z"
   },
   {
    "duration": 13,
    "start_time": "2022-06-21T11:17:05.470Z"
   },
   {
    "duration": 14,
    "start_time": "2022-06-21T11:17:05.484Z"
   },
   {
    "duration": 39,
    "start_time": "2022-06-21T11:17:05.500Z"
   },
   {
    "duration": 171,
    "start_time": "2022-06-21T11:17:05.541Z"
   },
   {
    "duration": 6346,
    "start_time": "2022-06-21T11:17:05.714Z"
   },
   {
    "duration": 81,
    "start_time": "2022-06-21T11:17:12.062Z"
   },
   {
    "duration": 19,
    "start_time": "2022-06-21T11:17:12.144Z"
   },
   {
    "duration": 5,
    "start_time": "2022-06-21T11:17:12.227Z"
   },
   {
    "duration": 8,
    "start_time": "2022-06-21T11:17:12.235Z"
   },
   {
    "duration": 28,
    "start_time": "2022-06-21T11:20:30.019Z"
   },
   {
    "duration": 130,
    "start_time": "2022-06-21T11:20:53.585Z"
   },
   {
    "duration": 17,
    "start_time": "2022-06-21T11:21:30.988Z"
   },
   {
    "duration": 22,
    "start_time": "2022-06-21T11:21:44.914Z"
   },
   {
    "duration": 27,
    "start_time": "2022-06-21T11:22:24.575Z"
   },
   {
    "duration": 75,
    "start_time": "2022-06-21T11:25:27.407Z"
   },
   {
    "duration": 31,
    "start_time": "2022-06-21T11:26:16.470Z"
   },
   {
    "duration": 32,
    "start_time": "2022-06-21T11:26:30.664Z"
   },
   {
    "duration": 27,
    "start_time": "2022-06-21T11:28:16.443Z"
   },
   {
    "duration": 27,
    "start_time": "2022-06-21T11:28:53.519Z"
   },
   {
    "duration": 9,
    "start_time": "2022-06-21T12:12:38.286Z"
   },
   {
    "duration": 3,
    "start_time": "2022-06-21T12:12:42.772Z"
   },
   {
    "duration": 174,
    "start_time": "2022-06-21T12:12:42.777Z"
   },
   {
    "duration": 10,
    "start_time": "2022-06-21T12:12:42.952Z"
   },
   {
    "duration": 52,
    "start_time": "2022-06-21T12:12:42.963Z"
   },
   {
    "duration": 55,
    "start_time": "2022-06-21T12:12:43.028Z"
   },
   {
    "duration": 12,
    "start_time": "2022-06-21T12:12:43.084Z"
   },
   {
    "duration": 30,
    "start_time": "2022-06-21T12:12:43.098Z"
   },
   {
    "duration": 18,
    "start_time": "2022-06-21T12:12:43.130Z"
   },
   {
    "duration": 177,
    "start_time": "2022-06-21T12:12:43.150Z"
   },
   {
    "duration": 5652,
    "start_time": "2022-06-21T12:12:43.328Z"
   },
   {
    "duration": 52,
    "start_time": "2022-06-21T12:12:48.981Z"
   },
   {
    "duration": 16,
    "start_time": "2022-06-21T12:12:49.035Z"
   },
   {
    "duration": 83,
    "start_time": "2022-06-21T12:12:49.052Z"
   },
   {
    "duration": 21,
    "start_time": "2022-06-21T12:12:49.138Z"
   },
   {
    "duration": 30,
    "start_time": "2022-06-21T12:20:43.088Z"
   },
   {
    "duration": 29,
    "start_time": "2022-06-21T12:21:30.227Z"
   },
   {
    "duration": 27,
    "start_time": "2022-06-21T12:21:37.325Z"
   },
   {
    "duration": 26,
    "start_time": "2022-06-21T12:21:46.990Z"
   },
   {
    "duration": 24,
    "start_time": "2022-06-21T12:21:50.916Z"
   },
   {
    "duration": 28,
    "start_time": "2022-06-21T12:22:03.487Z"
   },
   {
    "duration": 175,
    "start_time": "2022-06-21T12:22:18.938Z"
   },
   {
    "duration": 27,
    "start_time": "2022-06-21T12:23:16.343Z"
   },
   {
    "duration": 26,
    "start_time": "2022-06-21T12:26:53.196Z"
   },
   {
    "duration": 24,
    "start_time": "2022-06-21T12:26:59.685Z"
   },
   {
    "duration": 28,
    "start_time": "2022-06-21T12:27:05.220Z"
   },
   {
    "duration": 99,
    "start_time": "2022-06-21T12:27:26.498Z"
   },
   {
    "duration": 138,
    "start_time": "2022-06-21T12:29:21.476Z"
   },
   {
    "duration": 79,
    "start_time": "2022-06-21T12:32:33.191Z"
   },
   {
    "duration": 54,
    "start_time": "2022-06-21T12:32:40.535Z"
   },
   {
    "duration": 54,
    "start_time": "2022-06-21T12:32:58.966Z"
   },
   {
    "duration": 63,
    "start_time": "2022-06-21T12:33:09.827Z"
   },
   {
    "duration": 79,
    "start_time": "2022-06-21T12:33:17.568Z"
   },
   {
    "duration": 66,
    "start_time": "2022-06-21T12:35:51.822Z"
   },
   {
    "duration": 57,
    "start_time": "2022-06-21T12:35:58.390Z"
   },
   {
    "duration": 76,
    "start_time": "2022-06-21T12:36:57.919Z"
   },
   {
    "duration": 49,
    "start_time": "2022-06-21T12:37:08.347Z"
   },
   {
    "duration": 84,
    "start_time": "2022-06-21T12:37:13.115Z"
   },
   {
    "duration": 53,
    "start_time": "2022-06-21T12:37:45.443Z"
   },
   {
    "duration": 5,
    "start_time": "2022-06-21T12:38:07.886Z"
   },
   {
    "duration": 53,
    "start_time": "2022-06-21T12:52:57.670Z"
   },
   {
    "duration": 66,
    "start_time": "2022-06-21T12:54:45.064Z"
   },
   {
    "duration": 17,
    "start_time": "2022-06-21T13:07:44.086Z"
   },
   {
    "duration": 20,
    "start_time": "2022-06-21T13:08:05.703Z"
   },
   {
    "duration": 46,
    "start_time": "2022-06-21T13:16:06.796Z"
   },
   {
    "duration": 15,
    "start_time": "2022-06-21T13:16:18.099Z"
   },
   {
    "duration": 75,
    "start_time": "2022-06-21T13:16:22.904Z"
   },
   {
    "duration": 73,
    "start_time": "2022-06-21T13:16:33.889Z"
   },
   {
    "duration": 4,
    "start_time": "2022-06-21T13:31:09.147Z"
   },
   {
    "duration": 10,
    "start_time": "2022-06-21T13:33:27.882Z"
   },
   {
    "duration": 482,
    "start_time": "2022-06-21T17:21:27.676Z"
   },
   {
    "duration": 544,
    "start_time": "2022-06-21T17:21:28.160Z"
   },
   {
    "duration": 19,
    "start_time": "2022-06-21T17:21:28.706Z"
   },
   {
    "duration": 68,
    "start_time": "2022-06-21T17:21:28.727Z"
   },
   {
    "duration": 88,
    "start_time": "2022-06-21T17:21:28.797Z"
   },
   {
    "duration": 16,
    "start_time": "2022-06-21T17:21:28.887Z"
   },
   {
    "duration": 35,
    "start_time": "2022-06-21T17:21:28.905Z"
   },
   {
    "duration": 32,
    "start_time": "2022-06-21T17:21:28.942Z"
   },
   {
    "duration": 255,
    "start_time": "2022-06-21T17:21:28.976Z"
   },
   {
    "duration": 5828,
    "start_time": "2022-06-21T17:21:29.233Z"
   },
   {
    "duration": 25,
    "start_time": "2022-06-21T17:21:35.067Z"
   },
   {
    "duration": 81,
    "start_time": "2022-06-21T17:21:35.093Z"
   },
   {
    "duration": 35,
    "start_time": "2022-06-21T17:21:35.176Z"
   },
   {
    "duration": 74,
    "start_time": "2022-06-21T17:21:35.212Z"
   },
   {
    "duration": 81,
    "start_time": "2022-06-21T17:21:35.288Z"
   },
   {
    "duration": 130,
    "start_time": "2022-06-21T17:21:35.372Z"
   },
   {
    "duration": 9,
    "start_time": "2022-06-21T17:21:35.503Z"
   },
   {
    "duration": 10,
    "start_time": "2022-06-21T17:22:03.563Z"
   },
   {
    "duration": 108,
    "start_time": "2022-06-21T17:24:35.389Z"
   },
   {
    "duration": 43,
    "start_time": "2022-06-21T17:26:43.796Z"
   },
   {
    "duration": 14,
    "start_time": "2022-06-21T17:27:37.294Z"
   },
   {
    "duration": 32,
    "start_time": "2022-06-21T17:28:45.387Z"
   },
   {
    "duration": 16,
    "start_time": "2022-06-21T17:29:53.439Z"
   },
   {
    "duration": 10,
    "start_time": "2022-06-21T17:30:08.423Z"
   },
   {
    "duration": 12,
    "start_time": "2022-06-21T17:30:24.990Z"
   },
   {
    "duration": 10,
    "start_time": "2022-06-21T17:31:05.596Z"
   },
   {
    "duration": 13,
    "start_time": "2022-06-21T17:31:22.984Z"
   },
   {
    "duration": 9,
    "start_time": "2022-06-21T17:34:46.041Z"
   },
   {
    "duration": 12,
    "start_time": "2022-06-21T17:36:08.920Z"
   },
   {
    "duration": 12,
    "start_time": "2022-06-21T17:37:47.134Z"
   },
   {
    "duration": 11,
    "start_time": "2022-06-21T17:41:37.895Z"
   },
   {
    "duration": 475,
    "start_time": "2022-06-21T19:29:22.063Z"
   },
   {
    "duration": 40,
    "start_time": "2022-06-21T19:34:27.196Z"
   },
   {
    "duration": 32,
    "start_time": "2022-06-21T19:34:55.401Z"
   },
   {
    "duration": 1233,
    "start_time": "2022-06-21T19:36:36.020Z"
   },
   {
    "duration": 4078,
    "start_time": "2022-06-21T19:38:05.775Z"
   },
   {
    "duration": 47,
    "start_time": "2022-06-21T19:38:31.574Z"
   },
   {
    "duration": 185,
    "start_time": "2022-06-21T19:43:54.998Z"
   },
   {
    "duration": 984,
    "start_time": "2022-06-21T19:44:25.831Z"
   },
   {
    "duration": 411,
    "start_time": "2022-06-21T19:44:48.286Z"
   },
   {
    "duration": 10824,
    "start_time": "2022-06-21T19:44:59.995Z"
   },
   {
    "duration": 33,
    "start_time": "2022-06-21T19:45:49.991Z"
   },
   {
    "duration": 67,
    "start_time": "2022-06-21T19:46:33.130Z"
   },
   {
    "duration": 50,
    "start_time": "2022-06-21T19:46:39.197Z"
   },
   {
    "duration": 75,
    "start_time": "2022-06-21T19:46:54.608Z"
   },
   {
    "duration": 54,
    "start_time": "2022-06-21T19:47:05.393Z"
   },
   {
    "duration": 53,
    "start_time": "2022-06-21T19:47:23.300Z"
   },
   {
    "duration": 356,
    "start_time": "2022-06-21T19:47:30.796Z"
   },
   {
    "duration": 899,
    "start_time": "2022-06-22T04:16:34.253Z"
   },
   {
    "duration": 710,
    "start_time": "2022-06-22T04:16:35.154Z"
   },
   {
    "duration": 17,
    "start_time": "2022-06-22T04:16:35.866Z"
   },
   {
    "duration": 76,
    "start_time": "2022-06-22T04:16:35.884Z"
   },
   {
    "duration": 78,
    "start_time": "2022-06-22T04:16:35.962Z"
   },
   {
    "duration": 15,
    "start_time": "2022-06-22T04:16:36.041Z"
   },
   {
    "duration": 18,
    "start_time": "2022-06-22T04:16:36.058Z"
   },
   {
    "duration": 24,
    "start_time": "2022-06-22T04:16:36.078Z"
   },
   {
    "duration": 173,
    "start_time": "2022-06-22T04:16:36.104Z"
   },
   {
    "duration": 6364,
    "start_time": "2022-06-22T04:16:36.279Z"
   },
   {
    "duration": 27,
    "start_time": "2022-06-22T04:16:42.645Z"
   },
   {
    "duration": 75,
    "start_time": "2022-06-22T04:16:42.673Z"
   },
   {
    "duration": 32,
    "start_time": "2022-06-22T04:16:42.749Z"
   },
   {
    "duration": 69,
    "start_time": "2022-06-22T04:16:42.782Z"
   },
   {
    "duration": 18,
    "start_time": "2022-06-22T04:16:42.853Z"
   },
   {
    "duration": 158,
    "start_time": "2022-06-22T04:16:42.873Z"
   },
   {
    "duration": 10,
    "start_time": "2022-06-22T04:16:43.033Z"
   },
   {
    "duration": 22,
    "start_time": "2022-06-22T04:16:43.044Z"
   },
   {
    "duration": 148,
    "start_time": "2022-06-22T04:17:19.867Z"
   },
   {
    "duration": 8,
    "start_time": "2022-06-22T04:17:24.619Z"
   },
   {
    "duration": 3,
    "start_time": "2022-06-22T05:21:04.104Z"
   },
   {
    "duration": 161,
    "start_time": "2022-06-22T05:21:04.125Z"
   },
   {
    "duration": 11,
    "start_time": "2022-06-22T05:21:04.288Z"
   },
   {
    "duration": 61,
    "start_time": "2022-06-22T05:21:04.300Z"
   },
   {
    "duration": 44,
    "start_time": "2022-06-22T05:21:04.363Z"
   },
   {
    "duration": 35,
    "start_time": "2022-06-22T05:21:04.409Z"
   },
   {
    "duration": 14,
    "start_time": "2022-06-22T05:21:04.446Z"
   },
   {
    "duration": 15,
    "start_time": "2022-06-22T05:21:04.461Z"
   },
   {
    "duration": 147,
    "start_time": "2022-06-22T05:21:04.478Z"
   },
   {
    "duration": 5758,
    "start_time": "2022-06-22T05:21:04.627Z"
   },
   {
    "duration": 58,
    "start_time": "2022-06-22T05:21:10.387Z"
   },
   {
    "duration": 15,
    "start_time": "2022-06-22T05:21:10.447Z"
   },
   {
    "duration": 82,
    "start_time": "2022-06-22T05:21:10.463Z"
   },
   {
    "duration": 19,
    "start_time": "2022-06-22T05:21:10.546Z"
   },
   {
    "duration": 75,
    "start_time": "2022-06-22T05:21:10.567Z"
   },
   {
    "duration": 112,
    "start_time": "2022-06-22T05:21:10.643Z"
   },
   {
    "duration": 14,
    "start_time": "2022-06-22T05:21:10.757Z"
   },
   {
    "duration": 79,
    "start_time": "2022-06-22T05:21:10.773Z"
   },
   {
    "duration": 31,
    "start_time": "2022-06-22T05:21:45.510Z"
   },
   {
    "duration": 27,
    "start_time": "2022-06-22T05:22:00.519Z"
   },
   {
    "duration": 22,
    "start_time": "2022-06-22T05:22:04.157Z"
   },
   {
    "duration": 112,
    "start_time": "2022-06-22T05:36:39.650Z"
   },
   {
    "duration": 115,
    "start_time": "2022-06-22T05:36:46.980Z"
   },
   {
    "duration": 23,
    "start_time": "2022-06-22T05:36:51.485Z"
   },
   {
    "duration": 8953,
    "start_time": "2022-06-22T05:37:23.710Z"
   },
   {
    "duration": 8950,
    "start_time": "2022-06-22T06:11:35.918Z"
   },
   {
    "duration": 30,
    "start_time": "2022-06-22T06:11:52.353Z"
   },
   {
    "duration": 51,
    "start_time": "2022-06-22T06:27:37.969Z"
   },
   {
    "duration": 4,
    "start_time": "2022-06-22T06:27:52.521Z"
   },
   {
    "duration": 60,
    "start_time": "2022-06-22T06:27:57.315Z"
   },
   {
    "duration": 4,
    "start_time": "2022-06-22T06:28:17.913Z"
   },
   {
    "duration": 68,
    "start_time": "2022-06-22T06:28:23.225Z"
   },
   {
    "duration": 4,
    "start_time": "2022-06-22T06:30:25.124Z"
   },
   {
    "duration": 6,
    "start_time": "2022-06-22T06:30:32.205Z"
   },
   {
    "duration": 4,
    "start_time": "2022-06-22T06:31:55.861Z"
   },
   {
    "duration": 56,
    "start_time": "2022-06-22T06:57:19.929Z"
   },
   {
    "duration": 36,
    "start_time": "2022-06-22T06:58:09.668Z"
   },
   {
    "duration": 28,
    "start_time": "2022-06-22T07:03:12.314Z"
   },
   {
    "duration": 24,
    "start_time": "2022-06-22T07:03:27.361Z"
   },
   {
    "duration": 43,
    "start_time": "2022-06-22T07:04:16.021Z"
   },
   {
    "duration": 14,
    "start_time": "2022-06-22T07:05:15.453Z"
   },
   {
    "duration": 3,
    "start_time": "2022-06-22T07:05:21.723Z"
   },
   {
    "duration": 204,
    "start_time": "2022-06-22T07:05:21.730Z"
   },
   {
    "duration": 13,
    "start_time": "2022-06-22T07:05:21.943Z"
   },
   {
    "duration": 63,
    "start_time": "2022-06-22T07:05:21.957Z"
   },
   {
    "duration": 64,
    "start_time": "2022-06-22T07:05:22.034Z"
   },
   {
    "duration": 13,
    "start_time": "2022-06-22T07:05:22.100Z"
   },
   {
    "duration": 30,
    "start_time": "2022-06-22T07:05:22.115Z"
   },
   {
    "duration": 27,
    "start_time": "2022-06-22T07:05:22.146Z"
   },
   {
    "duration": 202,
    "start_time": "2022-06-22T07:05:22.175Z"
   },
   {
    "duration": 6521,
    "start_time": "2022-06-22T07:05:22.379Z"
   },
   {
    "duration": 47,
    "start_time": "2022-06-22T07:05:28.902Z"
   },
   {
    "duration": 19,
    "start_time": "2022-06-22T07:05:28.950Z"
   },
   {
    "duration": 61,
    "start_time": "2022-06-22T07:05:28.970Z"
   },
   {
    "duration": 31,
    "start_time": "2022-06-22T07:05:29.033Z"
   },
   {
    "duration": 12,
    "start_time": "2022-06-22T07:05:29.065Z"
   },
   {
    "duration": 115,
    "start_time": "2022-06-22T07:05:29.129Z"
   },
   {
    "duration": 12,
    "start_time": "2022-06-22T07:05:29.246Z"
   },
   {
    "duration": 86,
    "start_time": "2022-06-22T07:05:29.260Z"
   },
   {
    "duration": 94,
    "start_time": "2022-06-22T07:05:29.351Z"
   },
   {
    "duration": 5,
    "start_time": "2022-06-22T07:05:29.455Z"
   },
   {
    "duration": 73,
    "start_time": "2022-06-22T07:07:47.047Z"
   },
   {
    "duration": 53,
    "start_time": "2022-06-22T07:08:01.101Z"
   },
   {
    "duration": 1484,
    "start_time": "2022-06-22T07:09:19.270Z"
   },
   {
    "duration": 39,
    "start_time": "2022-06-22T07:12:41.748Z"
   },
   {
    "duration": 57,
    "start_time": "2022-06-22T07:13:26.367Z"
   },
   {
    "duration": 40,
    "start_time": "2022-06-22T07:13:33.880Z"
   },
   {
    "duration": 88,
    "start_time": "2022-06-22T07:14:55.935Z"
   },
   {
    "duration": 6,
    "start_time": "2022-06-22T07:26:49.202Z"
   },
   {
    "duration": 73,
    "start_time": "2022-06-22T07:27:20.358Z"
   },
   {
    "duration": 6,
    "start_time": "2022-06-22T07:27:23.408Z"
   },
   {
    "duration": 79,
    "start_time": "2022-06-22T07:27:59.916Z"
   },
   {
    "duration": 75,
    "start_time": "2022-06-22T07:30:10.409Z"
   },
   {
    "duration": 5,
    "start_time": "2022-06-22T07:35:37.948Z"
   },
   {
    "duration": 9,
    "start_time": "2022-06-22T07:36:29.588Z"
   },
   {
    "duration": 39,
    "start_time": "2022-06-22T07:37:11.273Z"
   },
   {
    "duration": 4,
    "start_time": "2022-06-22T07:39:51.210Z"
   },
   {
    "duration": 73,
    "start_time": "2022-06-22T07:39:54.387Z"
   },
   {
    "duration": 4,
    "start_time": "2022-06-22T07:40:09.684Z"
   },
   {
    "duration": 4,
    "start_time": "2022-06-22T07:40:10.867Z"
   },
   {
    "duration": 38,
    "start_time": "2022-06-22T07:40:11.700Z"
   },
   {
    "duration": 6,
    "start_time": "2022-06-22T07:40:23.668Z"
   },
   {
    "duration": 56,
    "start_time": "2022-06-22T07:40:34.346Z"
   },
   {
    "duration": 984,
    "start_time": "2022-06-22T07:42:22.660Z"
   },
   {
    "duration": 172,
    "start_time": "2022-06-22T07:42:23.650Z"
   },
   {
    "duration": 25,
    "start_time": "2022-06-22T07:42:23.824Z"
   },
   {
    "duration": 63,
    "start_time": "2022-06-22T07:42:23.852Z"
   },
   {
    "duration": 66,
    "start_time": "2022-06-22T07:42:23.934Z"
   },
   {
    "duration": 13,
    "start_time": "2022-06-22T07:42:24.001Z"
   },
   {
    "duration": 32,
    "start_time": "2022-06-22T07:42:24.015Z"
   },
   {
    "duration": 24,
    "start_time": "2022-06-22T07:42:24.049Z"
   },
   {
    "duration": 174,
    "start_time": "2022-06-22T07:42:24.075Z"
   },
   {
    "duration": 6348,
    "start_time": "2022-06-22T07:42:24.255Z"
   },
   {
    "duration": 47,
    "start_time": "2022-06-22T07:42:30.606Z"
   },
   {
    "duration": 16,
    "start_time": "2022-06-22T07:42:30.655Z"
   },
   {
    "duration": 88,
    "start_time": "2022-06-22T07:42:30.672Z"
   },
   {
    "duration": 70,
    "start_time": "2022-06-22T07:42:30.762Z"
   },
   {
    "duration": 36,
    "start_time": "2022-06-22T07:42:30.834Z"
   },
   {
    "duration": 101,
    "start_time": "2022-06-22T07:42:30.872Z"
   },
   {
    "duration": 78,
    "start_time": "2022-06-22T07:42:30.975Z"
   },
   {
    "duration": 14,
    "start_time": "2022-06-22T07:42:31.055Z"
   },
   {
    "duration": 402,
    "start_time": "2022-06-22T07:42:31.071Z"
   },
   {
    "duration": 0,
    "start_time": "2022-06-22T07:42:31.474Z"
   },
   {
    "duration": 0,
    "start_time": "2022-06-22T07:42:31.475Z"
   },
   {
    "duration": 0,
    "start_time": "2022-06-22T07:42:31.476Z"
   },
   {
    "duration": 82,
    "start_time": "2022-06-22T07:45:22.123Z"
   },
   {
    "duration": 87,
    "start_time": "2022-06-22T07:46:18.733Z"
   },
   {
    "duration": 74,
    "start_time": "2022-06-22T07:47:00.674Z"
   },
   {
    "duration": 6,
    "start_time": "2022-06-22T07:47:24.207Z"
   },
   {
    "duration": 3,
    "start_time": "2022-06-22T07:47:34.678Z"
   },
   {
    "duration": 15,
    "start_time": "2022-06-22T07:47:49.468Z"
   },
   {
    "duration": 50,
    "start_time": "2022-06-22T07:48:35.277Z"
   },
   {
    "duration": 29,
    "start_time": "2022-06-22T07:48:50.025Z"
   },
   {
    "duration": 16,
    "start_time": "2022-06-22T07:49:23.210Z"
   },
   {
    "duration": 6,
    "start_time": "2022-06-22T07:51:07.179Z"
   },
   {
    "duration": 9,
    "start_time": "2022-06-22T07:51:09.897Z"
   },
   {
    "duration": 46,
    "start_time": "2022-06-22T07:51:27.113Z"
   },
   {
    "duration": 3,
    "start_time": "2022-06-22T07:52:01.574Z"
   },
   {
    "duration": 278,
    "start_time": "2022-06-22T07:52:01.579Z"
   },
   {
    "duration": 9,
    "start_time": "2022-06-22T07:52:01.859Z"
   },
   {
    "duration": 166,
    "start_time": "2022-06-22T07:52:01.870Z"
   },
   {
    "duration": 107,
    "start_time": "2022-06-22T07:52:02.045Z"
   },
   {
    "duration": 13,
    "start_time": "2022-06-22T07:52:02.153Z"
   },
   {
    "duration": 78,
    "start_time": "2022-06-22T07:52:02.168Z"
   },
   {
    "duration": 22,
    "start_time": "2022-06-22T07:52:05.228Z"
   },
   {
    "duration": 177,
    "start_time": "2022-06-22T07:52:05.251Z"
   },
   {
    "duration": 5974,
    "start_time": "2022-06-22T07:52:05.430Z"
   },
   {
    "duration": 35,
    "start_time": "2022-06-22T07:52:11.408Z"
   },
   {
    "duration": 27,
    "start_time": "2022-06-22T07:52:11.445Z"
   },
   {
    "duration": 82,
    "start_time": "2022-06-22T07:52:11.474Z"
   },
   {
    "duration": 79,
    "start_time": "2022-06-22T07:52:11.557Z"
   },
   {
    "duration": 27,
    "start_time": "2022-06-22T07:52:11.638Z"
   },
   {
    "duration": 100,
    "start_time": "2022-06-22T07:52:11.667Z"
   },
   {
    "duration": 63,
    "start_time": "2022-06-22T07:52:11.769Z"
   },
   {
    "duration": 14,
    "start_time": "2022-06-22T07:52:11.834Z"
   },
   {
    "duration": 96,
    "start_time": "2022-06-22T07:52:11.850Z"
   },
   {
    "duration": 108,
    "start_time": "2022-06-22T07:52:11.948Z"
   },
   {
    "duration": 10,
    "start_time": "2022-06-22T07:52:12.058Z"
   },
   {
    "duration": 11,
    "start_time": "2022-06-22T07:54:09.438Z"
   },
   {
    "duration": 5,
    "start_time": "2022-06-22T07:54:12.954Z"
   },
   {
    "duration": 43,
    "start_time": "2022-06-22T07:54:13.507Z"
   },
   {
    "duration": 33,
    "start_time": "2022-06-22T07:54:25.942Z"
   },
   {
    "duration": 34,
    "start_time": "2022-06-22T07:54:46.426Z"
   },
   {
    "duration": 33,
    "start_time": "2022-06-22T07:54:58.238Z"
   },
   {
    "duration": 47,
    "start_time": "2022-06-22T07:55:55.170Z"
   },
   {
    "duration": 37,
    "start_time": "2022-06-22T07:56:25.673Z"
   },
   {
    "duration": 40,
    "start_time": "2022-06-22T07:56:36.884Z"
   },
   {
    "duration": 40,
    "start_time": "2022-06-22T09:33:52.288Z"
   },
   {
    "duration": 43,
    "start_time": "2022-06-22T09:36:25.079Z"
   },
   {
    "duration": 34,
    "start_time": "2022-06-22T09:37:38.425Z"
   },
   {
    "duration": 63,
    "start_time": "2022-06-22T11:48:42.278Z"
   },
   {
    "duration": 12,
    "start_time": "2022-06-22T11:50:51.009Z"
   },
   {
    "duration": 59,
    "start_time": "2022-06-22T11:51:15.214Z"
   },
   {
    "duration": 11,
    "start_time": "2022-06-22T11:51:22.886Z"
   },
   {
    "duration": 77,
    "start_time": "2022-06-22T11:51:43.704Z"
   },
   {
    "duration": 66,
    "start_time": "2022-06-22T11:51:45.385Z"
   },
   {
    "duration": 16,
    "start_time": "2022-06-22T11:51:46.148Z"
   },
   {
    "duration": 13,
    "start_time": "2022-06-22T11:52:43.004Z"
   },
   {
    "duration": 9,
    "start_time": "2022-06-22T11:53:52.093Z"
   },
   {
    "duration": 12,
    "start_time": "2022-06-22T11:54:31.406Z"
   },
   {
    "duration": 13,
    "start_time": "2022-06-22T11:55:14.148Z"
   },
   {
    "duration": 20,
    "start_time": "2022-06-22T12:11:29.948Z"
   },
   {
    "duration": 18,
    "start_time": "2022-06-22T12:11:47.646Z"
   },
   {
    "duration": 98,
    "start_time": "2022-06-22T12:19:33.331Z"
   },
   {
    "duration": 35,
    "start_time": "2022-06-22T12:19:55.404Z"
   },
   {
    "duration": 92,
    "start_time": "2022-06-22T12:20:05.472Z"
   },
   {
    "duration": 90,
    "start_time": "2022-06-22T12:21:32.373Z"
   },
   {
    "duration": 107,
    "start_time": "2022-06-22T12:22:27.976Z"
   },
   {
    "duration": 89,
    "start_time": "2022-06-22T12:23:07.755Z"
   },
   {
    "duration": 10,
    "start_time": "2022-06-22T12:51:34.411Z"
   },
   {
    "duration": 28,
    "start_time": "2022-06-22T13:01:34.811Z"
   },
   {
    "duration": 30,
    "start_time": "2022-06-22T13:03:11.035Z"
   },
   {
    "duration": 35,
    "start_time": "2022-06-22T13:06:10.053Z"
   },
   {
    "duration": 45,
    "start_time": "2022-06-22T13:06:28.491Z"
   },
   {
    "duration": 32,
    "start_time": "2022-06-22T13:07:08.405Z"
   },
   {
    "duration": 43,
    "start_time": "2022-06-22T13:07:17.908Z"
   },
   {
    "duration": 32,
    "start_time": "2022-06-22T13:08:38.146Z"
   },
   {
    "duration": 84,
    "start_time": "2022-06-22T13:09:38.963Z"
   },
   {
    "duration": 86,
    "start_time": "2022-06-22T13:10:31.514Z"
   },
   {
    "duration": 76,
    "start_time": "2022-06-22T13:11:48.163Z"
   },
   {
    "duration": 78,
    "start_time": "2022-06-22T13:12:20.754Z"
   },
   {
    "duration": 39,
    "start_time": "2022-06-22T13:13:24.068Z"
   },
   {
    "duration": 1585,
    "start_time": "2022-06-22T13:17:13.549Z"
   },
   {
    "duration": 4,
    "start_time": "2022-06-22T13:17:24.035Z"
   },
   {
    "duration": 137,
    "start_time": "2022-06-22T13:17:42.027Z"
   },
   {
    "duration": 83,
    "start_time": "2022-06-22T13:20:01.131Z"
   },
   {
    "duration": 86,
    "start_time": "2022-06-22T13:21:05.842Z"
   },
   {
    "duration": 82,
    "start_time": "2022-06-22T13:21:07.474Z"
   },
   {
    "duration": 75,
    "start_time": "2022-06-22T13:21:08.407Z"
   },
   {
    "duration": 72,
    "start_time": "2022-06-22T13:21:09.332Z"
   },
   {
    "duration": 134,
    "start_time": "2022-06-22T13:21:10.252Z"
   },
   {
    "duration": 3,
    "start_time": "2022-06-22T13:22:51.647Z"
   },
   {
    "duration": 33,
    "start_time": "2022-06-22T13:23:00.856Z"
   },
   {
    "duration": 90,
    "start_time": "2022-06-22T13:23:41.151Z"
   },
   {
    "duration": 81,
    "start_time": "2022-06-22T13:23:49.743Z"
   },
   {
    "duration": 97,
    "start_time": "2022-06-22T13:24:03.133Z"
   },
   {
    "duration": 79,
    "start_time": "2022-06-22T13:24:06.247Z"
   },
   {
    "duration": 72,
    "start_time": "2022-06-22T13:24:16.256Z"
   },
   {
    "duration": 131,
    "start_time": "2022-06-22T13:24:23.005Z"
   },
   {
    "duration": 127,
    "start_time": "2022-06-22T13:25:38.284Z"
   },
   {
    "duration": 3,
    "start_time": "2022-06-22T13:29:55.503Z"
   },
   {
    "duration": 144,
    "start_time": "2022-06-22T13:29:55.509Z"
   },
   {
    "duration": 8,
    "start_time": "2022-06-22T13:29:55.654Z"
   },
   {
    "duration": 48,
    "start_time": "2022-06-22T13:29:55.664Z"
   },
   {
    "duration": 58,
    "start_time": "2022-06-22T13:29:55.713Z"
   },
   {
    "duration": 10,
    "start_time": "2022-06-22T13:29:55.773Z"
   },
   {
    "duration": 14,
    "start_time": "2022-06-22T13:29:55.784Z"
   },
   {
    "duration": 33,
    "start_time": "2022-06-22T13:29:55.799Z"
   },
   {
    "duration": 138,
    "start_time": "2022-06-22T13:29:55.833Z"
   },
   {
    "duration": 5257,
    "start_time": "2022-06-22T13:29:55.973Z"
   },
   {
    "duration": 17,
    "start_time": "2022-06-22T13:30:01.232Z"
   },
   {
    "duration": 14,
    "start_time": "2022-06-22T13:30:01.250Z"
   },
   {
    "duration": 77,
    "start_time": "2022-06-22T13:30:01.265Z"
   },
   {
    "duration": 18,
    "start_time": "2022-06-22T13:30:01.344Z"
   },
   {
    "duration": 64,
    "start_time": "2022-06-22T13:30:01.365Z"
   },
   {
    "duration": 103,
    "start_time": "2022-06-22T13:30:01.431Z"
   },
   {
    "duration": 8,
    "start_time": "2022-06-22T13:30:01.536Z"
   },
   {
    "duration": 5152,
    "start_time": "2022-06-22T13:45:36.373Z"
   },
   {
    "duration": 883,
    "start_time": "2022-06-22T14:11:58.765Z"
   },
   {
    "duration": 158,
    "start_time": "2022-06-22T14:11:59.650Z"
   },
   {
    "duration": 22,
    "start_time": "2022-06-22T14:11:59.809Z"
   },
   {
    "duration": 61,
    "start_time": "2022-06-22T14:11:59.833Z"
   },
   {
    "duration": 78,
    "start_time": "2022-06-22T14:11:59.896Z"
   },
   {
    "duration": 12,
    "start_time": "2022-06-22T14:11:59.975Z"
   },
   {
    "duration": 11,
    "start_time": "2022-06-22T14:11:59.989Z"
   },
   {
    "duration": 33,
    "start_time": "2022-06-22T14:12:00.002Z"
   },
   {
    "duration": 152,
    "start_time": "2022-06-22T14:12:00.037Z"
   },
   {
    "duration": 5835,
    "start_time": "2022-06-22T14:12:00.190Z"
   },
   {
    "duration": 23,
    "start_time": "2022-06-22T14:12:06.027Z"
   },
   {
    "duration": 5660,
    "start_time": "2022-06-22T14:12:06.052Z"
   },
   {
    "duration": 17,
    "start_time": "2022-06-22T14:12:11.728Z"
   },
   {
    "duration": 93,
    "start_time": "2022-06-22T14:12:11.749Z"
   },
   {
    "duration": 27,
    "start_time": "2022-06-22T14:12:11.844Z"
   },
   {
    "duration": 14,
    "start_time": "2022-06-22T14:12:11.929Z"
   },
   {
    "duration": 102,
    "start_time": "2022-06-22T14:12:11.944Z"
   },
   {
    "duration": 24,
    "start_time": "2022-06-22T14:12:12.047Z"
   },
   {
    "duration": 2,
    "start_time": "2022-06-22T14:12:12.072Z"
   },
   {
    "duration": 205,
    "start_time": "2022-06-22T14:12:12.128Z"
   },
   {
    "duration": 0,
    "start_time": "2022-06-22T14:12:12.334Z"
   },
   {
    "duration": 0,
    "start_time": "2022-06-22T14:12:12.336Z"
   },
   {
    "duration": 0,
    "start_time": "2022-06-22T14:12:12.337Z"
   },
   {
    "duration": 0,
    "start_time": "2022-06-22T14:12:12.339Z"
   },
   {
    "duration": 0,
    "start_time": "2022-06-22T14:12:12.339Z"
   },
   {
    "duration": 0,
    "start_time": "2022-06-22T14:12:12.341Z"
   },
   {
    "duration": 0,
    "start_time": "2022-06-22T14:12:12.342Z"
   },
   {
    "duration": 919,
    "start_time": "2022-06-22T14:49:38.799Z"
   },
   {
    "duration": 179,
    "start_time": "2022-06-22T14:49:39.720Z"
   },
   {
    "duration": 25,
    "start_time": "2022-06-22T14:49:39.901Z"
   },
   {
    "duration": 79,
    "start_time": "2022-06-22T14:49:39.928Z"
   },
   {
    "duration": 107,
    "start_time": "2022-06-22T14:49:40.010Z"
   },
   {
    "duration": 13,
    "start_time": "2022-06-22T14:49:40.126Z"
   },
   {
    "duration": 28,
    "start_time": "2022-06-22T14:49:40.141Z"
   },
   {
    "duration": 22,
    "start_time": "2022-06-22T14:49:40.171Z"
   },
   {
    "duration": 170,
    "start_time": "2022-06-22T14:49:40.195Z"
   },
   {
    "duration": 6707,
    "start_time": "2022-06-22T14:49:40.367Z"
   },
   {
    "duration": 60,
    "start_time": "2022-06-22T14:49:47.076Z"
   },
   {
    "duration": 6141,
    "start_time": "2022-06-22T14:49:47.138Z"
   },
   {
    "duration": 50,
    "start_time": "2022-06-22T14:49:53.281Z"
   },
   {
    "duration": 26,
    "start_time": "2022-06-22T14:49:53.333Z"
   },
   {
    "duration": 77,
    "start_time": "2022-06-22T14:49:53.361Z"
   },
   {
    "duration": 20,
    "start_time": "2022-06-22T14:49:53.439Z"
   },
   {
    "duration": 106,
    "start_time": "2022-06-22T14:49:53.461Z"
   },
   {
    "duration": 74,
    "start_time": "2022-06-22T14:49:53.569Z"
   },
   {
    "duration": 3,
    "start_time": "2022-06-22T14:49:53.645Z"
   },
   {
    "duration": 306,
    "start_time": "2022-06-22T14:49:53.649Z"
   },
   {
    "duration": 0,
    "start_time": "2022-06-22T14:49:53.956Z"
   },
   {
    "duration": 0,
    "start_time": "2022-06-22T14:49:53.958Z"
   },
   {
    "duration": 0,
    "start_time": "2022-06-22T14:49:53.959Z"
   },
   {
    "duration": 0,
    "start_time": "2022-06-22T14:49:53.960Z"
   },
   {
    "duration": 0,
    "start_time": "2022-06-22T14:49:53.961Z"
   },
   {
    "duration": 0,
    "start_time": "2022-06-22T14:49:53.962Z"
   },
   {
    "duration": 0,
    "start_time": "2022-06-22T14:49:53.963Z"
   },
   {
    "duration": 1018,
    "start_time": "2022-06-22T16:52:15.075Z"
   },
   {
    "duration": 689,
    "start_time": "2022-06-22T16:52:16.096Z"
   },
   {
    "duration": 17,
    "start_time": "2022-06-22T16:52:16.787Z"
   },
   {
    "duration": 77,
    "start_time": "2022-06-22T16:52:16.805Z"
   },
   {
    "duration": 97,
    "start_time": "2022-06-22T16:52:16.884Z"
   },
   {
    "duration": 13,
    "start_time": "2022-06-22T16:52:16.983Z"
   },
   {
    "duration": 13,
    "start_time": "2022-06-22T16:52:16.997Z"
   },
   {
    "duration": 32,
    "start_time": "2022-06-22T16:52:17.025Z"
   },
   {
    "duration": 188,
    "start_time": "2022-06-22T16:52:17.059Z"
   },
   {
    "duration": 7376,
    "start_time": "2022-06-22T16:52:17.248Z"
   },
   {
    "duration": 28,
    "start_time": "2022-06-22T16:52:24.628Z"
   },
   {
    "duration": 7206,
    "start_time": "2022-06-22T16:52:24.658Z"
   },
   {
    "duration": 21,
    "start_time": "2022-06-22T16:52:31.865Z"
   },
   {
    "duration": 72,
    "start_time": "2022-06-22T16:52:31.889Z"
   },
   {
    "duration": 91,
    "start_time": "2022-06-22T16:52:31.963Z"
   },
   {
    "duration": 83,
    "start_time": "2022-06-22T16:52:32.061Z"
   },
   {
    "duration": 116,
    "start_time": "2022-06-22T16:52:32.149Z"
   },
   {
    "duration": 86,
    "start_time": "2022-06-22T16:52:32.267Z"
   },
   {
    "duration": 2,
    "start_time": "2022-06-22T16:52:32.356Z"
   },
   {
    "duration": 102,
    "start_time": "2022-06-22T16:52:32.360Z"
   },
   {
    "duration": 189,
    "start_time": "2022-06-22T16:52:32.464Z"
   },
   {
    "duration": 79,
    "start_time": "2022-06-22T16:52:32.655Z"
   },
   {
    "duration": 136,
    "start_time": "2022-06-22T16:52:32.740Z"
   },
   {
    "duration": 123,
    "start_time": "2022-06-22T16:52:32.877Z"
   },
   {
    "duration": 137,
    "start_time": "2022-06-22T16:52:33.002Z"
   },
   {
    "duration": 110,
    "start_time": "2022-06-22T16:52:33.141Z"
   },
   {
    "duration": 203,
    "start_time": "2022-06-22T16:52:33.254Z"
   },
   {
    "duration": 870,
    "start_time": "2022-06-23T06:27:23.083Z"
   },
   {
    "duration": 495,
    "start_time": "2022-06-23T06:27:23.955Z"
   },
   {
    "duration": 17,
    "start_time": "2022-06-23T06:27:24.452Z"
   },
   {
    "duration": 65,
    "start_time": "2022-06-23T06:27:24.471Z"
   },
   {
    "duration": 72,
    "start_time": "2022-06-23T06:27:24.538Z"
   },
   {
    "duration": 12,
    "start_time": "2022-06-23T06:27:24.612Z"
   },
   {
    "duration": 30,
    "start_time": "2022-06-23T06:27:24.626Z"
   },
   {
    "duration": 27,
    "start_time": "2022-06-23T06:27:24.657Z"
   },
   {
    "duration": 184,
    "start_time": "2022-06-23T06:27:24.686Z"
   },
   {
    "duration": 6437,
    "start_time": "2022-06-23T06:27:24.875Z"
   },
   {
    "duration": 40,
    "start_time": "2022-06-23T06:27:31.314Z"
   },
   {
    "duration": 6296,
    "start_time": "2022-06-23T06:27:31.356Z"
   },
   {
    "duration": 19,
    "start_time": "2022-06-23T06:27:37.655Z"
   },
   {
    "duration": 83,
    "start_time": "2022-06-23T06:27:37.675Z"
   },
   {
    "duration": 22,
    "start_time": "2022-06-23T06:27:37.760Z"
   },
   {
    "duration": 73,
    "start_time": "2022-06-23T06:27:37.783Z"
   },
   {
    "duration": 111,
    "start_time": "2022-06-23T06:27:37.858Z"
   },
   {
    "duration": 21,
    "start_time": "2022-06-23T06:27:37.970Z"
   },
   {
    "duration": 75,
    "start_time": "2022-06-23T06:27:37.993Z"
   },
   {
    "duration": 86,
    "start_time": "2022-06-23T06:27:38.071Z"
   },
   {
    "duration": 106,
    "start_time": "2022-06-23T06:27:38.159Z"
   },
   {
    "duration": 12,
    "start_time": "2022-06-23T06:27:38.267Z"
   },
   {
    "duration": 106,
    "start_time": "2022-06-23T06:27:38.280Z"
   },
   {
    "duration": 104,
    "start_time": "2022-06-23T06:27:38.387Z"
   },
   {
    "duration": 101,
    "start_time": "2022-06-23T06:27:38.492Z"
   },
   {
    "duration": 93,
    "start_time": "2022-06-23T06:27:38.595Z"
   },
   {
    "duration": 165,
    "start_time": "2022-06-23T06:27:38.690Z"
   },
   {
    "duration": 827,
    "start_time": "2022-08-09T07:10:33.598Z"
   },
   {
    "duration": 723,
    "start_time": "2022-08-09T07:10:34.427Z"
   },
   {
    "duration": 20,
    "start_time": "2022-08-09T07:10:35.151Z"
   },
   {
    "duration": 83,
    "start_time": "2022-08-09T07:10:35.173Z"
   },
   {
    "duration": 65,
    "start_time": "2022-08-09T07:10:35.259Z"
   },
   {
    "duration": 12,
    "start_time": "2022-08-09T07:10:35.325Z"
   },
   {
    "duration": 25,
    "start_time": "2022-08-09T07:10:35.338Z"
   },
   {
    "duration": 24,
    "start_time": "2022-08-09T07:10:35.365Z"
   },
   {
    "duration": 142,
    "start_time": "2022-08-09T07:10:35.390Z"
   },
   {
    "duration": 6069,
    "start_time": "2022-08-09T07:10:35.535Z"
   },
   {
    "duration": 56,
    "start_time": "2022-08-09T07:10:41.606Z"
   },
   {
    "duration": 5608,
    "start_time": "2022-08-09T07:10:41.670Z"
   },
   {
    "duration": 24,
    "start_time": "2022-08-09T07:10:47.284Z"
   },
   {
    "duration": 71,
    "start_time": "2022-08-09T07:10:47.310Z"
   },
   {
    "duration": 20,
    "start_time": "2022-08-09T07:10:47.383Z"
   },
   {
    "duration": 25,
    "start_time": "2022-08-09T07:10:47.462Z"
   },
   {
    "duration": 103,
    "start_time": "2022-08-09T07:10:47.489Z"
   },
   {
    "duration": 81,
    "start_time": "2022-08-09T07:10:47.593Z"
   },
   {
    "duration": 3,
    "start_time": "2022-08-09T07:10:47.675Z"
   },
   {
    "duration": 81,
    "start_time": "2022-08-09T07:10:47.679Z"
   },
   {
    "duration": 125,
    "start_time": "2022-08-09T07:10:47.761Z"
   },
   {
    "duration": 11,
    "start_time": "2022-08-09T07:10:47.888Z"
   },
   {
    "duration": 126,
    "start_time": "2022-08-09T07:10:47.900Z"
   },
   {
    "duration": 90,
    "start_time": "2022-08-09T07:10:48.027Z"
   },
   {
    "duration": 88,
    "start_time": "2022-08-09T07:10:48.118Z"
   },
   {
    "duration": 92,
    "start_time": "2022-08-09T07:10:48.207Z"
   },
   {
    "duration": 155,
    "start_time": "2022-08-09T07:10:48.301Z"
   },
   {
    "duration": 1003,
    "start_time": "2022-08-09T18:31:28.202Z"
   },
   {
    "duration": 706,
    "start_time": "2022-08-09T18:31:29.208Z"
   },
   {
    "duration": 20,
    "start_time": "2022-08-09T18:31:29.916Z"
   },
   {
    "duration": 110,
    "start_time": "2022-08-09T18:31:29.938Z"
   },
   {
    "duration": 109,
    "start_time": "2022-08-09T18:31:30.052Z"
   },
   {
    "duration": 16,
    "start_time": "2022-08-09T18:31:30.163Z"
   },
   {
    "duration": 32,
    "start_time": "2022-08-09T18:31:30.181Z"
   },
   {
    "duration": 32,
    "start_time": "2022-08-09T18:31:30.215Z"
   },
   {
    "duration": 182,
    "start_time": "2022-08-09T18:31:30.249Z"
   },
   {
    "duration": 6822,
    "start_time": "2022-08-09T18:31:30.433Z"
   },
   {
    "duration": 42,
    "start_time": "2022-08-09T18:31:37.257Z"
   },
   {
    "duration": 6461,
    "start_time": "2022-08-09T18:31:37.301Z"
   },
   {
    "duration": 39,
    "start_time": "2022-08-09T18:31:43.763Z"
   },
   {
    "duration": 27,
    "start_time": "2022-08-09T18:31:43.805Z"
   },
   {
    "duration": 84,
    "start_time": "2022-08-09T18:31:43.833Z"
   },
   {
    "duration": 16,
    "start_time": "2022-08-09T18:31:43.919Z"
   },
   {
    "duration": 165,
    "start_time": "2022-08-09T18:31:43.936Z"
   },
   {
    "duration": 22,
    "start_time": "2022-08-09T18:31:44.103Z"
   },
   {
    "duration": 3,
    "start_time": "2022-08-09T18:31:44.126Z"
   },
   {
    "duration": 93,
    "start_time": "2022-08-09T18:31:44.130Z"
   },
   {
    "duration": 179,
    "start_time": "2022-08-09T18:31:44.225Z"
   },
   {
    "duration": 19,
    "start_time": "2022-08-09T18:31:44.405Z"
   },
   {
    "duration": 147,
    "start_time": "2022-08-09T18:31:44.428Z"
   },
   {
    "duration": 107,
    "start_time": "2022-08-09T18:31:44.592Z"
   },
   {
    "duration": 113,
    "start_time": "2022-08-09T18:31:44.700Z"
   },
   {
    "duration": 109,
    "start_time": "2022-08-09T18:31:44.814Z"
   },
   {
    "duration": 185,
    "start_time": "2022-08-09T18:31:44.925Z"
   },
   {
    "duration": 893,
    "start_time": "2022-08-14T19:20:23.517Z"
   },
   {
    "duration": 726,
    "start_time": "2022-08-14T19:20:24.412Z"
   },
   {
    "duration": 16,
    "start_time": "2022-08-14T19:20:25.140Z"
   },
   {
    "duration": 62,
    "start_time": "2022-08-14T19:20:25.158Z"
   },
   {
    "duration": 56,
    "start_time": "2022-08-14T19:20:25.221Z"
   },
   {
    "duration": 28,
    "start_time": "2022-08-14T19:20:25.279Z"
   },
   {
    "duration": 13,
    "start_time": "2022-08-14T19:20:25.308Z"
   },
   {
    "duration": 21,
    "start_time": "2022-08-14T19:20:25.323Z"
   },
   {
    "duration": 160,
    "start_time": "2022-08-14T19:20:25.346Z"
   },
   {
    "duration": 7061,
    "start_time": "2022-08-14T19:20:25.510Z"
   },
   {
    "duration": 46,
    "start_time": "2022-08-14T19:20:32.574Z"
   },
   {
    "duration": 6550,
    "start_time": "2022-08-14T19:20:32.623Z"
   },
   {
    "duration": 55,
    "start_time": "2022-08-14T19:20:39.176Z"
   },
   {
    "duration": 80,
    "start_time": "2022-08-14T19:20:39.234Z"
   },
   {
    "duration": 21,
    "start_time": "2022-08-14T19:20:39.316Z"
   },
   {
    "duration": 68,
    "start_time": "2022-08-14T19:20:39.338Z"
   },
   {
    "duration": 109,
    "start_time": "2022-08-14T19:20:39.408Z"
   },
   {
    "duration": 19,
    "start_time": "2022-08-14T19:20:39.519Z"
   },
   {
    "duration": 3,
    "start_time": "2022-08-14T19:20:39.540Z"
   },
   {
    "duration": 161,
    "start_time": "2022-08-14T19:20:39.545Z"
   },
   {
    "duration": 122,
    "start_time": "2022-08-14T19:20:39.708Z"
   },
   {
    "duration": 14,
    "start_time": "2022-08-14T19:20:39.831Z"
   },
   {
    "duration": 138,
    "start_time": "2022-08-14T19:20:39.848Z"
   },
   {
    "duration": 128,
    "start_time": "2022-08-14T19:20:39.987Z"
   },
   {
    "duration": 106,
    "start_time": "2022-08-14T19:20:40.116Z"
   },
   {
    "duration": 121,
    "start_time": "2022-08-14T19:20:40.225Z"
   },
   {
    "duration": 183,
    "start_time": "2022-08-14T19:20:40.349Z"
   },
   {
    "duration": 33,
    "start_time": "2022-08-14T20:30:15.260Z"
   }
  ],
  "kernelspec": {
   "display_name": "Python 3 (ipykernel)",
   "language": "python",
   "name": "python3"
  },
  "language_info": {
   "codemirror_mode": {
    "name": "ipython",
    "version": 3
   },
   "file_extension": ".py",
   "mimetype": "text/x-python",
   "name": "python",
   "nbconvert_exporter": "python",
   "pygments_lexer": "ipython3",
   "version": "3.9.12"
  },
  "toc": {
   "base_numbering": "0",
   "nav_menu": {},
   "number_sections": true,
   "sideBar": true,
   "skip_h1_title": true,
   "title_cell": "Table of Contents",
   "title_sidebar": "Contents",
   "toc_cell": false,
   "toc_position": {
    "height": "calc(100% - 180px)",
    "left": "10px",
    "top": "150px",
    "width": "329.594px"
   },
   "toc_section_display": true,
   "toc_window_display": true
  }
 },
 "nbformat": 4,
 "nbformat_minor": 2
}
