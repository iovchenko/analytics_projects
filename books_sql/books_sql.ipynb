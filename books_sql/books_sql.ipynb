{
 "cells": [
  {
   "cell_type": "markdown",
   "metadata": {},
   "source": [
    "# Анализ базы данных книжного магазина"
   ]
  },
  {
   "cell_type": "markdown",
   "metadata": {},
   "source": [
    "## Описание проекта\n",
    "В крупном сервисе для чтения книг по подписке необходимо провести анализ базы данных с книгами, издательствами, авторами, а также пользовательскими обзорами книг. Это необходимо для формирования ценностного предложения для нового продукта."
   ]
  },
  {
   "cell_type": "markdown",
   "metadata": {},
   "source": [
    "## Описание данных\n",
    "**Таблица `books`** содержит данные о книгах:\n",
    "* `book_id` — идентификатор книги;\n",
    "* `author_id` — идентификатор автора;\n",
    "* `title` — название книги;\n",
    "* `num_pages` — количество страниц;\n",
    "* `publication_date` — дата публикации книги;\n",
    "* `publisher_id` — идентификатор издателя.  \n",
    "\n",
    "**Таблица `authors`** содержит данные об авторах:\n",
    "* `author_id` — идентификатор автора;\n",
    "* `author` — имя автора.  \n",
    "\n",
    "**Таблица `publishers`** содержит данные об издательствах:\n",
    "* `publisher_id` — идентификатор издательства;\n",
    "* `publisher` — название издательства.  \n",
    "\n",
    "**Таблица `ratings`** содержит данные о пользовательских оценках книг:\n",
    "* `rating_id` — идентификатор оценки;\n",
    "* `book_id` — идентификатор книги;\n",
    "* `username` — имя пользователя, оставившего оценку;\n",
    "* `rating` — оценка книги.  \n",
    "\n",
    "**Таблица `reviews`** содержит данные о пользовательских обзорах:\n",
    "* `review_id` — идентификатор обзора;\n",
    "* `book_id` — идентификатор книги;\n",
    "* `username` — имя автора обзора;\n",
    "* `text` — текст обзора."
   ]
  },
  {
   "cell_type": "markdown",
   "metadata": {},
   "source": [
    "## Схема данных\n",
    "![](https://pictures.s3.yandex.net/resources/scheme_1589269096.png)"
   ]
  },
  {
   "cell_type": "markdown",
   "metadata": {},
   "source": [
    "## Задания\n",
    "- [x] Посчитайте, сколько книг вышло после 1 января 2000 года;\n",
    "- [x] Для каждой книги посчитайте количество обзоров и среднюю оценку;\n",
    "- [x] Определите издательство, которое выпустило наибольшее число книг толще 50 страниц — так вы исключите из анализа брошюры;\n",
    "- [x] Определите автора с самой высокой средней оценкой книг — учитывайте только книги с 50 и более оценками;\n",
    "- [x] Посчитайте среднее количество обзоров от пользователей, которые поставили больше 50 оценок."
   ]
  },
  {
   "cell_type": "code",
   "execution_count": 1,
   "metadata": {},
   "outputs": [],
   "source": [
    "# импортируем библиотеки\n",
    "import pandas as pd\n",
    "from sqlalchemy import create_engine\n",
    "# устанавливаем параметры\n",
    "db_config = {'user': 'praktikum_student', # имя пользователя\n",
    "             'pwd': 'Sdf4$2;d-d30pp', # пароль\n",
    "             'host': 'rc1b-wcoijxj3yxfsf3fs.mdb.yandexcloud.net',\n",
    "             'port': 6432, # порт подключения\n",
    "             'db': 'data-analyst-final-project-db'} # название базы данных\n",
    "connection_string = 'postgresql://{}:{}@{}:{}/{}'.format(db_config['user'],\n",
    "                                                         db_config['pwd'],\n",
    "                                                         db_config['host'],\n",
    "                                                         db_config['port'],\n",
    "                                                         db_config['db'])\n",
    "# сохраняем коннектор\n",
    "engine = create_engine(connection_string, connect_args={'sslmode':'require'})"
   ]
  },
  {
   "cell_type": "code",
   "execution_count": 2,
   "metadata": {
    "scrolled": false
   },
   "outputs": [
    {
     "data": {
      "text/html": [
       "<div>\n",
       "<style scoped>\n",
       "    .dataframe tbody tr th:only-of-type {\n",
       "        vertical-align: middle;\n",
       "    }\n",
       "\n",
       "    .dataframe tbody tr th {\n",
       "        vertical-align: top;\n",
       "    }\n",
       "\n",
       "    .dataframe thead th {\n",
       "        text-align: right;\n",
       "    }\n",
       "</style>\n",
       "<table border=\"1\" class=\"dataframe\">\n",
       "  <thead>\n",
       "    <tr style=\"text-align: right;\">\n",
       "      <th></th>\n",
       "      <th>book_id</th>\n",
       "      <th>author_id</th>\n",
       "      <th>title</th>\n",
       "      <th>num_pages</th>\n",
       "      <th>publication_date</th>\n",
       "      <th>publisher_id</th>\n",
       "    </tr>\n",
       "  </thead>\n",
       "  <tbody>\n",
       "    <tr>\n",
       "      <th>0</th>\n",
       "      <td>1</td>\n",
       "      <td>546</td>\n",
       "      <td>'Salem's Lot</td>\n",
       "      <td>594</td>\n",
       "      <td>2005-11-01</td>\n",
       "      <td>93</td>\n",
       "    </tr>\n",
       "    <tr>\n",
       "      <th>1</th>\n",
       "      <td>2</td>\n",
       "      <td>465</td>\n",
       "      <td>1 000 Places to See Before You Die</td>\n",
       "      <td>992</td>\n",
       "      <td>2003-05-22</td>\n",
       "      <td>336</td>\n",
       "    </tr>\n",
       "    <tr>\n",
       "      <th>2</th>\n",
       "      <td>3</td>\n",
       "      <td>407</td>\n",
       "      <td>13 Little Blue Envelopes (Little Blue Envelope...</td>\n",
       "      <td>322</td>\n",
       "      <td>2010-12-21</td>\n",
       "      <td>135</td>\n",
       "    </tr>\n",
       "    <tr>\n",
       "      <th>3</th>\n",
       "      <td>4</td>\n",
       "      <td>82</td>\n",
       "      <td>1491: New Revelations of the Americas Before C...</td>\n",
       "      <td>541</td>\n",
       "      <td>2006-10-10</td>\n",
       "      <td>309</td>\n",
       "    </tr>\n",
       "    <tr>\n",
       "      <th>4</th>\n",
       "      <td>5</td>\n",
       "      <td>125</td>\n",
       "      <td>1776</td>\n",
       "      <td>386</td>\n",
       "      <td>2006-07-04</td>\n",
       "      <td>268</td>\n",
       "    </tr>\n",
       "  </tbody>\n",
       "</table>\n",
       "</div>"
      ],
      "text/plain": [
       "   book_id  author_id                                              title  \\\n",
       "0        1        546                                       'Salem's Lot   \n",
       "1        2        465                 1 000 Places to See Before You Die   \n",
       "2        3        407  13 Little Blue Envelopes (Little Blue Envelope...   \n",
       "3        4         82  1491: New Revelations of the Americas Before C...   \n",
       "4        5        125                                               1776   \n",
       "\n",
       "   num_pages publication_date  publisher_id  \n",
       "0        594       2005-11-01            93  \n",
       "1        992       2003-05-22           336  \n",
       "2        322       2010-12-21           135  \n",
       "3        541       2006-10-10           309  \n",
       "4        386       2006-07-04           268  "
      ]
     },
     "metadata": {},
     "output_type": "display_data"
    },
    {
     "data": {
      "text/html": [
       "<div>\n",
       "<style scoped>\n",
       "    .dataframe tbody tr th:only-of-type {\n",
       "        vertical-align: middle;\n",
       "    }\n",
       "\n",
       "    .dataframe tbody tr th {\n",
       "        vertical-align: top;\n",
       "    }\n",
       "\n",
       "    .dataframe thead th {\n",
       "        text-align: right;\n",
       "    }\n",
       "</style>\n",
       "<table border=\"1\" class=\"dataframe\">\n",
       "  <thead>\n",
       "    <tr style=\"text-align: right;\">\n",
       "      <th></th>\n",
       "      <th>author_id</th>\n",
       "      <th>author</th>\n",
       "    </tr>\n",
       "  </thead>\n",
       "  <tbody>\n",
       "    <tr>\n",
       "      <th>0</th>\n",
       "      <td>1</td>\n",
       "      <td>A.S. Byatt</td>\n",
       "    </tr>\n",
       "    <tr>\n",
       "      <th>1</th>\n",
       "      <td>2</td>\n",
       "      <td>Aesop/Laura Harris/Laura Gibbs</td>\n",
       "    </tr>\n",
       "    <tr>\n",
       "      <th>2</th>\n",
       "      <td>3</td>\n",
       "      <td>Agatha Christie</td>\n",
       "    </tr>\n",
       "    <tr>\n",
       "      <th>3</th>\n",
       "      <td>4</td>\n",
       "      <td>Alan Brennert</td>\n",
       "    </tr>\n",
       "    <tr>\n",
       "      <th>4</th>\n",
       "      <td>5</td>\n",
       "      <td>Alan Moore/David   Lloyd</td>\n",
       "    </tr>\n",
       "  </tbody>\n",
       "</table>\n",
       "</div>"
      ],
      "text/plain": [
       "   author_id                          author\n",
       "0          1                      A.S. Byatt\n",
       "1          2  Aesop/Laura Harris/Laura Gibbs\n",
       "2          3                 Agatha Christie\n",
       "3          4                   Alan Brennert\n",
       "4          5        Alan Moore/David   Lloyd"
      ]
     },
     "metadata": {},
     "output_type": "display_data"
    },
    {
     "data": {
      "text/html": [
       "<div>\n",
       "<style scoped>\n",
       "    .dataframe tbody tr th:only-of-type {\n",
       "        vertical-align: middle;\n",
       "    }\n",
       "\n",
       "    .dataframe tbody tr th {\n",
       "        vertical-align: top;\n",
       "    }\n",
       "\n",
       "    .dataframe thead th {\n",
       "        text-align: right;\n",
       "    }\n",
       "</style>\n",
       "<table border=\"1\" class=\"dataframe\">\n",
       "  <thead>\n",
       "    <tr style=\"text-align: right;\">\n",
       "      <th></th>\n",
       "      <th>rating_id</th>\n",
       "      <th>book_id</th>\n",
       "      <th>username</th>\n",
       "      <th>rating</th>\n",
       "    </tr>\n",
       "  </thead>\n",
       "  <tbody>\n",
       "    <tr>\n",
       "      <th>0</th>\n",
       "      <td>1</td>\n",
       "      <td>1</td>\n",
       "      <td>ryanfranco</td>\n",
       "      <td>4</td>\n",
       "    </tr>\n",
       "    <tr>\n",
       "      <th>1</th>\n",
       "      <td>2</td>\n",
       "      <td>1</td>\n",
       "      <td>grantpatricia</td>\n",
       "      <td>2</td>\n",
       "    </tr>\n",
       "    <tr>\n",
       "      <th>2</th>\n",
       "      <td>3</td>\n",
       "      <td>1</td>\n",
       "      <td>brandtandrea</td>\n",
       "      <td>5</td>\n",
       "    </tr>\n",
       "    <tr>\n",
       "      <th>3</th>\n",
       "      <td>4</td>\n",
       "      <td>2</td>\n",
       "      <td>lorichen</td>\n",
       "      <td>3</td>\n",
       "    </tr>\n",
       "    <tr>\n",
       "      <th>4</th>\n",
       "      <td>5</td>\n",
       "      <td>2</td>\n",
       "      <td>mariokeller</td>\n",
       "      <td>2</td>\n",
       "    </tr>\n",
       "  </tbody>\n",
       "</table>\n",
       "</div>"
      ],
      "text/plain": [
       "   rating_id  book_id       username  rating\n",
       "0          1        1     ryanfranco       4\n",
       "1          2        1  grantpatricia       2\n",
       "2          3        1   brandtandrea       5\n",
       "3          4        2       lorichen       3\n",
       "4          5        2    mariokeller       2"
      ]
     },
     "metadata": {},
     "output_type": "display_data"
    },
    {
     "data": {
      "text/html": [
       "<div>\n",
       "<style scoped>\n",
       "    .dataframe tbody tr th:only-of-type {\n",
       "        vertical-align: middle;\n",
       "    }\n",
       "\n",
       "    .dataframe tbody tr th {\n",
       "        vertical-align: top;\n",
       "    }\n",
       "\n",
       "    .dataframe thead th {\n",
       "        text-align: right;\n",
       "    }\n",
       "</style>\n",
       "<table border=\"1\" class=\"dataframe\">\n",
       "  <thead>\n",
       "    <tr style=\"text-align: right;\">\n",
       "      <th></th>\n",
       "      <th>review_id</th>\n",
       "      <th>book_id</th>\n",
       "      <th>username</th>\n",
       "      <th>text</th>\n",
       "    </tr>\n",
       "  </thead>\n",
       "  <tbody>\n",
       "    <tr>\n",
       "      <th>0</th>\n",
       "      <td>1</td>\n",
       "      <td>1</td>\n",
       "      <td>brandtandrea</td>\n",
       "      <td>Mention society tell send professor analysis. ...</td>\n",
       "    </tr>\n",
       "    <tr>\n",
       "      <th>1</th>\n",
       "      <td>2</td>\n",
       "      <td>1</td>\n",
       "      <td>ryanfranco</td>\n",
       "      <td>Foot glass pretty audience hit themselves. Amo...</td>\n",
       "    </tr>\n",
       "    <tr>\n",
       "      <th>2</th>\n",
       "      <td>3</td>\n",
       "      <td>2</td>\n",
       "      <td>lorichen</td>\n",
       "      <td>Listen treat keep worry. Miss husband tax but ...</td>\n",
       "    </tr>\n",
       "    <tr>\n",
       "      <th>3</th>\n",
       "      <td>4</td>\n",
       "      <td>3</td>\n",
       "      <td>johnsonamanda</td>\n",
       "      <td>Finally month interesting blue could nature cu...</td>\n",
       "    </tr>\n",
       "    <tr>\n",
       "      <th>4</th>\n",
       "      <td>5</td>\n",
       "      <td>3</td>\n",
       "      <td>scotttamara</td>\n",
       "      <td>Nation purpose heavy give wait song will. List...</td>\n",
       "    </tr>\n",
       "  </tbody>\n",
       "</table>\n",
       "</div>"
      ],
      "text/plain": [
       "   review_id  book_id       username  \\\n",
       "0          1        1   brandtandrea   \n",
       "1          2        1     ryanfranco   \n",
       "2          3        2       lorichen   \n",
       "3          4        3  johnsonamanda   \n",
       "4          5        3    scotttamara   \n",
       "\n",
       "                                                text  \n",
       "0  Mention society tell send professor analysis. ...  \n",
       "1  Foot glass pretty audience hit themselves. Amo...  \n",
       "2  Listen treat keep worry. Miss husband tax but ...  \n",
       "3  Finally month interesting blue could nature cu...  \n",
       "4  Nation purpose heavy give wait song will. List...  "
      ]
     },
     "metadata": {},
     "output_type": "display_data"
    },
    {
     "data": {
      "text/html": [
       "<div>\n",
       "<style scoped>\n",
       "    .dataframe tbody tr th:only-of-type {\n",
       "        vertical-align: middle;\n",
       "    }\n",
       "\n",
       "    .dataframe tbody tr th {\n",
       "        vertical-align: top;\n",
       "    }\n",
       "\n",
       "    .dataframe thead th {\n",
       "        text-align: right;\n",
       "    }\n",
       "</style>\n",
       "<table border=\"1\" class=\"dataframe\">\n",
       "  <thead>\n",
       "    <tr style=\"text-align: right;\">\n",
       "      <th></th>\n",
       "      <th>publisher_id</th>\n",
       "      <th>publisher</th>\n",
       "    </tr>\n",
       "  </thead>\n",
       "  <tbody>\n",
       "    <tr>\n",
       "      <th>0</th>\n",
       "      <td>1</td>\n",
       "      <td>Ace</td>\n",
       "    </tr>\n",
       "    <tr>\n",
       "      <th>1</th>\n",
       "      <td>2</td>\n",
       "      <td>Ace Book</td>\n",
       "    </tr>\n",
       "    <tr>\n",
       "      <th>2</th>\n",
       "      <td>3</td>\n",
       "      <td>Ace Books</td>\n",
       "    </tr>\n",
       "    <tr>\n",
       "      <th>3</th>\n",
       "      <td>4</td>\n",
       "      <td>Ace Hardcover</td>\n",
       "    </tr>\n",
       "    <tr>\n",
       "      <th>4</th>\n",
       "      <td>5</td>\n",
       "      <td>Addison Wesley Publishing Company</td>\n",
       "    </tr>\n",
       "  </tbody>\n",
       "</table>\n",
       "</div>"
      ],
      "text/plain": [
       "   publisher_id                          publisher\n",
       "0             1                                Ace\n",
       "1             2                           Ace Book\n",
       "2             3                          Ace Books\n",
       "3             4                      Ace Hardcover\n",
       "4             5  Addison Wesley Publishing Company"
      ]
     },
     "metadata": {},
     "output_type": "display_data"
    },
    {
     "data": {
      "text/plain": [
       "[None, None, None, None, None]"
      ]
     },
     "execution_count": 2,
     "metadata": {},
     "output_type": "execute_result"
    }
   ],
   "source": [
    "# вывод первых 5 строк таблиц\n",
    "dbs = ['books', 'authors', 'ratings', 'reviews', 'publishers']\n",
    "\n",
    "[display(pd.io.sql.read_sql(''' SELECT * FROM {} LIMIT 5'''.format(i), con = engine)) for i in dbs]\n"
   ]
  },
  {
   "cell_type": "markdown",
   "metadata": {},
   "source": [
    "### Посчитайте, сколько книг вышло после 1 января 2000 года"
   ]
  },
  {
   "cell_type": "code",
   "execution_count": 3,
   "metadata": {},
   "outputs": [
    {
     "data": {
      "text/html": [
       "<div>\n",
       "<style scoped>\n",
       "    .dataframe tbody tr th:only-of-type {\n",
       "        vertical-align: middle;\n",
       "    }\n",
       "\n",
       "    .dataframe tbody tr th {\n",
       "        vertical-align: top;\n",
       "    }\n",
       "\n",
       "    .dataframe thead th {\n",
       "        text-align: right;\n",
       "    }\n",
       "</style>\n",
       "<table border=\"1\" class=\"dataframe\">\n",
       "  <thead>\n",
       "    <tr style=\"text-align: right;\">\n",
       "      <th></th>\n",
       "      <th>count</th>\n",
       "    </tr>\n",
       "  </thead>\n",
       "  <tbody>\n",
       "    <tr>\n",
       "      <th>0</th>\n",
       "      <td>819</td>\n",
       "    </tr>\n",
       "  </tbody>\n",
       "</table>\n",
       "</div>"
      ],
      "text/plain": [
       "   count\n",
       "0    819"
      ]
     },
     "execution_count": 3,
     "metadata": {},
     "output_type": "execute_result"
    }
   ],
   "source": [
    "query = ''' SELECT COUNT(*)\n",
    "            FROM books\n",
    "            WHERE publication_date > '2000-01-01'\n",
    "        '''\n",
    "\n",
    "pd.io.sql.read_sql(query, con = engine) "
   ]
  },
  {
   "cell_type": "markdown",
   "metadata": {},
   "source": [
    "После 1 января 2000 года вышло 819 книг."
   ]
  },
  {
   "cell_type": "markdown",
   "metadata": {},
   "source": [
    "### Для каждой книги посчитайте количество обзоров и среднюю оценку"
   ]
  },
  {
   "cell_type": "code",
   "execution_count": 4,
   "metadata": {},
   "outputs": [
    {
     "data": {
      "text/html": [
       "<div>\n",
       "<style scoped>\n",
       "    .dataframe tbody tr th:only-of-type {\n",
       "        vertical-align: middle;\n",
       "    }\n",
       "\n",
       "    .dataframe tbody tr th {\n",
       "        vertical-align: top;\n",
       "    }\n",
       "\n",
       "    .dataframe thead th {\n",
       "        text-align: right;\n",
       "    }\n",
       "</style>\n",
       "<table border=\"1\" class=\"dataframe\">\n",
       "  <thead>\n",
       "    <tr style=\"text-align: right;\">\n",
       "      <th></th>\n",
       "      <th>title</th>\n",
       "      <th>avg_rating</th>\n",
       "      <th>num_reviews</th>\n",
       "    </tr>\n",
       "  </thead>\n",
       "  <tbody>\n",
       "    <tr>\n",
       "      <th>0</th>\n",
       "      <td>Twilight (Twilight  #1)</td>\n",
       "      <td>3.662500</td>\n",
       "      <td>7</td>\n",
       "    </tr>\n",
       "    <tr>\n",
       "      <th>1</th>\n",
       "      <td>Harry Potter and the Prisoner of Azkaban (Harr...</td>\n",
       "      <td>4.414634</td>\n",
       "      <td>6</td>\n",
       "    </tr>\n",
       "    <tr>\n",
       "      <th>2</th>\n",
       "      <td>Harry Potter and the Chamber of Secrets (Harry...</td>\n",
       "      <td>4.287500</td>\n",
       "      <td>6</td>\n",
       "    </tr>\n",
       "    <tr>\n",
       "      <th>3</th>\n",
       "      <td>The Book Thief</td>\n",
       "      <td>4.264151</td>\n",
       "      <td>6</td>\n",
       "    </tr>\n",
       "    <tr>\n",
       "      <th>4</th>\n",
       "      <td>The Glass Castle</td>\n",
       "      <td>4.206897</td>\n",
       "      <td>6</td>\n",
       "    </tr>\n",
       "    <tr>\n",
       "      <th>5</th>\n",
       "      <td>Outlander (Outlander  #1)</td>\n",
       "      <td>4.125000</td>\n",
       "      <td>6</td>\n",
       "    </tr>\n",
       "    <tr>\n",
       "      <th>6</th>\n",
       "      <td>The Hobbit  or There and Back Again</td>\n",
       "      <td>4.125000</td>\n",
       "      <td>6</td>\n",
       "    </tr>\n",
       "    <tr>\n",
       "      <th>7</th>\n",
       "      <td>The Curious Incident of the Dog in the Night-Time</td>\n",
       "      <td>4.081081</td>\n",
       "      <td>6</td>\n",
       "    </tr>\n",
       "    <tr>\n",
       "      <th>8</th>\n",
       "      <td>The Lightning Thief (Percy Jackson and the Oly...</td>\n",
       "      <td>4.080645</td>\n",
       "      <td>6</td>\n",
       "    </tr>\n",
       "    <tr>\n",
       "      <th>9</th>\n",
       "      <td>Water for Elephants</td>\n",
       "      <td>3.977273</td>\n",
       "      <td>6</td>\n",
       "    </tr>\n",
       "  </tbody>\n",
       "</table>\n",
       "</div>"
      ],
      "text/plain": [
       "                                               title  avg_rating  num_reviews\n",
       "0                            Twilight (Twilight  #1)    3.662500            7\n",
       "1  Harry Potter and the Prisoner of Azkaban (Harr...    4.414634            6\n",
       "2  Harry Potter and the Chamber of Secrets (Harry...    4.287500            6\n",
       "3                                     The Book Thief    4.264151            6\n",
       "4                                   The Glass Castle    4.206897            6\n",
       "5                          Outlander (Outlander  #1)    4.125000            6\n",
       "6                The Hobbit  or There and Back Again    4.125000            6\n",
       "7  The Curious Incident of the Dog in the Night-Time    4.081081            6\n",
       "8  The Lightning Thief (Percy Jackson and the Oly...    4.080645            6\n",
       "9                                Water for Elephants    3.977273            6"
      ]
     },
     "execution_count": 4,
     "metadata": {},
     "output_type": "execute_result"
    }
   ],
   "source": [
    "query = ''' SELECT b.title, AVG(ra.rating) AS avg_rating, COUNT(DISTINCT re.review_id) AS num_reviews\n",
    "            FROM books AS b\n",
    "            JOIN ratings AS ra ON b.book_id = ra.book_id\n",
    "            JOIN reviews AS re ON b.book_id = re.book_id\n",
    "            GROUP BY b.title, b.book_id\n",
    "            ORDER BY num_reviews DESC, avg_rating DESC \n",
    "            LIMIT 10\n",
    "        '''\n",
    "\n",
    "pd.io.sql.read_sql(query, con = engine) "
   ]
  },
  {
   "cell_type": "markdown",
   "metadata": {},
   "source": [
    "Сумерки - самая хайповая книга, однако это не делает её лучшей. Но какая книга лучшая, этот запрос не даёт сказать, потому что у большого количества книг с рейтингом 5 по несколько отзывов, что говорит о нерепрезентативности таких результатов."
   ]
  },
  {
   "cell_type": "markdown",
   "metadata": {},
   "source": [
    "### Определите издательство, которое выпустило наибольшее число книг толще 50 страниц — так вы исключите из анализа брошюры"
   ]
  },
  {
   "cell_type": "code",
   "execution_count": 5,
   "metadata": {},
   "outputs": [
    {
     "data": {
      "text/html": [
       "<div>\n",
       "<style scoped>\n",
       "    .dataframe tbody tr th:only-of-type {\n",
       "        vertical-align: middle;\n",
       "    }\n",
       "\n",
       "    .dataframe tbody tr th {\n",
       "        vertical-align: top;\n",
       "    }\n",
       "\n",
       "    .dataframe thead th {\n",
       "        text-align: right;\n",
       "    }\n",
       "</style>\n",
       "<table border=\"1\" class=\"dataframe\">\n",
       "  <thead>\n",
       "    <tr style=\"text-align: right;\">\n",
       "      <th></th>\n",
       "      <th>publisher</th>\n",
       "      <th>num_books</th>\n",
       "    </tr>\n",
       "  </thead>\n",
       "  <tbody>\n",
       "    <tr>\n",
       "      <th>0</th>\n",
       "      <td>Penguin Books</td>\n",
       "      <td>42</td>\n",
       "    </tr>\n",
       "  </tbody>\n",
       "</table>\n",
       "</div>"
      ],
      "text/plain": [
       "       publisher  num_books\n",
       "0  Penguin Books         42"
      ]
     },
     "execution_count": 5,
     "metadata": {},
     "output_type": "execute_result"
    }
   ],
   "source": [
    "query = ''' SELECT p.publisher, COUNT(b.book_id) AS num_books\n",
    "            FROM books AS b \n",
    "            JOIN publishers AS p ON b.publisher_id = p.publisher_id \n",
    "            WHERE b.num_pages > 50\n",
    "            GROUP BY p.publisher\n",
    "            ORDER BY num_books DESC\n",
    "            LIMIT 1\n",
    "        '''\n",
    "\n",
    "pd.io.sql.read_sql(query, con = engine) "
   ]
  },
  {
   "cell_type": "markdown",
   "metadata": {},
   "source": [
    "Похоже, что `Penguin Books` - самое достойное издание. Они выпустили 42 полноценных книги."
   ]
  },
  {
   "cell_type": "markdown",
   "metadata": {},
   "source": [
    "### Определите автора с самой высокой средней оценкой книг — учитывайте только книги с 50 и более оценками"
   ]
  },
  {
   "cell_type": "code",
   "execution_count": 6,
   "metadata": {},
   "outputs": [
    {
     "data": {
      "text/html": [
       "<div>\n",
       "<style scoped>\n",
       "    .dataframe tbody tr th:only-of-type {\n",
       "        vertical-align: middle;\n",
       "    }\n",
       "\n",
       "    .dataframe tbody tr th {\n",
       "        vertical-align: top;\n",
       "    }\n",
       "\n",
       "    .dataframe thead th {\n",
       "        text-align: right;\n",
       "    }\n",
       "</style>\n",
       "<table border=\"1\" class=\"dataframe\">\n",
       "  <thead>\n",
       "    <tr style=\"text-align: right;\">\n",
       "      <th></th>\n",
       "      <th>author</th>\n",
       "      <th>avg_rating</th>\n",
       "    </tr>\n",
       "  </thead>\n",
       "  <tbody>\n",
       "    <tr>\n",
       "      <th>0</th>\n",
       "      <td>J.K. Rowling/Mary GrandPré</td>\n",
       "      <td>4.283844</td>\n",
       "    </tr>\n",
       "  </tbody>\n",
       "</table>\n",
       "</div>"
      ],
      "text/plain": [
       "                       author  avg_rating\n",
       "0  J.K. Rowling/Mary GrandPré    4.283844"
      ]
     },
     "execution_count": 6,
     "metadata": {},
     "output_type": "execute_result"
    }
   ],
   "source": [
    "query = ''' SELECT x.author AS author, AVG(x.avg_rating) AS avg_rating\n",
    "            FROM (SELECT a.author AS author, \n",
    "                    b.book_id AS id, \n",
    "                    AVG(ra.rating) AS avg_rating,\n",
    "                    COUNT(ra.rating)\n",
    "                    FROM authors AS a\n",
    "                    JOIN books AS b ON b.author_id = a.author_id\n",
    "                    JOIN ratings AS ra ON ra.book_id = b.book_id\n",
    "                    GROUP BY author, id\n",
    "                    HAVING COUNT(ra.rating) >= 50) AS x\n",
    "            GROUP BY author\n",
    "            ORDER BY avg_rating DESC\n",
    "            LIMIT 1\n",
    "        '''\n",
    "\n",
    "pd.io.sql.read_sql(query, con = engine) "
   ]
  },
  {
   "cell_type": "markdown",
   "metadata": {},
   "source": [
    "Тандем Джоан Роулинг и Мари ГрандПре позволил создать настоящую сказку о Мальчике, который выжил, которая тронула сердца миллионов детей и взрослых по всему миру. И рейтинги это только подтверждают."
   ]
  },
  {
   "cell_type": "markdown",
   "metadata": {},
   "source": [
    "### Посчитайте среднее количество обзоров от пользователей, которые поставили больше 50 оценок"
   ]
  },
  {
   "cell_type": "code",
   "execution_count": 7,
   "metadata": {},
   "outputs": [
    {
     "data": {
      "text/html": [
       "<div>\n",
       "<style scoped>\n",
       "    .dataframe tbody tr th:only-of-type {\n",
       "        vertical-align: middle;\n",
       "    }\n",
       "\n",
       "    .dataframe tbody tr th {\n",
       "        vertical-align: top;\n",
       "    }\n",
       "\n",
       "    .dataframe thead th {\n",
       "        text-align: right;\n",
       "    }\n",
       "</style>\n",
       "<table border=\"1\" class=\"dataframe\">\n",
       "  <thead>\n",
       "    <tr style=\"text-align: right;\">\n",
       "      <th></th>\n",
       "      <th>avg_num_reviews</th>\n",
       "    </tr>\n",
       "  </thead>\n",
       "  <tbody>\n",
       "    <tr>\n",
       "      <th>0</th>\n",
       "      <td>24.333333</td>\n",
       "    </tr>\n",
       "  </tbody>\n",
       "</table>\n",
       "</div>"
      ],
      "text/plain": [
       "   avg_num_reviews\n",
       "0        24.333333"
      ]
     },
     "execution_count": 7,
     "metadata": {},
     "output_type": "execute_result"
    }
   ],
   "source": [
    "query = ''' SELECT AVG(num_reviews) AS avg_num_reviews\n",
    "            FROM (SELECT username, COUNT(text) AS num_reviews\n",
    "                    FROM reviews AS re\n",
    "                    FULL OUTER JOIN books AS b ON b.book_id = re.book_id\n",
    "                    GROUP BY username) AS x\n",
    "            JOIN (SELECT username, COUNT(rating) AS num_rating\n",
    "                    FROM ratings\n",
    "                    GROUP BY username\n",
    "                    HAVING COUNT(rating) > 50) AS y ON x.username = y.username\n",
    "        '''\n",
    "\n",
    "pd.io.sql.read_sql(query, con = engine) "
   ]
  },
  {
   "cell_type": "markdown",
   "metadata": {},
   "source": [
    "В среднем активный пользователь пишет 24.33 обзора. Действительно активный, не все за свою жизнь столько книг смогут осилить."
   ]
  },
  {
   "cell_type": "markdown",
   "metadata": {},
   "source": [
    "## Выводы\n",
    "* У нас есть информация по самому активному издательству - `Penguin Books`. Это самый приоритетный партнёр.\n",
    "* Запросы с самыми популярными книгами и самыми высоко оценёнными авторов позволяют нам сформировать нашу библиотеку начинная с этих книг и книг от этих авторов соответственно.\n",
    "* Запрос с самыми популярными книгами показал, что в основном люди высоко оценивают книги в жанре фэнтези. Возможно, стоит сформировать подписку из книг этого жанра.\n",
    "* У нас есть \"зеро поинт\" для оценки активных пользователей. Почему бы не подумать о поощрении активности со стороны пользователей и оформить скидку на подписку на следующий период?"
   ]
  }
 ],
 "metadata": {
  "ExecuteTimeLog": [
   {
    "duration": 94,
    "start_time": "2022-08-15T18:02:26.707Z"
   },
   {
    "duration": 10108,
    "start_time": "2022-08-15T18:02:40.326Z"
   },
   {
    "duration": 96,
    "start_time": "2022-08-15T18:05:26.019Z"
   },
   {
    "duration": 81,
    "start_time": "2022-08-15T18:11:23.756Z"
   },
   {
    "duration": 11,
    "start_time": "2022-08-15T18:13:40.914Z"
   },
   {
    "duration": 123,
    "start_time": "2022-08-15T18:15:13.716Z"
   },
   {
    "duration": 16,
    "start_time": "2022-08-15T18:15:55.584Z"
   },
   {
    "duration": 116,
    "start_time": "2022-08-15T18:25:07.371Z"
   },
   {
    "duration": 133,
    "start_time": "2022-08-15T18:26:40.786Z"
   },
   {
    "duration": 110,
    "start_time": "2022-08-15T18:26:59.850Z"
   },
   {
    "duration": 109,
    "start_time": "2022-08-15T18:27:18.408Z"
   },
   {
    "duration": 132,
    "start_time": "2022-08-15T18:28:09.231Z"
   },
   {
    "duration": 126,
    "start_time": "2022-08-15T18:28:16.534Z"
   },
   {
    "duration": 32,
    "start_time": "2022-08-15T18:28:25.080Z"
   },
   {
    "duration": 126,
    "start_time": "2022-08-15T18:31:42.883Z"
   },
   {
    "duration": 16,
    "start_time": "2022-08-15T18:32:20.584Z"
   },
   {
    "duration": 123,
    "start_time": "2022-08-15T18:32:45.334Z"
   },
   {
    "duration": 182,
    "start_time": "2022-08-15T18:33:18.951Z"
   },
   {
    "duration": 14,
    "start_time": "2022-08-15T18:33:39.209Z"
   },
   {
    "duration": 16,
    "start_time": "2022-08-15T18:33:56.845Z"
   },
   {
    "duration": 427,
    "start_time": "2022-08-15T18:35:13.901Z"
   },
   {
    "duration": 205,
    "start_time": "2022-08-15T18:35:59.515Z"
   },
   {
    "duration": 35,
    "start_time": "2022-08-15T18:36:14.888Z"
   },
   {
    "duration": 27,
    "start_time": "2022-08-15T18:42:46.324Z"
   },
   {
    "duration": 27,
    "start_time": "2022-08-15T18:43:40.938Z"
   },
   {
    "duration": 90,
    "start_time": "2022-08-15T18:45:48.989Z"
   },
   {
    "duration": 24,
    "start_time": "2022-08-15T18:45:59.052Z"
   },
   {
    "duration": 26,
    "start_time": "2022-08-15T18:46:04.957Z"
   },
   {
    "duration": 26,
    "start_time": "2022-08-15T18:46:45.304Z"
   },
   {
    "duration": 26,
    "start_time": "2022-08-15T18:46:56.629Z"
   },
   {
    "duration": 26,
    "start_time": "2022-08-15T18:48:44.231Z"
   },
   {
    "duration": 26,
    "start_time": "2022-08-15T18:48:52.319Z"
   },
   {
    "duration": 21,
    "start_time": "2022-08-15T18:49:15.860Z"
   },
   {
    "duration": 21,
    "start_time": "2022-08-15T18:50:08.627Z"
   },
   {
    "duration": 32,
    "start_time": "2022-08-15T18:50:32.003Z"
   },
   {
    "duration": 22,
    "start_time": "2022-08-15T18:50:52.941Z"
   },
   {
    "duration": 21,
    "start_time": "2022-08-15T18:51:07.551Z"
   },
   {
    "duration": 22,
    "start_time": "2022-08-15T18:51:27.021Z"
   },
   {
    "duration": 26,
    "start_time": "2022-08-15T18:51:41.107Z"
   },
   {
    "duration": 22,
    "start_time": "2022-08-15T18:51:58.322Z"
   },
   {
    "duration": 22,
    "start_time": "2022-08-15T18:52:02.228Z"
   },
   {
    "duration": 22,
    "start_time": "2022-08-15T18:52:07.308Z"
   },
   {
    "duration": 24,
    "start_time": "2022-08-15T18:52:10.920Z"
   },
   {
    "duration": 20,
    "start_time": "2022-08-15T18:52:37.747Z"
   },
   {
    "duration": 21,
    "start_time": "2022-08-15T19:00:23.915Z"
   },
   {
    "duration": 21,
    "start_time": "2022-08-15T19:01:19.303Z"
   },
   {
    "duration": 114,
    "start_time": "2022-08-15T19:01:37.405Z"
   },
   {
    "duration": 95,
    "start_time": "2022-08-15T19:02:28.335Z"
   },
   {
    "duration": 110,
    "start_time": "2022-08-15T19:10:16.265Z"
   },
   {
    "duration": 14,
    "start_time": "2022-08-15T19:10:31.574Z"
   },
   {
    "duration": 12,
    "start_time": "2022-08-15T19:11:01.627Z"
   },
   {
    "duration": 11,
    "start_time": "2022-08-15T19:11:14.593Z"
   },
   {
    "duration": 6003,
    "start_time": "2022-08-16T05:42:14.903Z"
   },
   {
    "duration": 283,
    "start_time": "2022-08-16T05:42:20.908Z"
   },
   {
    "duration": 86,
    "start_time": "2022-08-16T05:42:21.193Z"
   },
   {
    "duration": 76,
    "start_time": "2022-08-16T05:42:21.282Z"
   },
   {
    "duration": 75,
    "start_time": "2022-08-16T05:42:21.360Z"
   },
   {
    "duration": 207,
    "start_time": "2022-08-16T05:44:19.149Z"
   },
   {
    "duration": 187,
    "start_time": "2022-08-16T05:45:03.165Z"
   },
   {
    "duration": 711,
    "start_time": "2022-08-16T05:45:37.394Z"
   },
   {
    "duration": 137,
    "start_time": "2022-08-16T05:45:47.755Z"
   },
   {
    "duration": 142,
    "start_time": "2022-08-16T05:45:56.135Z"
   },
   {
    "duration": 1381,
    "start_time": "2022-08-16T05:46:23.875Z"
   },
   {
    "duration": 149,
    "start_time": "2022-08-16T05:47:00.505Z"
   },
   {
    "duration": 78,
    "start_time": "2022-08-16T05:47:30.994Z"
   },
   {
    "duration": 187,
    "start_time": "2022-08-16T05:53:24.086Z"
   },
   {
    "duration": 78,
    "start_time": "2022-08-16T05:54:03.148Z"
   },
   {
    "duration": 77,
    "start_time": "2022-08-16T05:54:26.198Z"
   },
   {
    "duration": 134,
    "start_time": "2022-08-16T05:54:52.652Z"
   },
   {
    "duration": 77,
    "start_time": "2022-08-16T05:55:19.571Z"
   },
   {
    "duration": 154,
    "start_time": "2022-08-16T05:59:50.896Z"
   },
   {
    "duration": 155,
    "start_time": "2022-08-16T06:00:18.850Z"
   },
   {
    "duration": 80,
    "start_time": "2022-08-16T06:01:01.741Z"
   },
   {
    "duration": 175,
    "start_time": "2022-08-16T06:01:21.817Z"
   },
   {
    "duration": 555,
    "start_time": "2022-08-16T06:01:26.557Z"
   },
   {
    "duration": 79,
    "start_time": "2022-08-16T06:07:39.434Z"
   },
   {
    "duration": 82,
    "start_time": "2022-08-16T06:19:48.538Z"
   },
   {
    "duration": 85,
    "start_time": "2022-08-16T06:46:49.109Z"
   },
   {
    "duration": 80,
    "start_time": "2022-08-16T06:48:24.733Z"
   },
   {
    "duration": 80,
    "start_time": "2022-08-16T06:48:29.974Z"
   },
   {
    "duration": 83,
    "start_time": "2022-08-16T06:48:40.089Z"
   },
   {
    "duration": 83,
    "start_time": "2022-08-16T06:53:04.840Z"
   },
   {
    "duration": 85,
    "start_time": "2022-08-16T07:01:00.938Z"
   },
   {
    "duration": 84,
    "start_time": "2022-08-16T07:01:07.287Z"
   },
   {
    "duration": 84,
    "start_time": "2022-08-16T07:03:22.143Z"
   },
   {
    "duration": 144,
    "start_time": "2022-08-16T07:19:35.047Z"
   },
   {
    "duration": 148,
    "start_time": "2022-08-16T07:20:40.911Z"
   },
   {
    "duration": 163,
    "start_time": "2022-08-16T07:22:11.579Z"
   },
   {
    "duration": 78,
    "start_time": "2022-08-16T07:23:38.678Z"
   },
   {
    "duration": 189,
    "start_time": "2022-08-16T07:26:46.665Z"
   },
   {
    "duration": 136,
    "start_time": "2022-08-16T07:28:40.376Z"
   },
   {
    "duration": 136,
    "start_time": "2022-08-16T07:28:58.086Z"
   },
   {
    "duration": 153,
    "start_time": "2022-08-16T07:29:41.107Z"
   },
   {
    "duration": 143,
    "start_time": "2022-08-16T07:29:48.661Z"
   },
   {
    "duration": 146,
    "start_time": "2022-08-16T07:30:11.016Z"
   },
   {
    "duration": 825,
    "start_time": "2022-08-16T07:30:26.830Z"
   },
   {
    "duration": 81,
    "start_time": "2022-08-16T07:34:42.822Z"
   },
   {
    "duration": 77,
    "start_time": "2022-08-16T07:35:39.449Z"
   },
   {
    "duration": 96,
    "start_time": "2022-08-16T07:36:10.985Z"
   },
   {
    "duration": 82,
    "start_time": "2022-08-16T07:36:31.963Z"
   },
   {
    "duration": 77,
    "start_time": "2022-08-16T07:37:14.246Z"
   },
   {
    "duration": 79,
    "start_time": "2022-08-16T07:44:55.361Z"
   },
   {
    "duration": 174,
    "start_time": "2022-08-16T07:57:44.977Z"
   },
   {
    "duration": 198,
    "start_time": "2022-08-16T07:57:58.864Z"
   },
   {
    "duration": 96,
    "start_time": "2022-08-16T08:01:27.543Z"
   },
   {
    "duration": 6,
    "start_time": "2022-08-16T08:01:35.762Z"
   },
   {
    "duration": 10,
    "start_time": "2022-08-16T08:01:57.058Z"
   },
   {
    "duration": 424,
    "start_time": "2022-08-16T08:02:06.704Z"
   },
   {
    "duration": 450,
    "start_time": "2022-08-16T08:02:31.102Z"
   },
   {
    "duration": 376,
    "start_time": "2022-08-16T08:03:25.341Z"
   },
   {
    "duration": 369,
    "start_time": "2022-08-16T08:04:38.324Z"
   },
   {
    "duration": 133,
    "start_time": "2022-08-16T08:06:44.210Z"
   },
   {
    "duration": 85,
    "start_time": "2022-08-16T08:06:54.781Z"
   },
   {
    "duration": 85,
    "start_time": "2022-08-16T08:07:11.648Z"
   },
   {
    "duration": 78,
    "start_time": "2022-08-16T08:12:08.184Z"
   },
   {
    "duration": 84,
    "start_time": "2022-08-16T08:18:19.768Z"
   },
   {
    "duration": 139,
    "start_time": "2022-08-16T08:18:49.756Z"
   },
   {
    "duration": 86,
    "start_time": "2022-08-16T08:18:53.142Z"
   },
   {
    "duration": 7242,
    "start_time": "2022-08-16T08:19:13.760Z"
   },
   {
    "duration": 555,
    "start_time": "2022-08-16T08:19:21.004Z"
   },
   {
    "duration": 74,
    "start_time": "2022-08-16T08:19:21.561Z"
   },
   {
    "duration": 86,
    "start_time": "2022-08-16T08:19:21.636Z"
   },
   {
    "duration": 76,
    "start_time": "2022-08-16T08:19:21.724Z"
   },
   {
    "duration": 80,
    "start_time": "2022-08-16T08:19:21.802Z"
   },
   {
    "duration": 76,
    "start_time": "2022-08-16T08:19:21.884Z"
   },
   {
    "duration": 9400,
    "start_time": "2022-08-16T09:27:38.370Z"
   },
   {
    "duration": 582,
    "start_time": "2022-08-16T09:27:47.772Z"
   },
   {
    "duration": 76,
    "start_time": "2022-08-16T09:27:48.356Z"
   },
   {
    "duration": 88,
    "start_time": "2022-08-16T09:27:48.434Z"
   },
   {
    "duration": 77,
    "start_time": "2022-08-16T09:27:48.524Z"
   },
   {
    "duration": 84,
    "start_time": "2022-08-16T09:27:48.602Z"
   },
   {
    "duration": 80,
    "start_time": "2022-08-16T09:27:48.687Z"
   },
   {
    "duration": 47,
    "start_time": "2022-08-16T09:49:21.971Z"
   },
   {
    "duration": 7243,
    "start_time": "2022-08-16T09:49:25.170Z"
   },
   {
    "duration": 560,
    "start_time": "2022-08-16T09:49:32.415Z"
   },
   {
    "duration": 75,
    "start_time": "2022-08-16T09:49:32.976Z"
   },
   {
    "duration": 94,
    "start_time": "2022-08-16T09:49:33.053Z"
   },
   {
    "duration": 78,
    "start_time": "2022-08-16T09:49:33.149Z"
   },
   {
    "duration": 82,
    "start_time": "2022-08-16T09:49:33.228Z"
   },
   {
    "duration": 80,
    "start_time": "2022-08-16T09:49:33.311Z"
   },
   {
    "duration": 85,
    "start_time": "2022-08-16T09:49:58.503Z"
   },
   {
    "duration": 87,
    "start_time": "2022-08-16T09:50:25.067Z"
   },
   {
    "duration": 107,
    "start_time": "2022-08-16T09:51:06.737Z"
   },
   {
    "duration": 109,
    "start_time": "2022-08-16T09:51:55.411Z"
   },
   {
    "duration": 103,
    "start_time": "2022-08-16T09:52:13.340Z"
   },
   {
    "duration": 84,
    "start_time": "2022-08-16T09:52:48.896Z"
   },
   {
    "duration": 94,
    "start_time": "2022-08-16T09:53:01.558Z"
   },
   {
    "duration": 110,
    "start_time": "2022-08-16T09:55:46.266Z"
   },
   {
    "duration": 103,
    "start_time": "2022-08-16T09:56:10.522Z"
   },
   {
    "duration": 90,
    "start_time": "2022-08-16T09:56:37.615Z"
   },
   {
    "duration": 103,
    "start_time": "2022-08-16T09:57:00.632Z"
   },
   {
    "duration": 84,
    "start_time": "2022-08-16T09:57:24.951Z"
   },
   {
    "duration": 87,
    "start_time": "2022-08-16T09:57:31.189Z"
   },
   {
    "duration": 85,
    "start_time": "2022-08-16T09:57:52.962Z"
   },
   {
    "duration": 84,
    "start_time": "2022-08-16T09:57:59.154Z"
   },
   {
    "duration": 82,
    "start_time": "2022-08-16T09:58:05.300Z"
   },
   {
    "duration": 87,
    "start_time": "2022-08-16T09:58:24.460Z"
   },
   {
    "duration": 86,
    "start_time": "2022-08-16T09:59:54.615Z"
   },
   {
    "duration": 85,
    "start_time": "2022-08-16T09:59:58.976Z"
   },
   {
    "duration": 85,
    "start_time": "2022-08-16T10:00:23.808Z"
   },
   {
    "duration": 85,
    "start_time": "2022-08-16T10:01:24.426Z"
   },
   {
    "duration": 102,
    "start_time": "2022-08-16T10:01:35.598Z"
   },
   {
    "duration": 12681,
    "start_time": "2022-08-16T12:16:26.271Z"
   },
   {
    "duration": 566,
    "start_time": "2022-08-16T12:16:38.955Z"
   },
   {
    "duration": 75,
    "start_time": "2022-08-16T12:16:39.523Z"
   },
   {
    "duration": 92,
    "start_time": "2022-08-16T12:16:39.600Z"
   },
   {
    "duration": 82,
    "start_time": "2022-08-16T12:16:39.694Z"
   },
   {
    "duration": 82,
    "start_time": "2022-08-16T12:16:39.778Z"
   },
   {
    "duration": 77,
    "start_time": "2022-08-16T12:16:39.862Z"
   },
   {
    "duration": 9151,
    "start_time": "2022-08-16T13:24:17.804Z"
   },
   {
    "duration": 528,
    "start_time": "2022-08-16T13:24:26.957Z"
   },
   {
    "duration": 70,
    "start_time": "2022-08-16T13:24:27.486Z"
   },
   {
    "duration": 85,
    "start_time": "2022-08-16T13:24:27.558Z"
   },
   {
    "duration": 73,
    "start_time": "2022-08-16T13:24:27.644Z"
   },
   {
    "duration": 76,
    "start_time": "2022-08-16T13:24:27.719Z"
   },
   {
    "duration": 74,
    "start_time": "2022-08-16T13:24:27.796Z"
   }
  ],
  "kernelspec": {
   "display_name": "Python 3 (ipykernel)",
   "language": "python",
   "name": "python3"
  },
  "language_info": {
   "codemirror_mode": {
    "name": "ipython",
    "version": 3
   },
   "file_extension": ".py",
   "mimetype": "text/x-python",
   "name": "python",
   "nbconvert_exporter": "python",
   "pygments_lexer": "ipython3",
   "version": "3.9.12"
  },
  "toc": {
   "base_numbering": 1,
   "nav_menu": {},
   "number_sections": true,
   "sideBar": true,
   "skip_h1_title": true,
   "title_cell": "Table of Contents",
   "title_sidebar": "Contents",
   "toc_cell": false,
   "toc_position": {},
   "toc_section_display": true,
   "toc_window_display": false
  }
 },
 "nbformat": 4,
 "nbformat_minor": 2
}
